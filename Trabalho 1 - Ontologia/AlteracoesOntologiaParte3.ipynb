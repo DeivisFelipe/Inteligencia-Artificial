{
 "cells": [
  {
   "cell_type": "code",
   "execution_count": 17,
   "metadata": {},
   "outputs": [],
   "source": [
    "# Esse arquivo serve para adicionar mais dados na ontologia\n",
    "# Autor: Deivis Felipe Guerreiro Fagundes\n",
    "# Data: 21/05/2023"
   ]
  },
  {
   "cell_type": "code",
   "execution_count": 18,
   "metadata": {},
   "outputs": [],
   "source": [
    "# Faz o import das bibliotecas\n",
    "# Selenium é uma biblioteca para fazer o scraping de dados\n",
    "# Pandas é uma biblioteca para manipular os dados\n",
    "# Time é uma biblioteca para fazer o programa esperar um tempo\n",
    "# BeautifulSoup é uma biblioteca para fazer o scraping de dados\n",
    "# OWLReady2 é uma biblioteca para criar ontologias em OWL\n",
    "import pandas as pd\n",
    "import time\n",
    "import os\n",
    "# biblioteca para criar ontologias usando rdflib\n",
    "from rdflib import Graph, Literal, RDF, URIRef, Namespace, OWL, RDFS\n"
   ]
  },
  {
   "cell_type": "code",
   "execution_count": 19,
   "metadata": {},
   "outputs": [],
   "source": [
    "# Inizializa a ontologia\n",
    "\n",
    "# Verifica se o arquivo da ontologia existe, se existir abre ele\n",
    "if os.path.isfile(\"ontologia.owl\"):\n",
    "    # abre o arquivo da ontologia\n",
    "    onto = Graph().parse(\"ontologia.owl\")\n",
    "\n",
    "onto.namespace_manager.bind(\"OntologiaVirus\", URIRef(\"http://www.semanticweb.org/deivis/ontologies/2021/5/OntologiaVirus#\"))"
   ]
  },
  {
   "cell_type": "code",
   "execution_count": 20,
   "metadata": {},
   "outputs": [
    {
     "data": {
      "text/plain": [
       "<Graph identifier=N725dc7a12b3c451da0caeddd359e34eb (<class 'rdflib.graph.Graph'>)>"
      ]
     },
     "execution_count": 20,
     "metadata": {},
     "output_type": "execute_result"
    }
   ],
   "source": [
    "# Cria a hierarquia de classes cientificas dos seres vivos\n",
    "# Reino -> Filo -> Classe -> Ordem -> Familia -> Genero -> Especie\n",
    "\n",
    "# Cria a classe Reino\n",
    "onto.add((URIRef(\"http://www.semanticweb.org/deivis/ontologies/2023/5/OntologiaVirus#Reino\"), RDF.type, OWL.Class))\n",
    "\n",
    "# Cria a classe Filo\n",
    "onto.add((URIRef(\"http://www.semanticweb.org/deivis/ontologies/2023/5/OntologiaVirus#Filo\"), RDF.type, OWL.Class))\n",
    "# Bota como subclasse de Reino\n",
    "onto.add((URIRef(\"http://www.semanticweb.org/deivis/ontologies/2023/5/OntologiaVirus#Filo\"), RDFS.subClassOf, URIRef(\"http://www.semanticweb.org/deivis/ontologies/2023/5/OntologiaVirus#Reino\")))\n",
    "\n",
    "# Cria a classe Classe\n",
    "onto.add((URIRef(\"http://www.semanticweb.org/deivis/ontologies/2023/5/OntologiaVirus#Classe\"), RDF.type, OWL.Class))\n",
    "# Bota como subclasse de Filo\n",
    "onto.add((URIRef(\"http://www.semanticweb.org/deivis/ontologies/2023/5/OntologiaVirus#Classe\"), RDFS.subClassOf, URIRef(\"http://www.semanticweb.org/deivis/ontologies/2023/5/OntologiaVirus#Filo\")))\n",
    "\n",
    "# Cria a classe Ordem\n",
    "onto.add((URIRef(\"http://www.semanticweb.org/deivis/ontologies/2023/5/OntologiaVirus#Ordem\"), RDF.type, OWL.Class))\n",
    "# Bota como subclasse de Classe\n",
    "onto.add((URIRef(\"http://www.semanticweb.org/deivis/ontologies/2023/5/OntologiaVirus#Ordem\"), RDFS.subClassOf, URIRef(\"http://www.semanticweb.org/deivis/ontologies/2023/5/OntologiaVirus#Classe\")))\n",
    "\n",
    "# Cria a classe Familia\n",
    "onto.add((URIRef(\"http://www.semanticweb.org/deivis/ontologies/2023/5/OntologiaVirus#Familia\"), RDF.type, OWL.Class))\n",
    "# Bota como subclasse de Ordem\n",
    "onto.add((URIRef(\"http://www.semanticweb.org/deivis/ontologies/2023/5/OntologiaVirus#Familia\"), RDFS.subClassOf, URIRef(\"http://www.semanticweb.org/deivis/ontologies/2023/5/OntologiaVirus#Ordem\")))\n",
    "\n",
    "# Cria a classe Genero\n",
    "onto.add((URIRef(\"http://www.semanticweb.org/deivis/ontologies/2023/5/OntologiaVirus#Genero\"), RDF.type, OWL.Class))\n",
    "# Bota como subclasse de Familia\n",
    "onto.add((URIRef(\"http://www.semanticweb.org/deivis/ontologies/2023/5/OntologiaVirus#Genero\"), RDFS.subClassOf, URIRef(\"http://www.semanticweb.org/deivis/ontologies/2023/5/OntologiaVirus#Familia\")))\n",
    "\n",
    "# Cria a classe Especie\n",
    "onto.add((URIRef(\"http://www.semanticweb.org/deivis/ontologies/2023/5/OntologiaVirus#Especie\"), RDF.type, OWL.Class))\n",
    "# Bota como subclasse de Genero\n",
    "onto.add((URIRef(\"http://www.semanticweb.org/deivis/ontologies/2023/5/OntologiaVirus#Especie\"), RDFS.subClassOf, URIRef(\"http://www.semanticweb.org/deivis/ontologies/2023/5/OntologiaVirus#Genero\")))"
   ]
  },
  {
   "cell_type": "code",
   "execution_count": 21,
   "metadata": {},
   "outputs": [
    {
     "data": {
      "text/plain": [
       "<Graph identifier=N725dc7a12b3c451da0caeddd359e34eb (<class 'rdflib.graph.Graph'>)>"
      ]
     },
     "execution_count": 21,
     "metadata": {},
     "output_type": "execute_result"
    }
   ],
   "source": [
    "# Insere instancias na ontologia de seres vivos\n",
    "\n",
    "# Cria uma instancia de Reino\n",
    "onto.add((URIRef(\"http://www.semanticweb.org/deivis/ontologies/2023/5/OntologiaVirus#Animalia\"), RDF.type, URIRef(\"http://www.semanticweb.org/deivis/ontologies/2023/5/OntologiaVirus#Reino\")))\n",
    "\n",
    "# Cria uma instancia de Filo\n",
    "onto.add((URIRef(\"http://www.semanticweb.org/deivis/ontologies/2023/5/OntologiaVirus#Chordata\"), RDF.type, URIRef(\"http://www.semanticweb.org/deivis/ontologies/2023/5/OntologiaVirus#Filo\")))\n",
    "\n",
    "# Cria uma instancia de Classe\n",
    "onto.add((URIRef(\"http://www.semanticweb.org/deivis/ontologies/2023/5/OntologiaVirus#Mammalia\"), RDF.type, URIRef(\"http://www.semanticweb.org/deivis/ontologies/2023/5/OntologiaVirus#Classe\")))\n",
    "\n",
    "# Cria uma instancia de Ordem\n",
    "onto.add((URIRef(\"http://www.semanticweb.org/deivis/ontologies/2023/5/OntologiaVirus#Carnivora\"), RDF.type, URIRef(\"http://www.semanticweb.org/deivis/ontologies/2023/5/OntologiaVirus#Ordem\")))\n",
    "\n",
    "# Cria uma instancia de Familia\n",
    "onto.add((URIRef(\"http://www.semanticweb.org/deivis/ontologies/2023/5/OntologiaVirus#Felidae\"), RDF.type, URIRef(\"http://www.semanticweb.org/deivis/ontologies/2023/5/OntologiaVirus#Familia\")))\n",
    "\n",
    "# Cria uma instancia de Genero\n",
    "onto.add((URIRef(\"http://www.semanticweb.org/deivis/ontologies/2023/5/OntologiaVirus#Panthera\"), RDF.type, URIRef(\"http://www.semanticweb.org/deivis/ontologies/2023/5/OntologiaVirus#Genero\")))\n",
    "\n",
    "# Cria uma instancia de Especie\n",
    "onto.add((URIRef(\"http://www.semanticweb.org/deivis/ontologies/2023/5/OntologiaVirus#PantheraLeo\"), RDF.type, URIRef(\"http://www.semanticweb.org/deivis/ontologies/2023/5/OntologiaVirus#Especie\")))\n",
    "\n",
    "# Cria uma instancia de Especie\n",
    "onto.add((URIRef(\"http://www.semanticweb.org/deivis/ontologies/2023/5/OntologiaVirus#PantheraTigris\"), RDF.type, URIRef(\"http://www.semanticweb.org/deivis/ontologies/2023/5/OntologiaVirus#Especie\")))"
   ]
  },
  {
   "cell_type": "code",
   "execution_count": 22,
   "metadata": {},
   "outputs": [
    {
     "data": {
      "text/plain": [
       "<Graph identifier=N725dc7a12b3c451da0caeddd359e34eb (<class 'rdflib.graph.Graph'>)>"
      ]
     },
     "execution_count": 22,
     "metadata": {},
     "output_type": "execute_result"
    }
   ],
   "source": [
    "# Cria a hierarqui de vacinas\n",
    "\n",
    "# Cria a classe Vacina\n",
    "onto.add((URIRef(\"http://www.semanticweb.org/deivis/ontologies/2023/5/OntologiaVirus#Vacina\"), RDF.type, OWL.Class))\n",
    "\n",
    "# Cria a classe VacinaViral\n",
    "onto.add((URIRef(\"http://www.semanticweb.org/deivis/ontologies/2023/5/OntologiaVirus#VacinaViral\"), RDF.type, OWL.Class))\n",
    "# Bota como subclasse de Vacina\n",
    "onto.add((URIRef(\"http://www.semanticweb.org/deivis/ontologies/2023/5/OntologiaVirus#VacinaViral\"), RDFS.subClassOf, URIRef(\"http://www.semanticweb.org/deivis/ontologies/2023/5/OntologiaVirus#Vacina\")))\n",
    "\n",
    "# Cria a classe VacinaBacteriana\n",
    "onto.add((URIRef(\"http://www.semanticweb.org/deivis/ontologies/2023/5/OntologiaVirus#VacinaBacteriana\"), RDF.type, OWL.Class))\n",
    "# Bota como subclasse de Vacina\n",
    "onto.add((URIRef(\"http://www.semanticweb.org/deivis/ontologies/2023/5/OntologiaVirus#VacinaBacteriana\"), RDFS.subClassOf, URIRef(\"http://www.semanticweb.org/deivis/ontologies/2023/5/OntologiaVirus#Vacina\")))\n",
    "\n",
    "# Cria a classe VacinaViralAtenuada\n",
    "onto.add((URIRef(\"http://www.semanticweb.org/deivis/ontologies/2023/5/OntologiaVirus#VacinaViralAtenuada\"), RDF.type, OWL.Class))\n",
    "# Bota como subclasse de VacinaViral\n",
    "onto.add((URIRef(\"http://www.semanticweb.org/deivis/ontologies/2023/5/OntologiaVirus#VacinaViralAtenuada\"), RDFS.subClassOf, URIRef(\"http://www.semanticweb.org/deivis/ontologies/2023/5/OntologiaVirus#VacinaViral\")))\n",
    "\n",
    "# Cria a classe VacinaViralInativada\n",
    "onto.add((URIRef(\"http://www.semanticweb.org/deivis/ontologies/2023/5/OntologiaVirus#VacinaViralInativada\"), RDF.type, OWL.Class))\n",
    "# Bota como subclasse de VacinaViral\n",
    "onto.add((URIRef(\"http://www.semanticweb.org/deivis/ontologies/2023/5/OntologiaVirus#VacinaViralInativada\"), RDFS.subClassOf, URIRef(\"http://www.semanticweb.org/deivis/ontologies/2023/5/OntologiaVirus#VacinaViral\")))\n",
    "\n",
    "# Cria a classe VacinaViralSubunitaria\n",
    "onto.add((URIRef(\"http://www.semanticweb.org/deivis/ontologies/2023/5/OntologiaVirus#VacinaViralSubunitaria\"), RDF.type, OWL.Class))\n",
    "# Bota como subclasse de VacinaViral\n",
    "onto.add((URIRef(\"http://www.semanticweb.org/deivis/ontologies/2023/5/OntologiaVirus#VacinaViralSubunitaria\"), RDFS.subClassOf, URIRef(\"http://www.semanticweb.org/deivis/ontologies/2023/5/OntologiaVirus#VacinaViral\")))\n"
   ]
  },
  {
   "cell_type": "code",
   "execution_count": 25,
   "metadata": {},
   "outputs": [
    {
     "ename": "ValueError",
     "evalue": "not enough values to unpack (expected 3, got 2)",
     "output_type": "error",
     "traceback": [
      "\u001b[1;31m---------------------------------------------------------------------------\u001b[0m",
      "\u001b[1;31mValueError\u001b[0m                                Traceback (most recent call last)",
      "Cell \u001b[1;32mIn[25], line 27\u001b[0m\n\u001b[0;32m     25\u001b[0m onto\u001b[39m.\u001b[39madd((URIRef(\u001b[39m\"\u001b[39m\u001b[39mhttp://www.semanticweb.org/deivis/ontologies/2023/5/OntologiaVirus#temEspecie\u001b[39m\u001b[39m\"\u001b[39m), OWL\u001b[39m.\u001b[39minverseOf, URIRef(\u001b[39m\"\u001b[39m\u001b[39mhttp://www.semanticweb.org/deivis/ontologies/2023/5/OntologiaVirus#especieDe\u001b[39m\u001b[39m\"\u001b[39m)))\n\u001b[0;32m     26\u001b[0m \u001b[39m# Ela seja uma propriedade funcional, ou seja, cada instancia de Host só pode ter uma instancia de Especie\u001b[39;00m\n\u001b[1;32m---> 27\u001b[0m onto\u001b[39m.\u001b[39;49madd((URIRef(\u001b[39m\"\u001b[39;49m\u001b[39mhttp://www.semanticweb.org/deivis/ontologies/2023/5/OntologiaVirus#temEspecie\u001b[39;49m\u001b[39m\"\u001b[39;49m), OWL\u001b[39m.\u001b[39;49mFunctionalProperty))\n\u001b[0;32m     28\u001b[0m onto\u001b[39m.\u001b[39madd((URIRef(\u001b[39m\"\u001b[39m\u001b[39mhttp://www.semanticweb.org/deivis/ontologies/2023/5/OntologiaVirus#especieDe\u001b[39m\u001b[39m\"\u001b[39m), RDF\u001b[39m.\u001b[39mtype, OWL\u001b[39m.\u001b[39mObjectProperty))\n\u001b[0;32m     29\u001b[0m onto\u001b[39m.\u001b[39madd((URIRef(\u001b[39m\"\u001b[39m\u001b[39mhttp://www.semanticweb.org/deivis/ontologies/2023/5/OntologiaVirus#especieDe\u001b[39m\u001b[39m\"\u001b[39m), RDFS\u001b[39m.\u001b[39mdomain, URIRef(\u001b[39m\"\u001b[39m\u001b[39mhttp://www.semanticweb.org/deivis/ontologies/2023/5/OntologiaVirus#Especie\u001b[39m\u001b[39m\"\u001b[39m)))\n",
      "File \u001b[1;32mc:\\Users\\guerr\\anaconda3\\envs\\gym\\lib\\site-packages\\rdflib\\graph.py:531\u001b[0m, in \u001b[0;36mGraph.add\u001b[1;34m(self, triple)\u001b[0m\n\u001b[0;32m    529\u001b[0m \u001b[39mdef\u001b[39;00m \u001b[39madd\u001b[39m(\u001b[39mself\u001b[39m: _GraphT, triple: \u001b[39m\"\u001b[39m\u001b[39m_TripleType\u001b[39m\u001b[39m\"\u001b[39m) \u001b[39m-\u001b[39m\u001b[39m>\u001b[39m _GraphT:\n\u001b[0;32m    530\u001b[0m     \u001b[39m\"\"\"Add a triple with self as context\"\"\"\u001b[39;00m\n\u001b[1;32m--> 531\u001b[0m     s, p, o \u001b[39m=\u001b[39m triple\n\u001b[0;32m    532\u001b[0m     \u001b[39massert\u001b[39;00m \u001b[39misinstance\u001b[39m(s, Node), \u001b[39m\"\u001b[39m\u001b[39mSubject \u001b[39m\u001b[39m%s\u001b[39;00m\u001b[39m must be an rdflib term\u001b[39m\u001b[39m\"\u001b[39m \u001b[39m%\u001b[39m (s,)\n\u001b[0;32m    533\u001b[0m     \u001b[39massert\u001b[39;00m \u001b[39misinstance\u001b[39m(p, Node), \u001b[39m\"\u001b[39m\u001b[39mPredicate \u001b[39m\u001b[39m%s\u001b[39;00m\u001b[39m must be an rdflib term\u001b[39m\u001b[39m\"\u001b[39m \u001b[39m%\u001b[39m (p,)\n",
      "\u001b[1;31mValueError\u001b[0m: not enough values to unpack (expected 3, got 2)"
     ]
    }
   ],
   "source": [
    "# Criação de propriedades\n",
    "\n",
    "# Cria as propriedades temVirus e virusDe que são inversas, tendo Host como dominio e Virus como range\n",
    "onto.add((URIRef(\"http://www.semanticweb.org/deivis/ontologies/2023/5/OntologiaVirus#temVirus\"), RDF.type, OWL.ObjectProperty))\n",
    "onto.add((URIRef(\"http://www.semanticweb.org/deivis/ontologies/2023/5/OntologiaVirus#temVirus\"), RDFS.domain, URIRef(\"http://www.semanticweb.org/deivis/ontologies/2023/5/OntologiaVirus#Host\")))\n",
    "onto.add((URIRef(\"http://www.semanticweb.org/deivis/ontologies/2023/5/OntologiaVirus#temVirus\"), RDFS.range, URIRef(\"http://www.semanticweb.org/deivis/ontologies/2023/5/OntologiaVirus#Viruses\")))\n",
    "onto.add((URIRef(\"http://www.semanticweb.org/deivis/ontologies/2023/5/OntologiaVirus#temVirus\"), OWL.inverseOf, URIRef(\"http://www.semanticweb.org/deivis/ontologies/2023/5/OntologiaVirus#virusDe\")))\n",
    "onto.add((URIRef(\"http://www.semanticweb.org/deivis/ontologies/2023/5/OntologiaVirus#virusDe\"), RDF.type, OWL.ObjectProperty))\n",
    "onto.add((URIRef(\"http://www.semanticweb.org/deivis/ontologies/2023/5/OntologiaVirus#virusDe\"), RDFS.domain, URIRef(\"http://www.semanticweb.org/deivis/ontologies/2023/5/OntologiaVirus#Viruses\")))\n",
    "onto.add((URIRef(\"http://www.semanticweb.org/deivis/ontologies/2023/5/OntologiaVirus#virusDe\"), RDFS.range, URIRef(\"http://www.semanticweb.org/deivis/ontologies/2023/5/OntologiaVirus#Host\")))\n",
    "onto.add((URIRef(\"http://www.semanticweb.org/deivis/ontologies/2023/5/OntologiaVirus#virusDe\"), OWL.inverseOf, URIRef(\"http://www.semanticweb.org/deivis/ontologies/2023/5/OntologiaVirus#temVirus\")))\n",
    "# Cria as propriedades temVacina e vacinaDe que são inversas, tendo Virus como dominio e Vacina como range\n",
    "onto.add((URIRef(\"http://www.semanticweb.org/deivis/ontologies/2023/5/OntologiaVirus#temVacina\"), RDF.type, OWL.ObjectProperty))\n",
    "onto.add((URIRef(\"http://www.semanticweb.org/deivis/ontologies/2023/5/OntologiaVirus#temVacina\"), RDFS.domain, URIRef(\"http://www.semanticweb.org/deivis/ontologies/2023/5/OntologiaVirus#Viruses\")))\n",
    "onto.add((URIRef(\"http://www.semanticweb.org/deivis/ontologies/2023/5/OntologiaVirus#temVacina\"), RDFS.range, URIRef(\"http://www.semanticweb.org/deivis/ontologies/2023/5/OntologiaVirus#Vacina\")))\n",
    "onto.add((URIRef(\"http://www.semanticweb.org/deivis/ontologies/2023/5/OntologiaVirus#temVacina\"), OWL.inverseOf, URIRef(\"http://www.semanticweb.org/deivis/ontologies/2023/5/OntologiaVirus#vacinaDe\")))\n",
    "onto.add((URIRef(\"http://www.semanticweb.org/deivis/ontologies/2023/5/OntologiaVirus#vacinaDe\"), RDF.type, OWL.ObjectProperty))\n",
    "onto.add((URIRef(\"http://www.semanticweb.org/deivis/ontologies/2023/5/OntologiaVirus#vacinaDe\"), RDFS.domain, URIRef(\"http://www.semanticweb.org/deivis/ontologies/2023/5/OntologiaVirus#Vacina\")))\n",
    "onto.add((URIRef(\"http://www.semanticweb.org/deivis/ontologies/2023/5/OntologiaVirus#vacinaDe\"), RDFS.range, URIRef(\"http://www.semanticweb.org/deivis/ontologies/2023/5/OntologiaVirus#Viruses\")))\n",
    "onto.add((URIRef(\"http://www.semanticweb.org/deivis/ontologies/2023/5/OntologiaVirus#vacinaDe\"), OWL.inverseOf, URIRef(\"http://www.semanticweb.org/deivis/ontologies/2023/5/OntologiaVirus#temVacina\")))\n",
    "# Cria as propriedades temEspecie e especieDe que são inversas, tendo Host como dominio e Especie como range\n",
    "onto.add((URIRef(\"http://www.semanticweb.org/deivis/ontologies/2023/5/OntologiaVirus#temEspecie\"), RDF.type, OWL.ObjectProperty))\n",
    "onto.add((URIRef(\"http://www.semanticweb.org/deivis/ontologies/2023/5/OntologiaVirus#temEspecie\"), RDFS.domain, URIRef(\"http://www.semanticweb.org/deivis/ontologies/2023/5/OntologiaVirus#Host\")))\n",
    "onto.add((URIRef(\"http://www.semanticweb.org/deivis/ontologies/2023/5/OntologiaVirus#temEspecie\"), RDFS.range, URIRef(\"http://www.semanticweb.org/deivis/ontologies/2023/5/OntologiaVirus#Especie\")))\n",
    "onto.add((URIRef(\"http://www.semanticweb.org/deivis/ontologies/2023/5/OntologiaVirus#temEspecie\"), OWL.inverseOf, URIRef(\"http://www.semanticweb.org/deivis/ontologies/2023/5/OntologiaVirus#especieDe\")))\n",
    "# Ela seja uma propriedade funcional, ou seja, cada instancia de Host só pode ter uma instancia de Especie\n",
    "onto.add((URIRef(\"http://www.semanticweb.org/deivis/ontologies/2023/5/OntologiaVirus#temEspecie\"), OWL.FunctionalProperty))\n",
    "onto.add((URIRef(\"http://www.semanticweb.org/deivis/ontologies/2023/5/OntologiaVirus#especieDe\"), RDF.type, OWL.ObjectProperty))\n",
    "onto.add((URIRef(\"http://www.semanticweb.org/deivis/ontologies/2023/5/OntologiaVirus#especieDe\"), RDFS.domain, URIRef(\"http://www.semanticweb.org/deivis/ontologies/2023/5/OntologiaVirus#Especie\")))\n",
    "onto.add((URIRef(\"http://www.semanticweb.org/deivis/ontologies/2023/5/OntologiaVirus#especieDe\"), RDFS.range, URIRef(\"http://www.semanticweb.org/deivis/ontologies/2023/5/OntologiaVirus#Host\")))\n",
    "onto.add((URIRef(\"http://www.semanticweb.org/deivis/ontologies/2023/5/OntologiaVirus#especieDe\"), OWL.inverseOf, URIRef(\"http://www.semanticweb.org/deivis/ontologies/2023/5/OntologiaVirus#temEspecie\")))\n",
    "\n",
    "# Propriedade: \"temContatoDiretoCom\" transitiva\n",
    "# Domínio: cellular_organisms\n",
    "# range: cellular_organisms\n",
    "onto.add((URIRef(\"http://www.semanticweb.org/deivis/ontologies/2023/5/OntologiaVirus#temContatoDiretoCom\"), RDF.type, OWL.ObjectProperty))\n",
    "onto.add((URIRef(\"http://www.semanticweb.org/deivis/ontologies/2023/5/OntologiaVirus#temContatoDiretoCom\"), RDFS.domain, URIRef(\"http://www.semanticweb.org/deivis/ontologies/2023/5/OntologiaVirus#Host\")))\n",
    "onto.add((URIRef(\"http://www.semanticweb.org/deivis/ontologies/2023/5/OntologiaVirus#temContatoDiretoCom\"), RDFS.range, URIRef(\"http://www.semanticweb.org/deivis/ontologies/2023/5/OntologiaVirus#Host\")))\n",
    "onto.add((URIRef(\"http://www.semanticweb.org/deivis/ontologies/2023/5/OntologiaVirus#temContatoDiretoCom\"), OWL.TransitiveProperty))\n",
    "\n",
    "# Transforma virusDe em some values from\n",
    "onto.add((URIRef(\"http://www.semanticweb.org/deivis/ontologies/2023/5/OntologiaVirus#virusDe\"), OWL.someValuesFrom, URIRef(\"http://www.semanticweb.org/deivis/ontologies/2023/5/OntologiaVirus#Host\")))\n",
    "# Transforma vacinaDe em some values from\n",
    "onto.add((URIRef(\"http://www.semanticweb.org/deivis/ontologies/2023/5/OntologiaVirus#vacinaDe\"), OWL.someValuesFrom, URIRef(\"http://www.semanticweb.org/deivis/ontologies/2023/5/OntologiaVirus#Viruses\")))\n",
    "\n",
    "# Propriedade: \"pertenceAoReino\" usando all values from\n",
    "# Domínio: cellular_organisms\n",
    "# Range: Reino\n",
    "onto.add((URIRef(\"http://www.semanticweb.org/deivis/ontologies/2023/5/OntologiaVirus#pertenceAoReino\"), RDF.type, OWL.ObjectProperty))\n",
    "onto.add((URIRef(\"http://www.semanticweb.org/deivis/ontologies/2023/5/OntologiaVirus#pertenceAoReino\"), RDFS.domain, URIRef(\"http://www.semanticweb.org/deivis/ontologies/2023/5/OntologiaVirus#Host\")))\n",
    "onto.add((URIRef(\"http://www.semanticweb.org/deivis/ontologies/2023/5/OntologiaVirus#pertenceAoReino\"), RDFS.range, URIRef(\"http://www.semanticweb.org/deivis/ontologies/2023/5/OntologiaVirus#Reino\")))\n",
    "onto.add((URIRef(\"http://www.semanticweb.org/deivis/ontologies/2023/5/OntologiaVirus#pertenceAoReino\"), OWL.allValuesFrom, URIRef(\"http://www.semanticweb.org/deivis/ontologies/2023/5/OntologiaVirus#Animalia\")))\n",
    "# Propriedade: \"pertenceAoFilo\" usando all values from\n",
    "# Domínio: cellular_organisms\n",
    "# Range: Filo\n",
    "onto.add((URIRef(\"http://www.semanticweb.org/deivis/ontologies/2023/5/OntologiaVirus#pertenceAoFilo\"), RDF.type, OWL.ObjectProperty))\n",
    "onto.add((URIRef(\"http://www.semanticweb.org/deivis/ontologies/2023/5/OntologiaVirus#pertenceAoFilo\"), RDFS.domain, URIRef(\"http://www.semanticweb.org/deivis/ontologies/2023/5/OntologiaVirus#Host\")))\n",
    "onto.add((URIRef(\"http://www.semanticweb.org/deivis/ontologies/2023/5/OntologiaVirus#pertenceAoFilo\"), RDFS.range, URIRef(\"http://www.semanticweb.org/deivis/ontologies/2023/5/OntologiaVirus#Filo\")))\n",
    "onto.add((URIRef(\"http://www.semanticweb.org/deivis/ontologies/2023/5/OntologiaVirus#pertenceAoFilo\"), OWL.allValuesFrom, URIRef(\"http://www.semanticweb.org/deivis/ontologies/2023/5/OntologiaVirus#Chordata\")))"
   ]
  },
  {
   "cell_type": "code",
   "execution_count": 24,
   "metadata": {},
   "outputs": [
    {
     "data": {
      "text/plain": [
       "<Graph identifier=N725dc7a12b3c451da0caeddd359e34eb (<class 'rdflib.graph.Graph'>)>"
      ]
     },
     "execution_count": 24,
     "metadata": {},
     "output_type": "execute_result"
    }
   ],
   "source": [
    "# Salvando a ontologia\n",
    "onto.serialize(\"ontologia.owl\", format=\"xml\")"
   ]
  }
 ],
 "metadata": {
  "kernelspec": {
   "display_name": "Python 3",
   "language": "python",
   "name": "python3"
  },
  "language_info": {
   "codemirror_mode": {
    "name": "ipython",
    "version": 3
   },
   "file_extension": ".py",
   "mimetype": "text/x-python",
   "name": "python",
   "nbconvert_exporter": "python",
   "pygments_lexer": "ipython3",
   "version": "3.9.16"
  },
  "orig_nbformat": 4
 },
 "nbformat": 4,
 "nbformat_minor": 2
}
