{
 "cells": [
  {
   "cell_type": "code",
   "execution_count": 2,
   "metadata": {},
   "outputs": [],
   "source": [
    "# Esse programa serve para fazer o scraping de dados de Virus e criar um ontologia em OWL\n",
    "# Autor: Deivis Felipe Guerreiro Fagundes\n",
    "# Data: 21/05/2023"
   ]
  },
  {
   "cell_type": "code",
   "execution_count": 6,
   "metadata": {},
   "outputs": [],
   "source": [
    "# faz o import das bibliotecas\n",
    "# Selenium é uma biblioteca para fazer o scraping de dados\n",
    "# Pandas é uma biblioteca para manipular os dados\n",
    "# Time é uma biblioteca para fazer o programa esperar um tempo\n",
    "# BeautifulSoup é uma biblioteca para fazer o scraping de dados\n",
    "# OWLReady2 é uma biblioteca para criar ontologias em OWL\n",
    "from selenium import webdriver\n",
    "import pandas as pd\n",
    "import time\n",
    "from bs4 import BeautifulSoup\n",
    "from owlready2 import *"
   ]
  }
 ],
 "metadata": {
  "kernelspec": {
   "display_name": "Python 3",
   "language": "python",
   "name": "python3"
  },
  "language_info": {
   "codemirror_mode": {
    "name": "ipython",
    "version": 3
   },
   "file_extension": ".py",
   "mimetype": "text/x-python",
   "name": "python",
   "nbconvert_exporter": "python",
   "pygments_lexer": "ipython3",
   "version": "3.9.12"
  },
  "orig_nbformat": 4
 },
 "nbformat": 4,
 "nbformat_minor": 2
}
