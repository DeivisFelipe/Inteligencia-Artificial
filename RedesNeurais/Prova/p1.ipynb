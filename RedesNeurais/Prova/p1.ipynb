{
 "cells": [
  {
   "cell_type": "markdown",
   "metadata": {},
   "source": [
    "1) \n",
    "\n",
    "Explique com as suas palavras, da forma mais objetiva que conseguir, como funciona\n",
    "um neurônio artificial. Lembre-se de mencionar os termos: (1.1) entrada, (1.2) saída, (1.3)\n",
    "pesos, (1.4) bias, (1.5) função de ativação.\n",
    "\n",
    "Resposta:\n",
    "\n",
    "Um neurônio artificial é um conjunto de passos que retornar uma saida, primeiro começa recebendo o valores de entrada, a quantidade varia dependendo do objetivo, cara valor de entrar é muitiplicado pelo seu peso correspondente e logo após é feita a soma de todas as multiplicações, sendo assim, uma combinação linear, após o resultado dessa operação o número resultante é somado com o bias, que é um número que pode ser alterado, depois dessa soma, o número passa por uma função de ativação que acaba convergindo o número para um outro número, geralmente entre 0 e 1, esse valor da função é saída do neurônio."
   ]
  },
  {
   "cell_type": "markdown",
   "metadata": {},
   "source": [
    "2)\n",
    "\n",
    "Desenhe uma rede neural estilo perceptron, com 4 entradas, 2 camadas de neurônios\n",
    "e 3 saídas. Representa entradas e saídas com pequenos retângulos, neurônios com\n",
    "círculos, conexões com linhas retas. Garanta que essa rede neural esteja totalmente\n",
    "conectada em todas camadas e que, incluindo todos pesos e bias, ela tenha um total de\n",
    "exatamente 43 parâmetros. Observe que para resolver este exercício você precisa apenas\n",
    "desenhar retângulos, círculos e retas, nada mais que isso. (usar o verso da folha)\n",
    "\n"
   ]
  },
  {
   "cell_type": "markdown",
   "metadata": {},
   "source": [
    "3)\n",
    "\n",
    "Explique com suas palavras (3.1) o que é sobreajuste (ou overfitting), (3.2) como isso\n",
    "pode ser detectado, (3.3) por que isso é ruim e (3.4) como podemos evitar que isso\n",
    "aconteça. Explique também (3.5) o que isso tem a ver com a separação dos dados de\n",
    "treinamento, e (3.6) como devemos fazer essa separação.\n",
    "\n",
    "O sobreajuste ou overfitting, é quando a rede neural meio que \"decora\" os dados de treinamento, fazendo com que ele tenha sempre 100% de precisão, porém se for testado com dados novos, a precisão não é tão assim, e isso é extremamente ruim, pois ele não funciona para dados novos, para evitar que isso acontece é importante ter bastante dados diversificados e misturados na hora do treinamento, também é importante dividir os dados em dados de treinamento e dados de teste, os dados de teste serve para verificar a acuracia da rede neural, geralmente é 70% treinamento e 30% teste, se o modelo for bom com o treinamento e ruim com o teste provavelmente aconteceu o overfitting."
   ]
  },
  {
   "cell_type": "markdown",
   "metadata": {},
   "source": [
    "4)\n",
    "\n",
    "Explique o que é o gradiente e para qual tipo de função ele pode ser calculado.\n",
    "Busque ser o mais claro, direto, completo e preciso possível na sua resposta.\n",
    "\n",
    "O gradiente é um vetor das derivadas parciais da função, ela pode ser aplicado em qualquer função onde a saída é um escalar, essas funções tem multiplas entradas, se for aplicado o gradiente em um ponto, o vetor resultante estará apontando para onde a função tem o maior crescimento"
   ]
  },
  {
   "cell_type": "markdown",
   "metadata": {},
   "source": [
    "5)\n",
    "\n",
    "Explique com as suas palavras, da forma mais objetiva que conseguir, como funciona\n",
    "o método da descida do gradiente. Na sua explicação mencione os termos: (5.1) função de\n",
    "custo, (5.2) parâmetros, (5.3) derivada parcial, (5.4) passo de aprendizagem.\n",
    "\n",
    "O método da descida do gradiente, tem como objetivo se aproxímar cada vez mais do ponto mais baixo de um mínimo local, para saber o quão próximo está do valor desejado é utilizado a função de custo, onde é pego o valor resultante da rede e é substraido do valor esperado, tudo isso elevado ao quadrado para deixar o valor possitivo, esse resultado mostra se a rede está se apróximando do valor correto, quando o valor é cada vez menor.\n",
    "\n",
    "Os parâmetros são as entradas, os pesos e os bias, e eles são ajustados durante o treinamento da rede.\n",
    "\n",
    "A derivada parcial medem a taxa de mudança conforme os parâmetros da rede.\n",
    "\n",
    "E o passo de aprendizagem representa representa o tamanho dos passos que a rede vai dar para ajustas os parametros da rede, se for grande demais, pode ficar bem ruim, e se for pequeno demais, pode demorar muito tempo, é importante fazer testes para ver qual se sai melhor."
   ]
  },
  {
   "cell_type": "markdown",
   "metadata": {},
   "source": [
    "6)\n",
    "\n",
    "Explique em suas palavras como funciona o algoritmo backpropagation. Na sua\n",
    "explicação utilize os termos: (6.1) descida do gradiente, (6.2) regra da cadeia, (6.3) pesos\n",
    "e bias, (6.4) função de custo.\n",
    "\n",
    "O algoritmo de backpropagation, tem como principal objetivo o ajuste de pesos e bias de uma rede neural, para isso é utilizado as derividas parciais e função de custo, para observar o quanto modificações nos pesos e nos bias alteram os resultados da rede."
   ]
  },
  {
   "cell_type": "markdown",
   "metadata": {},
   "source": [
    "7)\n",
    "\n",
    "Num projeto de rede neural para um problema de classificação, o que você espera\n",
    "normalmente encontrar a respeito da (7.1) saída desejada, (7.2) ativação da última\n",
    "camada de saída da rede e (7.3) função de custo? (usar o verso da folha)\n",
    "\n",
    "Em uma rede neural para um problema de classificação, a resposta esperada é que a saída sejá a qual classe a entrada pertence, para isso a ativação da última camada retorna a probabilidade de pertencer em cada grupo, com base no resultado obtido da durante o treinamento é utilizado a função de custo para verificar o qual próximo a resposta da rede está em comparação o valor real, com base nisso a rede ajusta os pesos para aproximar cada vez mais o resultado real, mínixando o resultado da função custo"
   ]
  }
 ],
 "metadata": {
  "language_info": {
   "name": "python"
  }
 },
 "nbformat": 4,
 "nbformat_minor": 2
}
