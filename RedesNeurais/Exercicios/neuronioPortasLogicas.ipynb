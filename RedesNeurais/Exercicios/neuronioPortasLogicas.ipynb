{
 "cells": [
  {
   "cell_type": "code",
   "execution_count": 1,
   "metadata": {},
   "outputs": [],
   "source": [
    "import numpy as np"
   ]
  },
  {
   "cell_type": "code",
   "execution_count": 4,
   "metadata": {},
   "outputs": [],
   "source": [
    "def sigmoid(x):\n",
    "    return 1.0 / (1.0 + np.exp(-x))"
   ]
  },
  {
   "cell_type": "code",
   "execution_count": 19,
   "metadata": {},
   "outputs": [],
   "source": [
    "def linear(x):\n",
    "    if x >= 1.0:\n",
    "        return 1.0\n",
    "    elif x <= 0.0:\n",
    "        return 0.0\n",
    "    return x "
   ]
  },
  {
   "cell_type": "code",
   "execution_count": 20,
   "metadata": {},
   "outputs": [],
   "source": [
    "def neuronioAnd(a, b):\n",
    "    s = a * 1.0 + b * 1.0 - 1.0\n",
    "    z = linear(s)\n",
    "    return z"
   ]
  },
  {
   "cell_type": "code",
   "execution_count": 21,
   "metadata": {},
   "outputs": [],
   "source": [
    "def neuronioOr(a, b):\n",
    "    s = a * 1.0 + b * 1.0\n",
    "    z = linear(s)\n",
    "    return z"
   ]
  },
  {
   "cell_type": "code",
   "execution_count": 22,
   "metadata": {},
   "outputs": [],
   "source": [
    "def neuronioNot(a):\n",
    "    s = a * -1.0 + 1.0\n",
    "    z = linear(s)\n",
    "    return z"
   ]
  },
  {
   "cell_type": "code",
   "execution_count": 24,
   "metadata": {},
   "outputs": [],
   "source": [
    "class Neuronio:\n",
    "    def __init__(self, w0, w1, bias):\n",
    "        self.w0 = w0\n",
    "        self.w1 = w1\n",
    "        self.bias = bias\n",
    "\n",
    "    def compute(self, a, b):\n",
    "        s = a * self.w0 + b * self.w1 + self.bias\n",
    "        z = linear(s)\n",
    "        return z"
   ]
  },
  {
   "cell_type": "code",
   "execution_count": 25,
   "metadata": {},
   "outputs": [],
   "source": [
    "neuAnd = Neuronio(1.0, 1.0, -1.0)\n",
    "neuOr = Neuronio(1.0, 1.0, 0.0)\n",
    "neuNot = Neuronio(-1.0, 0.0, 1.0)"
   ]
  },
  {
   "cell_type": "code",
   "execution_count": 23,
   "metadata": {},
   "outputs": [
    {
     "name": "stdout",
     "output_type": "stream",
     "text": [
      "1.0\n",
      "0.0\n",
      "0.0\n",
      "0.0\n",
      "1.0\n",
      "1.0\n",
      "1.0\n",
      "0.0\n",
      "0.0\n",
      "1.0\n"
     ]
    }
   ],
   "source": [
    "print(neuronioAnd(1, 1))\n",
    "print(neuronioAnd(1, 0))\n",
    "print(neuronioAnd(0, 1))\n",
    "print(neuronioAnd(0, 0))\n",
    "\n",
    "print(neuronioOr(1, 1))\n",
    "print(neuronioOr(1, 0))\n",
    "print(neuronioOr(0, 1))\n",
    "print(neuronioOr(0, 0))\n",
    "\n",
    "print(neuronioNot(1))\n",
    "print(neuronioNot(0))\n"
   ]
  },
  {
   "cell_type": "code",
   "execution_count": 27,
   "metadata": {},
   "outputs": [
    {
     "name": "stdout",
     "output_type": "stream",
     "text": [
      "1.0\n",
      "0.0\n",
      "0.0\n",
      "0.0\n",
      "1.0\n",
      "1.0\n",
      "1.0\n",
      "0.0\n",
      "0.0\n",
      "1.0\n"
     ]
    }
   ],
   "source": [
    "print(neuAnd.compute(1, 1))\n",
    "print(neuAnd.compute(1, 0))\n",
    "print(neuAnd.compute(0, 1))\n",
    "print(neuAnd.compute(0, 0))\n",
    "\n",
    "print(neuOr.compute(1, 1))\n",
    "print(neuOr.compute(1, 0))\n",
    "print(neuOr.compute(0, 1))\n",
    "print(neuOr.compute(0, 0))\n",
    "\n",
    "print(neuNot.compute(1, 0))\n",
    "print(neuNot.compute(0, 0))"
   ]
  },
  {
   "cell_type": "code",
   "execution_count": 28,
   "metadata": {},
   "outputs": [
    {
     "name": "stdout",
     "output_type": "stream",
     "text": [
      "a =  1  b =  1  and =  1.0  or =  1.0  not =  0.0\n",
      "a =  1  b =  0  and =  0.0  or =  1.0  not =  0.0\n",
      "a =  0  b =  1  and =  0.0  or =  1.0  not =  1.0\n",
      "a =  0  b =  0  and =  0.0  or =  0.0  not =  1.0\n"
     ]
    }
   ],
   "source": [
    "entradas = [(1, 1), (1, 0), (0, 1), (0, 0)]\n",
    "\n",
    "for a,b in entradas:\n",
    "    print(\"a = \", a, \" b = \", b, \\\n",
    "            \" and = \", neuAnd.compute(a, b), \\\n",
    "            \" or = \", neuOr.compute(a, b), \\\n",
    "            \" not = \", neuNot.compute(a, b))"
   ]
  }
 ],
 "metadata": {
  "kernelspec": {
   "display_name": "base",
   "language": "python",
   "name": "python3"
  },
  "language_info": {
   "codemirror_mode": {
    "name": "ipython",
    "version": 3
   },
   "file_extension": ".py",
   "mimetype": "text/x-python",
   "name": "python",
   "nbconvert_exporter": "python",
   "pygments_lexer": "ipython3",
   "version": "3.9.12"
  }
 },
 "nbformat": 4,
 "nbformat_minor": 2
}
