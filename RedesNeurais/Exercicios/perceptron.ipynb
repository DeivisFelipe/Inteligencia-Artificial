{
 "cells": [
  {
   "cell_type": "code",
   "execution_count": 1,
   "metadata": {},
   "outputs": [],
   "source": [
    "import numpy as np\n"
   ]
  },
  {
   "cell_type": "code",
   "execution_count": 2,
   "metadata": {},
   "outputs": [],
   "source": [
    "def sigmoid(x):\n",
    "    return 1.0 / (1.0 + np.exp(-x))"
   ]
  },
  {
   "cell_type": "code",
   "execution_count": 3,
   "metadata": {},
   "outputs": [],
   "source": [
    "class Perceptron():\n",
    "    def __init__(self, n_inputs=4, h_hidden=8, n_outputs=1):\n",
    "        self.w_ih = np.random.random((h_hidden, n_inputs))\n",
    "        self.w_ho = np.random.random((n_outputs, h_hidden))\n",
    "        self.b_hid = np.random.random((h_hidden))\n",
    "        self.b_out = np.random.random((n_outputs))\n",
    "\n",
    "    def compute(self, inputs):\n",
    "        self.s_hid = np.dot(self.w_ih, inputs) + self.b_hid\n",
    "        self.z_hid = sigmoid(self.s_hid)\n",
    "        self.s_out = np.dot(self.w_ho, self.z_hid) + self.b_out\n",
    "        self.z_out = sigmoid(self.s_out)\n",
    "\n",
    "        return self.z_out\n"
   ]
  },
  {
   "cell_type": "code",
   "execution_count": 15,
   "metadata": {},
   "outputs": [
    {
     "name": "stdout",
     "output_type": "stream",
     "text": [
      "[0.96706889]\n"
     ]
    }
   ],
   "source": [
    "perceptron = Perceptron()\n",
    "inputs = np.random.random((4))\n",
    "outputs = perceptron.compute(inputs)\n",
    "print(outputs)"
   ]
  }
 ],
 "metadata": {
  "kernelspec": {
   "display_name": "base",
   "language": "python",
   "name": "python3"
  },
  "language_info": {
   "codemirror_mode": {
    "name": "ipython",
    "version": 3
   },
   "file_extension": ".py",
   "mimetype": "text/x-python",
   "name": "python",
   "nbconvert_exporter": "python",
   "pygments_lexer": "ipython3",
   "version": "3.9.12"
  }
 },
 "nbformat": 4,
 "nbformat_minor": 2
}
