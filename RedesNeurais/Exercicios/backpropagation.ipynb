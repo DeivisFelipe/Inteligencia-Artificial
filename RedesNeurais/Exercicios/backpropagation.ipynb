{
 "cells": [
  {
   "cell_type": "code",
   "execution_count": 60,
   "metadata": {},
   "outputs": [],
   "source": [
    "import numpy as np"
   ]
  },
  {
   "cell_type": "code",
   "execution_count": 61,
   "metadata": {},
   "outputs": [],
   "source": [
    "f = open('iris.csv', 'r')\n",
    "lines = f.readlines()"
   ]
  },
  {
   "cell_type": "code",
   "execution_count": 62,
   "metadata": {},
   "outputs": [],
   "source": [
    "X = list()\n",
    "Y = list()\n",
    "cats = [\"Setosa\", \"Versicolor\", \"Virginica\"]\n",
    "for line in lines[1:]:\n",
    "    sl, sw, pl, pw, sp = line[:-1].split(',')\n",
    "    sl = float(sl)\n",
    "    sw = float(sw)\n",
    "    pl = float(pl)\n",
    "    pw = float(pw)\n",
    "    sp = sp[1:-1] # Tira as aspas\n",
    "    sp = [1.0 if str(sp) == str(cat) else 0.0 for cat in cats]\n",
    "    X.append([sl, sw, pl, pw])\n",
    "    Y.append(sp)"
   ]
  },
  {
   "cell_type": "code",
   "execution_count": 63,
   "metadata": {},
   "outputs": [],
   "source": [
    "total = len(X)\n",
    "indexes = list(range(total))\n",
    "np.random.shuffle(indexes)\n",
    "Xs = [X[i] for i in indexes]  \n",
    "Ys = [Y[i] for i in indexes]"
   ]
  },
  {
   "cell_type": "code",
   "execution_count": 64,
   "metadata": {},
   "outputs": [],
   "source": [
    "Xs = np.array(Xs)\n",
    "Ys = np.array(Ys)"
   ]
  },
  {
   "cell_type": "code",
   "execution_count": 65,
   "metadata": {},
   "outputs": [],
   "source": [
    "sep = int(total * 0.1)\n",
    "total_train = total-sep\n",
    "total_test = sep\n",
    "Xtrain = Xs[:total_train, :]\n",
    "Ytrain = Ys[:total_train, :]\n",
    "Xtest = Xs[total_train:, :]\n",
    "Ytest = Ys[total_train:, :]"
   ]
  },
  {
   "cell_type": "code",
   "execution_count": 66,
   "metadata": {},
   "outputs": [],
   "source": [
    "def sigmoid(x):\n",
    "    return 1.0 / (1.0 + np.exp(-x))\n",
    "\n",
    "class Perceptron:\n",
    "    def __init__(self):\n",
    "        self.Wh = np.random.random((8, 4)) * 2.0 - 1.0 # Pesos entrada\n",
    "        self.bh = np.random.random((8, 1)) * 2.0 - 1.0 # Bias entrada\n",
    "        self.Wo = np.random.random((3,8))*2.0 - 1.0\n",
    "        self.bo = np.random.random((3,1))*2.0 - 1.0\n",
    "        self.eta = 0.01\n",
    "\n",
    "    def compute(self, x):\n",
    "        x = np.reshape(x, (4, 1))\n",
    "        self.sh = np.dot(self.Wh, x) + self.bh\n",
    "        self.zh = sigmoid(self.sh)\n",
    "        self.so = np.dot(self.Wo, self.zh) + self.bo\n",
    "        self.zo = sigmoid(self.so)\n",
    "        return self.zo\n",
    "    \n",
    "    def backprop(self, X, Y):\n",
    "        Err =  0.0\n",
    "        total = X.shape[0]\n",
    "        for i in range(total):\n",
    "            # Capturamos o vetor de entradas do par\n",
    "            x = X[i,:]\n",
    "            x = np.reshape(x,(4,1))\n",
    "\n",
    "            # Capturamos o vetor de saída do par\n",
    "            y_hat = Y[i,:]\n",
    "            y_hat = np.reshape(y_hat,(3,1))\n",
    "\n",
    "            # Fazemos o cálculo da saída da rede\n",
    "            # neural\n",
    "            y = self.compute(x)\n",
    "\n",
    "            # Calculamos o erro médio, para avaliar\n",
    "            # a evolução da performance. Isso não\n",
    "            # é usado para calcular o ajuste dos\n",
    "            # pesos e biases.\n",
    "            err = - np.sum(y_hat*np.log(y))\n",
    "            Err = Err + err\n",
    "\n",
    "            # Aqui calculamos os deltas de trás para frente\n",
    "            # no sentido inverso (daí o nome backpropagation)\n",
    "\n",
    "            # Primeiro calculamos o delta do erro da saída\n",
    "            # Aqui multiplicamos o erro pela derivada\n",
    "            # da função de ativação na saída. A função\n",
    "            # sigmoide possui uma derivada interessante.\n",
    "            # se z é a sigmoide, a derivada é z*(1-z)\n",
    "            self.do = (y - y_hat)\n",
    "\n",
    "            # O delta da camada escondida é calculado\n",
    "            # usando os pesos para propagar o delta do erro\n",
    "            # da saída para o delta do erro da camada escondida\n",
    "            self.dh = np.dot(self.Wo.T, self.do) \\\n",
    "                        * self.zh * (1.0 - self.zh)\n",
    "            self.Wo = self.Wo - self.eta * np.dot(self.do,self.zh.T)\n",
    "            self.bo = self.bo - self.eta * self.do\n",
    "            self.Wh = self.Wh - self.eta * np.dot(self.dh,x.T)\n",
    "            self.bh = self.bh - self.eta * self.dh\n",
    "\n",
    "        Err /= total\n",
    "        return Err\n",
    "\n",
    "        "
   ]
  },
  {
   "cell_type": "code",
   "execution_count": 68,
   "metadata": {},
   "outputs": [
    {
     "name": "stdout",
     "output_type": "stream",
     "text": [
      "Erro: 1.0195823562055717\n",
      "Erro: 0.07287711702987831\n",
      "Erro: 0.06673809822250679\n",
      "Erro: 0.06622810846578273\n",
      "Erro: 0.061573518986620175\n",
      "Erro: 0.05837429789113218\n",
      "Erro: 0.054239377519368866\n",
      "Erro: 0.04638057195116689\n",
      "Erro: 0.03967646893969584\n",
      "Erro: 0.036447659753720725\n"
     ]
    }
   ],
   "source": [
    "p = Perceptron();\n",
    "for i in range(10000):\n",
    "    Err = p.backprop(Xtrain, Ytrain)\n",
    "    if not (i % 1000) or i == 0:\n",
    "        print(\"Erro: \" + str(Err))\n"
   ]
  },
  {
   "cell_type": "code",
   "execution_count": 69,
   "metadata": {},
   "outputs": [
    {
     "name": "stdout",
     "output_type": "stream",
     "text": [
      "[+1.00  +0.00  +0.00 ] [+1.00  +0.00  +0.00 ]\n",
      "[+1.00  +0.00  +0.00 ] [+1.00  +0.00  +0.00 ]\n",
      "[+1.00  +0.00  +0.00 ] [+1.00  +0.00  +0.00 ]\n",
      "[+1.00  +0.00  +0.00 ] [+1.00  +0.00  +0.00 ]\n",
      "[+1.00  +0.00  +0.00 ] [+1.00  +0.00  +0.00 ]\n",
      "[+0.00  +0.00  +1.00 ] [+0.00  +0.03  +0.96 ]\n",
      "[+0.00  +1.00  +0.00 ] [+0.00  +1.00  +0.00 ]\n",
      "[+0.00  +0.00  +1.00 ] [+0.00  +0.05  +0.92 ]\n",
      "[+1.00  +0.00  +0.00 ] [+1.00  +0.00  +0.00 ]\n",
      "[+0.00  +0.00  +1.00 ] [+0.00  +0.00  +1.00 ]\n",
      "[+0.00  +1.00  +0.00 ] [+0.00  +1.00  +0.00 ]\n",
      "[+0.00  +1.00  +0.00 ] [+0.00  +1.00  +0.00 ]\n",
      "[+0.00  +1.00  +0.00 ] [+0.00  +0.97  +0.07 ]\n",
      "[+1.00  +0.00  +0.00 ] [+1.00  +0.00  +0.00 ]\n",
      "[+0.00  +0.00  +1.00 ] [+0.00  +0.00  +1.00 ]\n"
     ]
    }
   ],
   "source": [
    "np.set_printoptions(formatter={'float': lambda x: '%+01.2f ' % x})\n",
    "\n",
    "for i in range(total_test):\n",
    "    y = p.compute(Xtest[i,:])\n",
    "    y_hat = Ytest[i, :]\n",
    "    print(y_hat, y.T[0])"
   ]
  }
 ],
 "metadata": {
  "kernelspec": {
   "display_name": "base",
   "language": "python",
   "name": "python3"
  },
  "language_info": {
   "codemirror_mode": {
    "name": "ipython",
    "version": 3
   },
   "file_extension": ".py",
   "mimetype": "text/x-python",
   "name": "python",
   "nbconvert_exporter": "python",
   "pygments_lexer": "ipython3",
   "version": "3.10.9"
  }
 },
 "nbformat": 4,
 "nbformat_minor": 2
}
