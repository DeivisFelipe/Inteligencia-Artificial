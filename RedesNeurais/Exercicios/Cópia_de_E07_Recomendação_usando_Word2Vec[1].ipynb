{
  "cells": [
    {
      "cell_type": "markdown",
      "metadata": {
        "id": "xJReOFtyGFSs"
      },
      "source": [
        "# E07 Sistema de Recomendação usando Word2Vec\n",
        "\n",
        "Neste exercício você irá desenvolver um sistema de recomendação usando _embeddings_ criados com Word2Vec. A partir de uma base de dados de _e-commerce_ onde estão registradas as compras de um site de vendas pela internet, vamos avaliar quais mercadorias foram compradas juntamente a quais outras mercadorias. O pressuposto aqui é que quando o cliente realiza uma compra online, ele possui um interesse temático em mente e acaba comprando itens que se correlacionam de alguma forma. Ainda que em alguns casos possam ser incluídos itens menos relacionados, em sua vasta maioria assumimos que as compras seguem algum tipo de correlação entre si. Por exemplo, um cliente pode estar fazendo compras para organizar uma festa infantil ou uma viagem, e de acordo com esse interesse, acaba comprando itens relacionados a essas atividades.\n",
        "\n",
        "Sendo assim, neste exercício, nosso interesse estará em tentar criar um embedding usando o algoritmo Word2Vec, usando como contexto de vizinhança a sequência de produtos comprados por um mesmo cliente em uma específica nota fiscal. Cada ordem de compra (carrinho de compras) vai conter uma lista de produtos, e os códigos de identificação destes produtos serão nossas \"palavras\", sendo que a sequência de produtos comprados formam as \"frases\" para nosso treinamento.\n",
        "\n",
        "Como neste exercício usaremos a biblioteca _gensim_, você perceberá que a parte mais trabalhosa do exercício estará na preparação dos dados, já que a ferramenta que cria o _embedding_ já estará pronta para uso. Então nesse exercício, você ficara encarregado da preparação dos dados.\n",
        "\n",
        "Para resolver o exercício, siga os passos, lendo as instruções e comentários, um a um, e preenchendo código onde for requisitado."
      ]
    },
    {
      "cell_type": "markdown",
      "metadata": {
        "id": "KEHafkstxrSx"
      },
      "source": [
        "## Passo 1: Baixar Dados\n",
        "\n",
        "Aqui usaremos uma planilha do Microsoft Excel com dados de compras de usuários em um sistema de varejo. O nome do arquivo é `retail.xlsx`."
      ]
    },
    {
      "cell_type": "code",
      "execution_count": 3,
      "metadata": {
        "colab": {
          "base_uri": "https://localhost:8080/"
        },
        "id": "y9J6QmO3xJ3t",
        "outputId": "f59b5a5b-1dd6-4388-d1df-89d7cf5ae202"
      },
      "outputs": [
        {
          "name": "stdout",
          "output_type": "stream",
          "text": [
            "Downloading...\n",
            "From: https://drive.google.com/uc?id=1NK-2z0l-qTplDJJ2SHpTVBGRP3zWAK-n\n",
            "To: /content/retail.xlsx\n",
            "100% 23.7M/23.7M [00:00<00:00, 29.3MB/s]\n"
          ]
        }
      ],
      "source": [
        "# O comando abaixo baixa o arquivo correspondente a essa planilha\n",
        "# do Excel para o computador remoto do Google Colab.\n",
        "\n",
        "!gdown https://drive.google.com/uc?id=1NK-2z0l-qTplDJJ2SHpTVBGRP3zWAK-n"
      ]
    },
    {
      "cell_type": "markdown",
      "metadata": {
        "id": "XFZELJRCyLut"
      },
      "source": [
        "Usaremos a biblioteca `pandas` para fazer a leitura dos dados"
      ]
    },
    {
      "cell_type": "code",
      "execution_count": 4,
      "metadata": {
        "id": "A_HXamB_yLIi"
      },
      "outputs": [],
      "source": [
        "import pandas as pd"
      ]
    },
    {
      "cell_type": "markdown",
      "metadata": {
        "id": "qQqCAb-3yZRN"
      },
      "source": [
        "Aqui fazemos a leitura dos dados para um objeto `DataFrame` do `pandas`."
      ]
    },
    {
      "cell_type": "code",
      "execution_count": 5,
      "metadata": {
        "id": "33NLQ2NgyciL"
      },
      "outputs": [],
      "source": [
        "# Esta linha de código pode demorar cerca de 1 min para rodar\n",
        "df = pd.read_excel('retail.xlsx')"
      ]
    },
    {
      "cell_type": "markdown",
      "metadata": {
        "id": "0FLMkSqUyrWa"
      },
      "source": [
        "Agora podemos observar os dados para entender como estão organizados."
      ]
    },
    {
      "cell_type": "code",
      "execution_count": 6,
      "metadata": {
        "colab": {
          "base_uri": "https://localhost:8080/",
          "height": 423
        },
        "id": "TE4oGyTqyqdT",
        "outputId": "93318432-19a2-41a6-84b7-6c6aed8bd14a"
      },
      "outputs": [
        {
          "data": {
            "text/html": [
              "\n",
              "  <div id=\"df-e6bbed83-dfc5-4e7e-b2aa-a53c1413eda3\" class=\"colab-df-container\">\n",
              "    <div>\n",
              "<style scoped>\n",
              "    .dataframe tbody tr th:only-of-type {\n",
              "        vertical-align: middle;\n",
              "    }\n",
              "\n",
              "    .dataframe tbody tr th {\n",
              "        vertical-align: top;\n",
              "    }\n",
              "\n",
              "    .dataframe thead th {\n",
              "        text-align: right;\n",
              "    }\n",
              "</style>\n",
              "<table border=\"1\" class=\"dataframe\">\n",
              "  <thead>\n",
              "    <tr style=\"text-align: right;\">\n",
              "      <th></th>\n",
              "      <th>InvoiceNo</th>\n",
              "      <th>StockCode</th>\n",
              "      <th>Description</th>\n",
              "      <th>Quantity</th>\n",
              "      <th>InvoiceDate</th>\n",
              "      <th>UnitPrice</th>\n",
              "      <th>CustomerID</th>\n",
              "      <th>Country</th>\n",
              "    </tr>\n",
              "  </thead>\n",
              "  <tbody>\n",
              "    <tr>\n",
              "      <th>0</th>\n",
              "      <td>536365</td>\n",
              "      <td>85123A</td>\n",
              "      <td>WHITE HANGING HEART T-LIGHT HOLDER</td>\n",
              "      <td>6</td>\n",
              "      <td>2010-12-01 08:26:00</td>\n",
              "      <td>2.55</td>\n",
              "      <td>17850.0</td>\n",
              "      <td>United Kingdom</td>\n",
              "    </tr>\n",
              "    <tr>\n",
              "      <th>1</th>\n",
              "      <td>536365</td>\n",
              "      <td>71053</td>\n",
              "      <td>WHITE METAL LANTERN</td>\n",
              "      <td>6</td>\n",
              "      <td>2010-12-01 08:26:00</td>\n",
              "      <td>3.39</td>\n",
              "      <td>17850.0</td>\n",
              "      <td>United Kingdom</td>\n",
              "    </tr>\n",
              "    <tr>\n",
              "      <th>2</th>\n",
              "      <td>536365</td>\n",
              "      <td>84406B</td>\n",
              "      <td>CREAM CUPID HEARTS COAT HANGER</td>\n",
              "      <td>8</td>\n",
              "      <td>2010-12-01 08:26:00</td>\n",
              "      <td>2.75</td>\n",
              "      <td>17850.0</td>\n",
              "      <td>United Kingdom</td>\n",
              "    </tr>\n",
              "    <tr>\n",
              "      <th>3</th>\n",
              "      <td>536365</td>\n",
              "      <td>84029G</td>\n",
              "      <td>KNITTED UNION FLAG HOT WATER BOTTLE</td>\n",
              "      <td>6</td>\n",
              "      <td>2010-12-01 08:26:00</td>\n",
              "      <td>3.39</td>\n",
              "      <td>17850.0</td>\n",
              "      <td>United Kingdom</td>\n",
              "    </tr>\n",
              "    <tr>\n",
              "      <th>4</th>\n",
              "      <td>536365</td>\n",
              "      <td>84029E</td>\n",
              "      <td>RED WOOLLY HOTTIE WHITE HEART.</td>\n",
              "      <td>6</td>\n",
              "      <td>2010-12-01 08:26:00</td>\n",
              "      <td>3.39</td>\n",
              "      <td>17850.0</td>\n",
              "      <td>United Kingdom</td>\n",
              "    </tr>\n",
              "    <tr>\n",
              "      <th>...</th>\n",
              "      <td>...</td>\n",
              "      <td>...</td>\n",
              "      <td>...</td>\n",
              "      <td>...</td>\n",
              "      <td>...</td>\n",
              "      <td>...</td>\n",
              "      <td>...</td>\n",
              "      <td>...</td>\n",
              "    </tr>\n",
              "    <tr>\n",
              "      <th>541904</th>\n",
              "      <td>581587</td>\n",
              "      <td>22613</td>\n",
              "      <td>PACK OF 20 SPACEBOY NAPKINS</td>\n",
              "      <td>12</td>\n",
              "      <td>2011-12-09 12:50:00</td>\n",
              "      <td>0.85</td>\n",
              "      <td>12680.0</td>\n",
              "      <td>France</td>\n",
              "    </tr>\n",
              "    <tr>\n",
              "      <th>541905</th>\n",
              "      <td>581587</td>\n",
              "      <td>22899</td>\n",
              "      <td>CHILDREN'S APRON DOLLY GIRL</td>\n",
              "      <td>6</td>\n",
              "      <td>2011-12-09 12:50:00</td>\n",
              "      <td>2.10</td>\n",
              "      <td>12680.0</td>\n",
              "      <td>France</td>\n",
              "    </tr>\n",
              "    <tr>\n",
              "      <th>541906</th>\n",
              "      <td>581587</td>\n",
              "      <td>23254</td>\n",
              "      <td>CHILDRENS CUTLERY DOLLY GIRL</td>\n",
              "      <td>4</td>\n",
              "      <td>2011-12-09 12:50:00</td>\n",
              "      <td>4.15</td>\n",
              "      <td>12680.0</td>\n",
              "      <td>France</td>\n",
              "    </tr>\n",
              "    <tr>\n",
              "      <th>541907</th>\n",
              "      <td>581587</td>\n",
              "      <td>23255</td>\n",
              "      <td>CHILDRENS CUTLERY CIRCUS PARADE</td>\n",
              "      <td>4</td>\n",
              "      <td>2011-12-09 12:50:00</td>\n",
              "      <td>4.15</td>\n",
              "      <td>12680.0</td>\n",
              "      <td>France</td>\n",
              "    </tr>\n",
              "    <tr>\n",
              "      <th>541908</th>\n",
              "      <td>581587</td>\n",
              "      <td>22138</td>\n",
              "      <td>BAKING SET 9 PIECE RETROSPOT</td>\n",
              "      <td>3</td>\n",
              "      <td>2011-12-09 12:50:00</td>\n",
              "      <td>4.95</td>\n",
              "      <td>12680.0</td>\n",
              "      <td>France</td>\n",
              "    </tr>\n",
              "  </tbody>\n",
              "</table>\n",
              "<p>541909 rows × 8 columns</p>\n",
              "</div>\n",
              "    <div class=\"colab-df-buttons\">\n",
              "\n",
              "  <div class=\"colab-df-container\">\n",
              "    <button class=\"colab-df-convert\" onclick=\"convertToInteractive('df-e6bbed83-dfc5-4e7e-b2aa-a53c1413eda3')\"\n",
              "            title=\"Convert this dataframe to an interactive table.\"\n",
              "            style=\"display:none;\">\n",
              "\n",
              "  <svg xmlns=\"http://www.w3.org/2000/svg\" height=\"24px\" viewBox=\"0 -960 960 960\">\n",
              "    <path d=\"M120-120v-720h720v720H120Zm60-500h600v-160H180v160Zm220 220h160v-160H400v160Zm0 220h160v-160H400v160ZM180-400h160v-160H180v160Zm440 0h160v-160H620v160ZM180-180h160v-160H180v160Zm440 0h160v-160H620v160Z\"/>\n",
              "  </svg>\n",
              "    </button>\n",
              "\n",
              "  <style>\n",
              "    .colab-df-container {\n",
              "      display:flex;\n",
              "      gap: 12px;\n",
              "    }\n",
              "\n",
              "    .colab-df-convert {\n",
              "      background-color: #E8F0FE;\n",
              "      border: none;\n",
              "      border-radius: 50%;\n",
              "      cursor: pointer;\n",
              "      display: none;\n",
              "      fill: #1967D2;\n",
              "      height: 32px;\n",
              "      padding: 0 0 0 0;\n",
              "      width: 32px;\n",
              "    }\n",
              "\n",
              "    .colab-df-convert:hover {\n",
              "      background-color: #E2EBFA;\n",
              "      box-shadow: 0px 1px 2px rgba(60, 64, 67, 0.3), 0px 1px 3px 1px rgba(60, 64, 67, 0.15);\n",
              "      fill: #174EA6;\n",
              "    }\n",
              "\n",
              "    .colab-df-buttons div {\n",
              "      margin-bottom: 4px;\n",
              "    }\n",
              "\n",
              "    [theme=dark] .colab-df-convert {\n",
              "      background-color: #3B4455;\n",
              "      fill: #D2E3FC;\n",
              "    }\n",
              "\n",
              "    [theme=dark] .colab-df-convert:hover {\n",
              "      background-color: #434B5C;\n",
              "      box-shadow: 0px 1px 3px 1px rgba(0, 0, 0, 0.15);\n",
              "      filter: drop-shadow(0px 1px 2px rgba(0, 0, 0, 0.3));\n",
              "      fill: #FFFFFF;\n",
              "    }\n",
              "  </style>\n",
              "\n",
              "    <script>\n",
              "      const buttonEl =\n",
              "        document.querySelector('#df-e6bbed83-dfc5-4e7e-b2aa-a53c1413eda3 button.colab-df-convert');\n",
              "      buttonEl.style.display =\n",
              "        google.colab.kernel.accessAllowed ? 'block' : 'none';\n",
              "\n",
              "      async function convertToInteractive(key) {\n",
              "        const element = document.querySelector('#df-e6bbed83-dfc5-4e7e-b2aa-a53c1413eda3');\n",
              "        const dataTable =\n",
              "          await google.colab.kernel.invokeFunction('convertToInteractive',\n",
              "                                                    [key], {});\n",
              "        if (!dataTable) return;\n",
              "\n",
              "        const docLinkHtml = 'Like what you see? Visit the ' +\n",
              "          '<a target=\"_blank\" href=https://colab.research.google.com/notebooks/data_table.ipynb>data table notebook</a>'\n",
              "          + ' to learn more about interactive tables.';\n",
              "        element.innerHTML = '';\n",
              "        dataTable['output_type'] = 'display_data';\n",
              "        await google.colab.output.renderOutput(dataTable, element);\n",
              "        const docLink = document.createElement('div');\n",
              "        docLink.innerHTML = docLinkHtml;\n",
              "        element.appendChild(docLink);\n",
              "      }\n",
              "    </script>\n",
              "  </div>\n",
              "\n",
              "\n",
              "<div id=\"df-6d41cb1e-bc9e-4c08-b1dc-30aa74416557\">\n",
              "  <button class=\"colab-df-quickchart\" onclick=\"quickchart('df-6d41cb1e-bc9e-4c08-b1dc-30aa74416557')\"\n",
              "            title=\"Suggest charts\"\n",
              "            style=\"display:none;\">\n",
              "\n",
              "<svg xmlns=\"http://www.w3.org/2000/svg\" height=\"24px\"viewBox=\"0 0 24 24\"\n",
              "     width=\"24px\">\n",
              "    <g>\n",
              "        <path d=\"M19 3H5c-1.1 0-2 .9-2 2v14c0 1.1.9 2 2 2h14c1.1 0 2-.9 2-2V5c0-1.1-.9-2-2-2zM9 17H7v-7h2v7zm4 0h-2V7h2v10zm4 0h-2v-4h2v4z\"/>\n",
              "    </g>\n",
              "</svg>\n",
              "  </button>\n",
              "\n",
              "<style>\n",
              "  .colab-df-quickchart {\n",
              "      --bg-color: #E8F0FE;\n",
              "      --fill-color: #1967D2;\n",
              "      --hover-bg-color: #E2EBFA;\n",
              "      --hover-fill-color: #174EA6;\n",
              "      --disabled-fill-color: #AAA;\n",
              "      --disabled-bg-color: #DDD;\n",
              "  }\n",
              "\n",
              "  [theme=dark] .colab-df-quickchart {\n",
              "      --bg-color: #3B4455;\n",
              "      --fill-color: #D2E3FC;\n",
              "      --hover-bg-color: #434B5C;\n",
              "      --hover-fill-color: #FFFFFF;\n",
              "      --disabled-bg-color: #3B4455;\n",
              "      --disabled-fill-color: #666;\n",
              "  }\n",
              "\n",
              "  .colab-df-quickchart {\n",
              "    background-color: var(--bg-color);\n",
              "    border: none;\n",
              "    border-radius: 50%;\n",
              "    cursor: pointer;\n",
              "    display: none;\n",
              "    fill: var(--fill-color);\n",
              "    height: 32px;\n",
              "    padding: 0;\n",
              "    width: 32px;\n",
              "  }\n",
              "\n",
              "  .colab-df-quickchart:hover {\n",
              "    background-color: var(--hover-bg-color);\n",
              "    box-shadow: 0 1px 2px rgba(60, 64, 67, 0.3), 0 1px 3px 1px rgba(60, 64, 67, 0.15);\n",
              "    fill: var(--button-hover-fill-color);\n",
              "  }\n",
              "\n",
              "  .colab-df-quickchart-complete:disabled,\n",
              "  .colab-df-quickchart-complete:disabled:hover {\n",
              "    background-color: var(--disabled-bg-color);\n",
              "    fill: var(--disabled-fill-color);\n",
              "    box-shadow: none;\n",
              "  }\n",
              "\n",
              "  .colab-df-spinner {\n",
              "    border: 2px solid var(--fill-color);\n",
              "    border-color: transparent;\n",
              "    border-bottom-color: var(--fill-color);\n",
              "    animation:\n",
              "      spin 1s steps(1) infinite;\n",
              "  }\n",
              "\n",
              "  @keyframes spin {\n",
              "    0% {\n",
              "      border-color: transparent;\n",
              "      border-bottom-color: var(--fill-color);\n",
              "      border-left-color: var(--fill-color);\n",
              "    }\n",
              "    20% {\n",
              "      border-color: transparent;\n",
              "      border-left-color: var(--fill-color);\n",
              "      border-top-color: var(--fill-color);\n",
              "    }\n",
              "    30% {\n",
              "      border-color: transparent;\n",
              "      border-left-color: var(--fill-color);\n",
              "      border-top-color: var(--fill-color);\n",
              "      border-right-color: var(--fill-color);\n",
              "    }\n",
              "    40% {\n",
              "      border-color: transparent;\n",
              "      border-right-color: var(--fill-color);\n",
              "      border-top-color: var(--fill-color);\n",
              "    }\n",
              "    60% {\n",
              "      border-color: transparent;\n",
              "      border-right-color: var(--fill-color);\n",
              "    }\n",
              "    80% {\n",
              "      border-color: transparent;\n",
              "      border-right-color: var(--fill-color);\n",
              "      border-bottom-color: var(--fill-color);\n",
              "    }\n",
              "    90% {\n",
              "      border-color: transparent;\n",
              "      border-bottom-color: var(--fill-color);\n",
              "    }\n",
              "  }\n",
              "</style>\n",
              "\n",
              "  <script>\n",
              "    async function quickchart(key) {\n",
              "      const quickchartButtonEl =\n",
              "        document.querySelector('#' + key + ' button');\n",
              "      quickchartButtonEl.disabled = true;  // To prevent multiple clicks.\n",
              "      quickchartButtonEl.classList.add('colab-df-spinner');\n",
              "      try {\n",
              "        const charts = await google.colab.kernel.invokeFunction(\n",
              "            'suggestCharts', [key], {});\n",
              "      } catch (error) {\n",
              "        console.error('Error during call to suggestCharts:', error);\n",
              "      }\n",
              "      quickchartButtonEl.classList.remove('colab-df-spinner');\n",
              "      quickchartButtonEl.classList.add('colab-df-quickchart-complete');\n",
              "    }\n",
              "    (() => {\n",
              "      let quickchartButtonEl =\n",
              "        document.querySelector('#df-6d41cb1e-bc9e-4c08-b1dc-30aa74416557 button');\n",
              "      quickchartButtonEl.style.display =\n",
              "        google.colab.kernel.accessAllowed ? 'block' : 'none';\n",
              "    })();\n",
              "  </script>\n",
              "</div>\n",
              "    </div>\n",
              "  </div>\n"
            ],
            "text/plain": [
              "       InvoiceNo StockCode                          Description  Quantity  \\\n",
              "0         536365    85123A   WHITE HANGING HEART T-LIGHT HOLDER         6   \n",
              "1         536365     71053                  WHITE METAL LANTERN         6   \n",
              "2         536365    84406B       CREAM CUPID HEARTS COAT HANGER         8   \n",
              "3         536365    84029G  KNITTED UNION FLAG HOT WATER BOTTLE         6   \n",
              "4         536365    84029E       RED WOOLLY HOTTIE WHITE HEART.         6   \n",
              "...          ...       ...                                  ...       ...   \n",
              "541904    581587     22613          PACK OF 20 SPACEBOY NAPKINS        12   \n",
              "541905    581587     22899         CHILDREN'S APRON DOLLY GIRL          6   \n",
              "541906    581587     23254        CHILDRENS CUTLERY DOLLY GIRL          4   \n",
              "541907    581587     23255      CHILDRENS CUTLERY CIRCUS PARADE         4   \n",
              "541908    581587     22138        BAKING SET 9 PIECE RETROSPOT          3   \n",
              "\n",
              "               InvoiceDate  UnitPrice  CustomerID         Country  \n",
              "0      2010-12-01 08:26:00       2.55     17850.0  United Kingdom  \n",
              "1      2010-12-01 08:26:00       3.39     17850.0  United Kingdom  \n",
              "2      2010-12-01 08:26:00       2.75     17850.0  United Kingdom  \n",
              "3      2010-12-01 08:26:00       3.39     17850.0  United Kingdom  \n",
              "4      2010-12-01 08:26:00       3.39     17850.0  United Kingdom  \n",
              "...                    ...        ...         ...             ...  \n",
              "541904 2011-12-09 12:50:00       0.85     12680.0          France  \n",
              "541905 2011-12-09 12:50:00       2.10     12680.0          France  \n",
              "541906 2011-12-09 12:50:00       4.15     12680.0          France  \n",
              "541907 2011-12-09 12:50:00       4.15     12680.0          France  \n",
              "541908 2011-12-09 12:50:00       4.95     12680.0          France  \n",
              "\n",
              "[541909 rows x 8 columns]"
            ]
          },
          "execution_count": 6,
          "metadata": {},
          "output_type": "execute_result"
        }
      ],
      "source": [
        "df"
      ]
    },
    {
      "cell_type": "markdown",
      "metadata": {
        "id": "HChM_88szGTN"
      },
      "source": [
        "A tabela acima mostra a estrutura da planilha. Podemos observar os campos:\n",
        "\n",
        "- **InvoiceNo**: Este é um identificador único para cada compra.\n",
        "- **StockCode**: Identificador único para cada produto.\n",
        "- **Description**: Descrição do produto.\n",
        "- **Quantidade**: Quantidade daquele produto, naquela compra.\n",
        "- **InvoiceDate**: Dia e hora da compra.\n",
        "- **CustomerID**: Identificador único do cliente."
      ]
    },
    {
      "cell_type": "code",
      "execution_count": 7,
      "metadata": {
        "colab": {
          "base_uri": "https://localhost:8080/"
        },
        "id": "oN-jtPHe0VKz",
        "outputId": "9ffc1884-4f0b-447a-ca7e-b4f761a2662d"
      },
      "outputs": [
        {
          "data": {
            "text/plain": [
              "(541909, 8)"
            ]
          },
          "execution_count": 7,
          "metadata": {},
          "output_type": "execute_result"
        }
      ],
      "source": [
        "df.shape"
      ]
    },
    {
      "cell_type": "markdown",
      "metadata": {
        "id": "TfS_FBWK0Y_Y"
      },
      "source": [
        "Acima vemos que essa base de dados possui 541.909 registros. Cada registro representa uma linha, ou seja, um produto comprado (cuja quantidade pode ser maior que 1). Diferentes linhas podem representar diferentes itens de uma mesma compra."
      ]
    },
    {
      "cell_type": "markdown",
      "metadata": {
        "id": "zwgPe3f90tSw"
      },
      "source": [
        "## Passo 2: Remoção de Dados Nulos\n",
        "\n",
        "Neste passo vamos remover da base de dados os dados relativos a compras de produtos onde algum dos dados de interesse estejam faltando."
      ]
    },
    {
      "cell_type": "markdown",
      "metadata": {
        "id": "AeSIJZ9x1Cuv"
      },
      "source": [
        "Começamos observando a quantidade de dados nulos"
      ]
    },
    {
      "cell_type": "code",
      "execution_count": 8,
      "metadata": {
        "colab": {
          "base_uri": "https://localhost:8080/"
        },
        "id": "jJmozJlf1Aze",
        "outputId": "c43447d2-9dd2-4377-f4e6-0713627fbcf5"
      },
      "outputs": [
        {
          "data": {
            "text/plain": [
              "InvoiceNo           0\n",
              "StockCode           0\n",
              "Description      1454\n",
              "Quantity            0\n",
              "InvoiceDate         0\n",
              "UnitPrice           0\n",
              "CustomerID     135080\n",
              "Country             0\n",
              "dtype: int64"
            ]
          },
          "execution_count": 8,
          "metadata": {},
          "output_type": "execute_result"
        }
      ],
      "source": [
        "df.isnull().sum()"
      ]
    },
    {
      "cell_type": "markdown",
      "metadata": {
        "id": "KWgIGnJL1M9b"
      },
      "source": [
        "Acima podemos observar há 1.454 registros sem a descrição do produto, e 135.080 registros sem a identificação do cliente comprador."
      ]
    },
    {
      "cell_type": "markdown",
      "metadata": {
        "id": "H7RR0IK82HuT"
      },
      "source": [
        "No código abaixo você deve remover todos os registros onde aparece pelo menos um dos campos nulos. Para entender como fazer isso, veja esse trecho da videoaula sobre pandas (especificamente a partir de 19m41s no vídeo, até mais ou menos 21m).\n",
        "\n"
      ]
    },
    {
      "cell_type": "code",
      "execution_count": 9,
      "metadata": {
        "colab": {
          "base_uri": "https://localhost:8080/",
          "height": 321
        },
        "id": "-77dPKr1Wcz3",
        "outputId": "02608fbb-a121-48e7-91da-72616b0bdedf"
      },
      "outputs": [
        {
          "data": {
            "image/jpeg": "[encoded data removed]",
            "text/html": [
              "\n",
              "        <iframe\n",
              "            width=\"400\"\n",
              "            height=\"300\"\n",
              "            src=\"https://www.youtube.com/embed/usmbTUx9zdY?start=1181\"\n",
              "            frameborder=\"0\"\n",
              "            allowfullscreen\n",
              "            \n",
              "        ></iframe>\n",
              "        "
            ],
            "text/plain": [
              "<IPython.lib.display.YouTubeVideo at 0x7be9450cda20>"
            ]
          },
          "execution_count": 9,
          "metadata": {},
          "output_type": "execute_result"
        }
      ],
      "source": [
        "from IPython.display import YouTubeVideo\n",
        "YouTubeVideo('usmbTUx9zdY', start=1181)"
      ]
    },
    {
      "cell_type": "code",
      "execution_count": 10,
      "metadata": {
        "id": "1ZrVo84f2OmJ"
      },
      "outputs": [],
      "source": [
        "\n",
        "df.dropna(inplace=True)\n"
      ]
    },
    {
      "cell_type": "code",
      "execution_count": 11,
      "metadata": {
        "colab": {
          "base_uri": "https://localhost:8080/"
        },
        "id": "pJL2FDvJVOF1",
        "outputId": "395c9142-bed7-4a17-dc3a-e6ef07cc0a7c"
      },
      "outputs": [
        {
          "data": {
            "text/plain": [
              "InvoiceNo      0\n",
              "StockCode      0\n",
              "Description    0\n",
              "Quantity       0\n",
              "InvoiceDate    0\n",
              "UnitPrice      0\n",
              "CustomerID     0\n",
              "Country        0\n",
              "dtype: int64"
            ]
          },
          "execution_count": 11,
          "metadata": {},
          "output_type": "execute_result"
        }
      ],
      "source": [
        "\n",
        "\n",
        "df.isnull().sum()"
      ]
    },
    {
      "cell_type": "markdown",
      "metadata": {
        "id": "nlj5sCY7SNs8"
      },
      "source": [
        "## Passo 3: Dicionário de Produtos"
      ]
    },
    {
      "cell_type": "markdown",
      "metadata": {
        "id": "xd7p7gROY2Dq"
      },
      "source": [
        "Agora vamos preparar um dicionário de códigos e respectivas descrições dos produtos. Esse dicionário servirá para que nós, humanos, possamos inspecionar o resultado de nossas operações no _embedding_, já que o _embedding_ vai ser treinado com base nos códigos dos produtos. Como os códigos não permitem inspeção intuitiva da natureza de cada produto, vamos precisar desse dicionário para entender qual é a descrição do produto correspondente a cada código."
      ]
    },
    {
      "cell_type": "markdown",
      "metadata": {
        "id": "CVIvmK9v3O96"
      },
      "source": [
        "### Passo 3.1: Conversão dos Códigos para Strings\n",
        "\n",
        "Começamos convertendo os códigos de produto (coluna **StockCode**) para string, para usar como \"palavras\" no treinamento de um modelo word2vec no `gensim` mais tarde.\n",
        "\n",
        "Para fazer isso você pode usar o método `.astype(tipo)` do pandas. Com esse comando, você consegue converter uma coluna específica do DataFrame para o tipo de dado que quiser. Por exemplo, se tivéssemos um DataFrame `d` com uma coluna chamada `idade` no formato `int` e se quiséssemos converter para o formato `float`, bastaria executar o comando:\n",
        "\n",
        "`# Converte idade para float`\n",
        "\n",
        "`d['idade'] = d['idade'].astype(float)`\n",
        "\n",
        "No nosso caso, queremos transformar o campo `StockCode` do DataFrame `df` para o formato string (`str`). Após a alteração, os elementos da coluna `StockCode` de `df` deverão ser strings.\n"
      ]
    },
    {
      "cell_type": "code",
      "execution_count": 12,
      "metadata": {
        "id": "Wvr77qNr2yKh"
      },
      "outputs": [],
      "source": [
        "\n",
        "\n",
        "df['StockCode'] = df['StockCode'].astype(str)\n"
      ]
    },
    {
      "cell_type": "markdown",
      "metadata": {
        "id": "0HLn63a1TYfX"
      },
      "source": [
        "### Passo 3.2\n",
        "\n",
        "Agora criaremos um novo _DataFrame_, de nome `products`. Selecionaremos apenas as colunas `StockCode` e `Description` do _DataFrame_ original, `df`.\n",
        "\n",
        "Para entender como selecionar colunas específicas, veja o vídeo abaixo a partir de 21m07s até 21m35s."
      ]
    },
    {
      "cell_type": "code",
      "execution_count": 11,
      "metadata": {
        "colab": {
          "base_uri": "https://localhost:8080/",
          "height": 321
        },
        "id": "suIsqNd2Z-qL",
        "outputId": "edcba165-2b26-4d7f-ecc5-3177f0e57348"
      },
      "outputs": [
        {
          "data": {
            "image/jpeg": "[encoded data removed]",
            "text/html": [
              "\n",
              "        <iframe\n",
              "            width=\"400\"\n",
              "            height=\"300\"\n",
              "            src=\"https://www.youtube.com/embed/usmbTUx9zdY?start=1267\"\n",
              "            frameborder=\"0\"\n",
              "            allowfullscreen\n",
              "            \n",
              "        ></iframe>\n",
              "        "
            ],
            "text/plain": [
              "<IPython.lib.display.YouTubeVideo at 0x7b5ec513de70>"
            ]
          },
          "execution_count": 11,
          "metadata": {},
          "output_type": "execute_result"
        }
      ],
      "source": [
        "YouTubeVideo('usmbTUx9zdY', start=1267)"
      ]
    },
    {
      "cell_type": "markdown",
      "metadata": {
        "id": "DdB8mxOuy4bl"
      },
      "source": [
        "Escreva seu código abaixo, criando o `DataFrame` de nome `products` que seleciona apenas as colunas `StockCode` e `Description`."
      ]
    },
    {
      "cell_type": "code",
      "execution_count": 13,
      "metadata": {
        "id": "mZhbpw2PSUUL"
      },
      "outputs": [],
      "source": [
        "\n",
        "\n",
        "products = df[['StockCode', 'Description']].copy()\n"
      ]
    },
    {
      "cell_type": "markdown",
      "metadata": {
        "id": "VzMELP7uzeUM"
      },
      "source": [
        "### Passo 3.3 Remoção de Itens Duplicados\n",
        "\n",
        "Obviamente muitos produtos foram comprados mais de uma vez. Em nosso dicionário de códigos e descrições, como a finalidade é simplesmente identificar a descrição que corresponde a um determinado código, então não faz sentido ter itens duplicados.\n",
        "\n",
        "No código abaixo faça uma remoção de todas entradas onde o código do produto (coluna `StockCode`) seja duplicado.\n",
        "\n",
        "Para entender como fazer isso, veja o vídeo abaixo a partir de 21m41s até 22m10s."
      ]
    },
    {
      "cell_type": "code",
      "execution_count": 14,
      "metadata": {
        "colab": {
          "base_uri": "https://localhost:8080/",
          "height": 321
        },
        "id": "Y20WJ3up0nLO",
        "outputId": "6c3cb5f4-3384-45e7-8ef0-09198b026c9f"
      },
      "outputs": [
        {
          "data": {
            "image/jpeg": "[encoded data removed]",
            "text/html": [
              "\n",
              "        <iframe\n",
              "            width=\"400\"\n",
              "            height=\"300\"\n",
              "            src=\"https://www.youtube.com/embed/usmbTUx9zdY?start=1301\"\n",
              "            frameborder=\"0\"\n",
              "            allowfullscreen\n",
              "            \n",
              "        ></iframe>\n",
              "        "
            ],
            "text/plain": [
              "<IPython.lib.display.YouTubeVideo at 0x7be9450cf730>"
            ]
          },
          "execution_count": 14,
          "metadata": {},
          "output_type": "execute_result"
        }
      ],
      "source": [
        "YouTubeVideo('usmbTUx9zdY', start=1301)"
      ]
    },
    {
      "cell_type": "code",
      "execution_count": 15,
      "metadata": {
        "id": "BtdlOtbOzIJ8"
      },
      "outputs": [],
      "source": [
        "\n",
        "\n",
        "products.drop_duplicates(subset='StockCode', keep='first', inplace=True)\n"
      ]
    },
    {
      "cell_type": "markdown",
      "metadata": {
        "id": "d_Zh1f1P1MfN"
      },
      "source": [
        "### Passo 3.4 Criação do Dicionário\n",
        "\n",
        "Agora você vai criar um dicionário nativo do Python, onde as chaves serão os códigos dos produtos (`StockCode`) e os valores serão as respectivas strings de descrição (`Description`).\n",
        "\n",
        "Para entender como converter este DataFrame em um dicionário, assista o vídeo abaixo, a partir de 22min35s até 23min03s."
      ]
    },
    {
      "cell_type": "code",
      "execution_count": null,
      "metadata": {
        "id": "QkNkTizRvFu_"
      },
      "outputs": [],
      "source": [
        "YouTubeVideo('usmbTUx9zdY', start=1355)"
      ]
    },
    {
      "cell_type": "code",
      "execution_count": 16,
      "metadata": {
        "id": "An0BgKa91RTl"
      },
      "outputs": [],
      "source": [
        "\n",
        "products_dict = products.set_index('StockCode')['Description'].to_dict()\n",
        "\n"
      ]
    },
    {
      "cell_type": "code",
      "execution_count": 17,
      "metadata": {
        "colab": {
          "base_uri": "https://localhost:8080/",
          "height": 36
        },
        "id": "0GtvB9h7Sm-1",
        "outputId": "a6f03b46-c1dc-4ebf-ed37-7f3cedccded5"
      },
      "outputs": [
        {
          "data": {
            "application/vnd.google.colaboratory.intrinsic+json": {
              "type": "string"
            },
            "text/plain": [
              "'RED WOOLLY HOTTIE WHITE HEART.'"
            ]
          },
          "execution_count": 17,
          "metadata": {},
          "output_type": "execute_result"
        }
      ],
      "source": [
        "\n",
        "\n",
        "products_dict['84029E']"
      ]
    },
    {
      "cell_type": "markdown",
      "metadata": {
        "id": "XzH4dqdM2bPg"
      },
      "source": [
        "## Passo 4: Preparação dos Dados\n",
        "\n",
        "Neste passo vamos preprarar os dados transformando o histórico de compras de cada consumidor numa espécie de \"frase\", onde cada \"palavra\" é um produto comprado."
      ]
    },
    {
      "cell_type": "markdown",
      "metadata": {
        "id": "qev247Zd3fq2"
      },
      "source": [
        "### Passo 4.1: Contagem dos Clientes Únicos\n",
        "\n",
        "Nesta base de dados temos o registro de cada compra de cada cliente ao longo de um ano. Isso significa que não apenas podemos ter o mesmo produto sendo comprado por diferentes clientes, mas também teremos o mesmo cliente, fazendo diferentes compras em diferentes momentos.\n",
        "\n",
        "Para avaliar nosso sistema de forma mais justa e próxima de um uso real, vamos tentar separar dados de validação e dados de treinamento de forma que não usemos compras de um mesmo cliente nos dados de validação e nos dados de treinamento (mesmo que em momentos diferentes). Em outras palavras, vamos separar _todas as compras_ de certos clientes para treinamento e _todas as compras_ de certos outros clientes para validação, ou seja, a separação será pelo cliente que realizou a compra. Assim todas compras de um determinado cliente estarão exclusivamente nos dados de validação ou exclusivamente nos dados de treinamento, nunca em ambos. Isso servirá para que possamos avaliar se o sistema de recomendação funciona, mesmo quando treinado para clientes diferentes daqueles para os quais estamos recomendando no momento: quer dizer que podemos treinar o sistema com as compras dos clientes escolhidos para o grupo de treinamento e avaliar as recomendações num grupo de clientes que o sistema nunca viu antes.\n",
        "\n",
        "Para fazer isso, seria interessante começar confirmando exatamente quantos clientes únicos temos nessa base de dados.\n",
        "\n",
        "A partir do DataFrame `df` selecione a coluna `CustomerID` e usando os métodos `unique()` e a conversão `tolist()`, gere uma lista com todos os ids de clientes únicos. Essa lista deverá se chamar `customers`.\n",
        "\n",
        "O vídeo abaixo, a partir de 23m59s até 25m16s, mostra como isso pode ser feito."
      ]
    },
    {
      "cell_type": "code",
      "execution_count": null,
      "metadata": {
        "id": "uVQZtVkT0Mqh"
      },
      "outputs": [],
      "source": [
        "YouTubeVideo('usmbTUx9zdY', start=1439)"
      ]
    },
    {
      "cell_type": "code",
      "execution_count": 18,
      "metadata": {
        "id": "SLGQA2VZ3lpc"
      },
      "outputs": [],
      "source": [
        "\n",
        "\n",
        "customers = df['CustomerID'].unique().tolist()\n"
      ]
    },
    {
      "cell_type": "code",
      "execution_count": 19,
      "metadata": {
        "colab": {
          "base_uri": "https://localhost:8080/"
        },
        "id": "Em6vNYCjzU8K",
        "outputId": "6bd15160-61d0-472d-f71d-6438e5863f9a"
      },
      "outputs": [
        {
          "data": {
            "text/plain": [
              "4372"
            ]
          },
          "execution_count": 19,
          "metadata": {},
          "output_type": "execute_result"
        }
      ],
      "source": [
        "len(customers)"
      ]
    },
    {
      "cell_type": "markdown",
      "metadata": {
        "id": "2ZTGaq3n35dn"
      },
      "source": [
        "Se tudo deu certo até aqui, então verificamos que há exatamente 4.372 clientes na nossa base de dados. Para cada um desses clientes vamos verificar o histórico de compras, criando 4.372 sequências de compras."
      ]
    },
    {
      "cell_type": "markdown",
      "metadata": {
        "id": "cIMP9AOiHWOr"
      },
      "source": [
        "### Passo 4.2: Embaralhamento dos Dados\n",
        "\n",
        "Agora escreva código para embaralhar a ordem dos ids dos clientes na lista `customers`, usando o método `shuffle`. O resultado deve estar na própria variável `customers` (não mude o nome da variável)."
      ]
    },
    {
      "cell_type": "code",
      "execution_count": 20,
      "metadata": {
        "id": "MvRoZx2wHOXv"
      },
      "outputs": [],
      "source": [
        "\n",
        "import random\n",
        "random.shuffle(customers)\n",
        "\n"
      ]
    },
    {
      "cell_type": "markdown",
      "metadata": {
        "id": "cQYdfD3RJI75"
      },
      "source": [
        "### Passo 4.3: Separação dos Dados de Treinamento e Validação\n",
        "\n",
        "Agora vamos separar dados de treinamento e de validação. Vamos separar 10% dos dados para validação e 90% dos dados para treinamento. Mas esses percentuais serão separados em termos de clientes. Isso significa que faremos o seguinte:\n",
        "\n",
        "1. Definiremos uma lista de clientes de treinamento, contendo 90% dos itens da variável `customers`. Vamos chamar essa variável de `customers_train`.\n",
        "2. Definiremos uma lista de clientes de validação, contendo 10% dos itens da variável `customers`. Vamos chamar essa variável de `customers_val`.\n",
        "3. Em nosso dataset `df`, selecionaremos todas as linhas onde o campo `CustomerID` contenha um código de cliente presente na lista `customers_train`. Essa seleção será um novo dataset de nome `df_train`.\n",
        "4. Faremos o mesmo com os  dados de validação,  selecionando as linhas de `df` onde `CustomerID` está contido em `customers_val`. Essa seleção chamaremos de `df_val`.\n",
        "\n",
        "Dica: para os passos 3 e 4 acima, use o método `.isin(nome_da_lista)`. Veja o vídeo abaixo a partir de 25m19s até o final do vídeo.\n",
        "\n"
      ]
    },
    {
      "cell_type": "code",
      "execution_count": null,
      "metadata": {
        "id": "ckUuDo_JYF5l"
      },
      "outputs": [],
      "source": [
        "YouTubeVideo('usmbTUx9zdY', start=1519)"
      ]
    },
    {
      "cell_type": "code",
      "execution_count": 21,
      "metadata": {
        "id": "Kq6yEiaQJIjr"
      },
      "outputs": [],
      "source": [
        "\n",
        "percentagem_treinamento = 0.9\n",
        "train_size = int(len(customers) * percentagem_treinamento)\n",
        "\n",
        "\n",
        "customers_train = customers[:train_size]\n",
        "customers_val = customers[train_size:]\n",
        "\n",
        "\n",
        "df_train = df[df['CustomerID'].isin(customers_train)]\n",
        "df_val = df[df['CustomerID'].isin(customers_val)]"
      ]
    },
    {
      "cell_type": "markdown",
      "metadata": {
        "id": "IPSvCp8LKB5n"
      },
      "source": [
        "### Passo 4.4: Função que compila sequência de compras de cada cliente.\n",
        "\n",
        "Com essas listas de clientes criamos abaixo as sequências de compras de acordo com os históricos de cada cliente."
      ]
    },
    {
      "cell_type": "code",
      "execution_count": 22,
      "metadata": {
        "id": "Cp8qT1FJKPY2"
      },
      "outputs": [],
      "source": [
        "def compile_orders(customers, df):\n",
        "  ''' Essa função coleta todas compras do histórico\n",
        "      de cada cliente. O parâmetro customers é a lista\n",
        "      de ids de clientes e o parâmetro df é o objeto\n",
        "      DataFrame do pandas com os dados de cada compra.\n",
        "      O valor retornado é uma lista de listas, onde cada\n",
        "      lista interna contém a seguência de códigos de produto\n",
        "      de cada compra, na ordem que se apresentava no\n",
        "      histórico.\n",
        "  '''\n",
        "\n",
        "  # Essa será a lista de compras -- lista de listas de produtos\n",
        "  orders = []\n",
        "\n",
        "  # Coletaremos as compras de cada cliente\n",
        "  for customer in customers:\n",
        "\n",
        "    # Aqui convertemos os códigos de produtos das compras\n",
        "    # de cada cliente para uma lista única\n",
        "    order = df[df['CustomerID'] == customer]['StockCode'].tolist()\n",
        "\n",
        "    # Essa lista de itens será a lista de produtos que será adicionada\n",
        "    # à lista de compras principal.\n",
        "    orders.append(order)\n",
        "\n",
        "  return orders"
      ]
    },
    {
      "cell_type": "code",
      "execution_count": 23,
      "metadata": {
        "id": "CaIkbOMiM2ne"
      },
      "outputs": [],
      "source": [
        "# Aqui separamos as listas de listas de compras. Este código\n",
        "# demora cerca de 1 minuto para rodar\n",
        "orders_train = compile_orders(customers_train, df_train)\n",
        "orders_val = compile_orders(customers_val, df_val)"
      ]
    },
    {
      "cell_type": "markdown",
      "metadata": {
        "id": "VCqVu7rsQDeQ"
      },
      "source": [
        "## Passo 5: Treinar o Embedding Word2Vec\n",
        "\n",
        "Esta é a última etapa, onde utilizamos a lista de compras (lista de listas com códigos de produtos) para treinar nosso embedding. Essa lista de listas funcionará de forma análoga a uma lista de frases, onde cada frase é uma lista de palavras: lista de listas de palavras. A diferença é que aqui as strings que seriam palavras foram substituídas por códigos de produtos."
      ]
    },
    {
      "cell_type": "code",
      "execution_count": 24,
      "metadata": {
        "id": "u49iedUAQThF"
      },
      "outputs": [],
      "source": [
        "\n",
        "import gensim\n",
        "\n",
        "import numpy as np\n",
        "\n",
        "\n",
        "import warnings;\n",
        "warnings.filterwarnings('ignore')"
      ]
    },
    {
      "cell_type": "code",
      "execution_count": 26,
      "metadata": {
        "id": "CWoNEmF9Q99o"
      },
      "outputs": [],
      "source": [
        "\n",
        "model = gensim.models.Word2Vec(orders_train, \\\n",
        "                               vector_size=50, \\\n",
        "                               window=5, \\\n",
        "                               workers=10, \\\n",
        "                               epochs=10)"
      ]
    },
    {
      "cell_type": "code",
      "execution_count": 27,
      "metadata": {
        "colab": {
          "base_uri": "https://localhost:8080/"
        },
        "id": "aRUDgNq6Rd-_",
        "outputId": "5f6228bc-b79e-4d13-f65e-858e3f70e442"
      },
      "outputs": [
        {
          "name": "stdout",
          "output_type": "stream",
          "text": [
            "Word2Vec<vocab=3178, vector_size=50, alpha=0.025>\n"
          ]
        }
      ],
      "source": [
        "\n",
        "\n",
        "print(model)"
      ]
    },
    {
      "cell_type": "markdown",
      "metadata": {
        "id": "rHWIan6WBhU4"
      },
      "source": [
        "## Passo 5: Resultados\n",
        "\n",
        "Finalmente podemos agora examinar como ficou o resultado.\n",
        "\n",
        "### Passo 5.1: Produtos semelhantes\n",
        "\n",
        "Para facilitar nossos testes, definimos abaixo uma função que retorna os 10 produtos mais semelhantes a um produto específico, passado como argumento."
      ]
    },
    {
      "cell_type": "code",
      "execution_count": 28,
      "metadata": {
        "id": "D8o6X7LbSxM3"
      },
      "outputs": [],
      "source": [
        "def most_similar(product_id):\n",
        "  ''' Essa função mostra os 10 produtos mais semelhantes\n",
        "      ao produto cujo código foi passado como argumento.\n",
        "      Na verdade o método most_similar() do objeto Word2Vec\n",
        "      já faz isso. Aqui apenas acrescentamos as descrições,\n",
        "      para facilitar examinar o resultado, já que olhando\n",
        "      apenas os códigos ficaria difícil de dizer se o\n",
        "      conjunto de produtos semelhantes faz sentido.\n",
        "  '''\n",
        "\n",
        "  # Primeiro mostramos a descrição do produto consultado\n",
        "  print('Most similar to:', products_dict[product_id])\n",
        "\n",
        "  # Aqui buscamos a lista de códigos mais semelhantes\n",
        "  # ao apresentado no embedding.\n",
        "  s = model.most_similar(positive=product_id)\n",
        "\n",
        "  # Para cada código, mostramos a descrição\n",
        "  for product, prob in s:\n",
        "    print(products_dict[product], prob)"
      ]
    },
    {
      "cell_type": "code",
      "execution_count": 30,
      "metadata": {
        "colab": {
          "base_uri": "https://localhost:8080/"
        },
        "id": "VPUMtcNgJY8Q",
        "outputId": "04701fa3-a330-4107-b5da-6a6cfdc6faf5"
      },
      "outputs": [
        {
          "data": {
            "text/plain": [
              "['23093',\n",
              " '22594',\n",
              " '22544',\n",
              " '22848',\n",
              " '23345',\n",
              " '22421',\n",
              " '22732',\n",
              " '22843',\n",
              " '23407',\n",
              " '22494']"
            ]
          },
          "execution_count": 30,
          "metadata": {},
          "output_type": "execute_result"
        }
      ],
      "source": [
        "model.wv.index_to_key[1000:1010]"
      ]
    },
    {
      "cell_type": "code",
      "execution_count": 31,
      "metadata": {
        "colab": {
          "base_uri": "https://localhost:8080/"
        },
        "id": "wxfEa_-bKAQd",
        "outputId": "875d0f2c-232d-4668-a3b8-333925a7d79b"
      },
      "outputs": [
        {
          "data": {
            "text/plain": [
              "dict_keys(['85123A', '71053', '84406B', '84029G', '84029E', '22752', '21730', '22633', '22632', '84879', '22745', '22748', '22749', '22310', '84969', '22623', '22622', '21754', '21755', '21777', '48187', '22960', '22913', '22912', '22914', '21756', '22728', '22727', '22726', '21724', '21883', '10002', '21791', '21035', '22326', '22629', '22659', '22631', '22661', '21731', '22900', '21913', '22540', '22544', '22492', 'POST', '22086', '20679', '37370', '21871', '21071', '21068', '82483', '82486', '82482', '82494L', '21258', '22114', '21733', '22386', '85099C', '21033', '20723', '84997B', '84997C', '21094', '20725', '21559', '22352', '21212', '21975', '21977', '84991', '84519A', '85183B', '85071B', '21931', '21929', '22961', '22139', '84854', '22411', '82567', '21672', '22774', '22771', '71270', '22262', '22637', '21934', '21169', '21166', '21175', '37444A', '37444C', '22083', '84971S', '47580', '22261', '84832', '22644', '21533', '21557', '15056BL', '15056N', '22646', '22176', '22438', '22778', '22719', '21523', 'D', '21912', '21832', '22379', '22381', '22798', '22926', '22839', '22838', '22783', '35004C', '82484', '84755', '22464', '21324', '22457', '22469', '22470', '22224', '21340', '22189', '22427', '22428', '22424', '22663', '85049A', '22168', '22662', '84880', '85099B', '79321', '22780', '22779', '22466', '21363', '21411', '22318', '22915', '22922', '22969', '22923', '21115', '22242', '22941', '21622', '35004G', '85014B', '85014A', '22193', '22192', '22191', '22195', '22196', '22962', '22963', '22968', '84970S', '22910', '20668', '22197', '22198', '21080', '21086', '21786', '22654', '21485', '84030E', '22174', '22556', '21984', '21983', '21980', '21484', '22557', '22553', '22150', '22619', '21891', '21889', '22827', '22127', '22128', '22502', '22338', '22180', '21506', '22866', '22865', '22349', '22558', '85152', '22652', '22188', '21314', '22730', '22729', '22867', '22803', '35004B', '21844', '22468', '48185', '21232', '22064', '22449', '22835', '22112', '21479', '22111', '22110', '22098', '22100', '22766', '22451', '22549', '84744', '85049E', '21328', '17091A', '22473', '84509A', '84510A', '22767', '22768', '21463', '21464', '20820', '85150', '22117', '48129', '82580', '82578', '82581', '22413', '21907', '22441', '21122', '22851', '22810', '22809', '22435', '20966', '20963', '20961', '22068', '21743', '21744', '84709B', '21592', '21587', '20992', '22804', '20749', '22382', '20726', '22384', '22467', '84625C', '84625A', '21108', '22848', '47570B', '22837', '22297', '22772', '22773', '22805', '21125', '21126', '85049C', '85049D', '85049G', '21061', '21063', '21062', '84380', '84378', '22964', '21213', '22417', '84992', '22383', '20728', '20727', '22296', '20914', '22537', '22533', '20982', '21915', '21914', '21544', '22813', '84375', '22418', '22178', '84970L', '22465', '84949', '20685', '48194', '22488', '22219', '22610', '22716', '22706', '22371', '21210', '16237', '22714', '22812', '84347', '22736', '22620', '21705', '90199C', '22785', '22975', '22972', '22568', '85116', '22664', '21609', '21866', '20669', '90129F', '90210B', '21955', '72802C', '22109', '22531', '21811', '22183', '21678', '21676', '85169B', '16238', '84906', '21867', '22075', '21326', '21065', '22074', '20713', '21116', '21824', '21823', '22153', '85099F', '20717', '22328', '22327', '22630', '21245', '21244', '21242', '21243', '22273', '22940', '22759', '21880', '21738', '22077', '21448', '22243', '22141', '22144', '21739', '22271', '22274', '22751', '21034', '22570', '22569', '22902', '21710', '21708', '21711', '22179', '21706', '85184C', '22988', '20750', '22952', '22739', '22738', '22909', '35591T', '22186', '22695', '22580', '22147', '22130', '22694', '21790', '22149', '22321', '22594', '22593', '22595', '21986', '22750', '22616', '22775', '22899', '22367', '22942', '21976', '22951', '22834', '21916', '22587', '22566', '22565', '22472', '22551', '22554', '22534', '22529', '22530', '84032B', '85049H', '22807', '21494', '22938', '21892', '21890', '21718', '21716', '21715', '22113', '22358', '22357', '22115', '21481', '22585', '21556', '22645', '22650', '22508', '22511', '22829', '21154', '17021', '22059', '84678', '85172', '22142', '21591', '22480', '22294', '21156', '10133', '72800E', '84836', '20774', '20773', '20777', '16016', '16014', '21651', '22618', '21586', '22152', '84754', '22670', '84849B', '22927', '22925', '21259', '21257', '21121', '82552', '90200B', '90059B', '90185C', '90059E', '90059C', '90200C', '90200D', '90200A', '22737', '21260', '22744', '21985', '22295', '16258A', '21992', '21124', '22735', '22945', '21816', '21815', '21814', '10125', '22573', '22577', '22603', '20878', '20866', '85095', '22333', '21584', '22731', '22956', '22582', '85231B', '85231G', '22082', '22500', '22742', '21329', '21327', '48173C', '72818', '22312', '21137', '22041', '20979', '20977', '22571', '22423', '21621', '47563A', '84558A', '21577', '22087', '22651', '22713', '21370', '21367', '22376', '21895', '22372', '21190', '21894', '70007', '46000M', '22712', '22983', '22024', '21488', '22895', '22784', '21441', '84947', '22485', '21794', '20707', '22588', '21292', '22760', '22107', '21486', '22151', '22643', '22642', '22604', '22099', '22653', '22906', '22754', '22919', '22917', '22920', '22921', '22918', '22916', '22575', '21804', '21588', '22955', '22583', '22241', '22904', '22905', '22092', '22096', '21358', '21123', '21427', '21930', '20772', '71406C', '84985A', '20754', '84596E', '21111', '22501', '22854', '84997D', '47599A', '47599B', '20972', '21041', '21664', '22907', '22776', '21810', '21197', '85035B', '84968C', '21098', '21192', '72800B', '84563A', '47504H', '21742', '22481', '22943', '22699', '22217', '22227', '21106', '21107', '22697', '21826', '22548', '17164B', '22429', '20974', '20973', '15044B', '21135', '22173', '22626', '22625', '22624', '84945', '22244', '47421', '20712', '22973', '84569B', '22815', '85114B', '22584', '22454', '85114C', '22974', '21452', '22743', '22911', '22453', '22445', '22607', '22635', '22634', '22222', '22947', '22187', '22164', '72598', '22627', '22487', '22360', '22364', '21657', '22120', '21038', '21625', '22097', '21179', '22185', '21662', '85104', '21654', '21658', '21519', '22819', '22704', '21498', '22049', '21497', '21333', '22194', '22688', '84692', '22444', '22555', '22547', '22543', '22539', '22561', '22489', '22814', '21520', '21982', '21981', '21967', '22615', '22614', '22095', '22094', '22966', '21874', '21873', '21870', '84050', '22315', '22667', '22666', '22665', '22567', '82600', '22842', '22494', '22740', '22825', '22680', '22797', '21843', '22118', '22121', '22119', '22311', '72817', '22277', '20867', '21688', '21694', '22800', '22801', '22781', '21466', '21467', '21471', '21469', '21524', '22791', '21690', '37343', '22088', '21143', '84944', '22601', '22600', '22574', '85199L', '85199S', '72741', '37495', '22171', '85067', '48184', '48138', '85019A', '85019C', '20902', '21429', '85071A', '85071C', '22355', '21579', '21576', '22493', '21833', '85135B', '85136A', '85136C', '21055', '21056', 'C2', '21928', '20711', '22892', '22245', '21218', '20957', '79144B', '22482', '21917', '22599', '22597', '22336', '21922', '35961', '21495', '46000R', '46000S', '84920', '22953', '84508A', '22471', '21935', '21670', '22786', '85064', '22212', '22678', '22686', '85232B', '84685', '22755', '20616', '22753', '79066K', '22794', '22592', '84352', '22795', '22278', '84884A', '51014C', '51014L', '51014A', '22366', '22876', '48111', '22847', '22846', '22402', '22400', '22399', '79302M', '37446', '37449', '21231', '84509B', '22313', '22314', '21181', '21818', '22976', '21668', '21462', '22496', '84870C', '84870B', '22765', '21351', '21191', '22581', '22639', '22579', '22572', '21809', '21147', '22640', '22641', '22638', '22576', '21817', '21813', '21808', '21014', '21018', '22946', 'M', '22816', '22818', '22660', '21761', '21781', '85032D', '22696', '84360', '35954', '35957', '84760S', '72816', '35598D', '85045', '21352', '22065', '35598B', '85048', '22589', '22578', '22855', '21864', '15056P', '85174', '82615', '85038', '20971', '21354', '22965', '21374', '21365', '84032A', '84031A', '21509', '22025', '22725', '37448', '22421', '17003', '84997A', '21136', '71477', '22030', '22135', '90214M', '90214V', '90214S', '90214J', '22378', '21888', '21789', '21238', '21629', '72807C', '22497', '21850', '20978', '20768', '22081', '20780', '21398', '22476', '21643', '21620', '22260', '22136', '47591B', '22519', '21472', '21877', '22524', '20765', '21704', '21703', '85035C', '72803A', '20682', '40001', '21709', '22220', '85034A', '72798C', '35271S', '21380', '21221', '20755', '21421', '21422', '22617', '22863', '22792', '21364', '21042', '47567B', '22272', '21172', '72760B', '22602', '22365', '22507', '62096A', '85071D', '21272', '22044', '21918', '22029', '22037', '21360', '84077', '22898', '84792', '21356', '85175', '20893', '20975', '22440', '22434', '22564', '21215', '21058', '21060', '21719', '21722', '84826', '21881', '10135', '22422', '22536', '22491', '21355', '21518', '22023', '22027', '22718', '22717', '22028', '21669', '21671', '21673', '22460', '22432', '22433', '22431', '84674', '21069', '21070', '22419', '22676', '22672', '22928', '22777', '22477', '21875', '22924', '21217', '22301', '22446', '22832', '20674', '20676', '82582', '22170', '21679', '21428', '21868', '22840', '79191C', '20733', '47471', '16046', '22796', '22733', '22560', '22559', '22896', '20967', '84031B', '21430', '21313', '47566B', '22499', '22090', '22071', '22070', '21216', '20983', '21537', '21527', '21538', '85216', '22131', '21163', '21158', '21161', '21159', '21390', '22335', '22285', '22284', '21383', '21381', '47590B', '47590A', '22210', '22209', '22208', '21872', '22822', '22385', '20969', '20970', '22374', '22375', '21741', '85061W', '21385', '21288', '21803', '21801', '40016', '22202', '21064', '47591D', '84341B', '84509G', '16235', '20986', '20832', '84846A', '22442', '21563', '21769', '85227', '20798', '22669', '22320', '21249', '21561', '85132A', '85132B', '85132C', '22215', '20675', '21239', '21207', '21987', '21988', '21989', '22316', '22332', '22437', '21206', '20677', '22806', '22893', '22841', '85159A', '21784', '22849', '17090D', '17090A', '72127', '72133', '84763', '85127', '22450', '10124G', '84519B', '22505', '22514', '22862', '21504', '22292', '21211', '21974', '22045', '90175C', '90180A', '90178A', '22746', '22986', '20984', '22436', '21465', '21470', '16012', '85025C', '21851', '21849', '85124B', '85124C', '20828', '21830', '21623', '85177', '84946', '22169', '16156S', '85049F', '22426', '22190', '90082D', '90082A', '90082B', '90081A', '90204', '90185B', '90195A', '90195B', '90196A', '90199A', '90177C', '90186A', '20894', '85106', '21415', '21416', '21417', '22343', '22474', '18097A', '18097C', '22977', '21899', '21911', '21902', '21901', '21948', '21949', '20759', '20760', '20757', '20981', '85185D', '85185B', '79164', '84683', '21745', '79163', '22175', '21155', '15060B', '21700', '22985', '22821', '85114A', '22705', '20724', '22084', '22356', '22380', '72801C', '72801D', '21735', '21500', '15036', '21408', 'BANK CHARGES', '20718', '21539', '22341', '22452', '21508', '21507', '21499', '20719', '85178', '84952C', '84952B', '71459', '35001G', '22264', '20665', '22181', '21392', '21393', '21268', '85144', '21025', '21031', '21030', '21026', '21032', '21578', '22350', '21357', '20766', '21399', '22562', '21714', '21990', '20751', '21993', '20752', '22636', '21426', '21581', '90002D', '82551', '82599', '21908', '82583', '21174', '21900', '70006', '22031', '79067', '21788', '22408', '22406', '22405', '84950', '22275', '37450', '22043', '22042', '22089', '72799E', '85066', '21129', '21059', '22877', '22869', '22878', '22430', '22425', '21240', '22207', '21927', '21925', '22763', '22334', '21349', '22655', '22060', '22061', '21531', '21039', '21157', '47559B', '22649', '16161P', '16161M', '85214', '72232', '84247G', '22890', '21530', '21528', '21820', '21821', '22162', '21114', '20615', '47021G', '22443', '20681', '22605', '22155', '21807', '22161', '20956', '22067', '22689', '22591', '22276', '22503', '22504', '22158', '22944', '22747', '22621', '22845', '79000', '22802', '22078', '85049B', '21878', '85131A', '22300', '10123C', '10120', '84006', '20767', '90094', '22758', '21882', '21884', '22756', '22757', '22154', '84993A', '84987', '20998', '21407', '22702', '22550', '22076', '84925D', '84520B', '21078', '17084R', '17091J', '85018D', '22732', '47503J', '37464', '84247N', '84247K', '22035', '21250', '21677', '47504K', '84212', '21828', '21377', '21379', '37489D', '17107D', '22132', '22133', '37489B', '37489C', '21564', '21932', '21933', '21100', '37489A', '22072', '84534B', '84536A', '21905', '21164', '47566', '21945', '22844', '22414', '21906', '22456', '22116', '85130A', '85129C', '22080', '22948', '22246', '35967', '22299', '84849A', '22304', '21165', '84559A', '84559B', '22137', '85230B', '85230F', '22306', '22331', '84849D', '21446', '84507C', '20910', '82616C', '82616B', '21558', '22409', '90128B', '90196B', '90198B', '90152B', '90151', '20661', '20652', '21845', '22398', '20854', '84877D', '20657', '47422', '21642', '20658', '22396', '47503H', '72130', '72128', '47343A', '72802A', '84581', '84580', '72807B', '72802B', '21054', '21991', '84562A', '21936', '21040', '21937', '22701', '22359', '22361', '22362', '82011C', '84865', '21287', '79337', '85111', '22307', '85078', '85036B', '85035A', '85034C', '84614A', '22509', '22586', '22348', '20829', '21224', '21721', '84988', '21947', '21726', '22200', '20697', '20699', '22671', '85135C', '20936', '21876', '85054', '85055', '84924A', '35810B', '35241', '21112', '17109D', '21011', '22853', '11001', '85034B', '72800D', '84819', '90185D', '90175A', '22458', '22459', '22156', '22079', '90162B', '90162D', '21626', '90167', '22403', '22563', '84827', '22799', '22305', '20856', '84898F', '22415', '22255', '22256', '21447', '47310M', '22525', '22479', '22478', '84508B', '21787', '21774', '21439', '21195', '21555', '84279P', '21829', '22390', '22483', '84963A', '72349B', '84993B', '20686', '85206A', '22021', '35965', '20684', '84536B', '84596G', '21110', '21445', '77101A', '84358', '21294', '21468', '22123', '22897', '22939', '21836', '22788', '22184', '71279', '22761', '22769', '22762', '21802', '22598', '22532', '21413', '79149B', '21682', '78034B', '22894', '79151B', '21090', '21209', '22354', '21635', '35471D', '35653', '85130D', '15039', '84978', '84569D', '72351A', '84921', '22439', '84508C', '90086', '62018', '16011', '85179A', '21785', '21650', '84874B', '22674', '85167B', '22412', '72051S', '72799F', '20764', '84535B', '47579', '21723', '35953', '84051', '21187', '21696', '22034', '20980', '35958', '75013B', '22830', '22684', '82011B', '21630', '21580', '22231', '22859', '22860', '22093', '22091', '21865', '20748', '85208', '22129', '22808', '21109', '20702', '85187', '22891', '21683', '22770', '84563B', '82613B', '79190A', '15034', '47593B', '85129D', '85129B', '35924', '21624', '20671', '21903', '21904', '21361', '22843', '22199', '84968A', '37509', '47369A', '47369B', '47367B', '22337', '21695', '84773', '21424', '21819', '22817', '16161U', '22251', '22252', '22069', '21401', '84597C', '51020A', '51020B', '21306', '21311', '21307', '21277', '22475', '90200E', '90062', '21616', '37461', '20655', '20659', '20985', '84596L', '84596F', '22346', '22344', '22345', '85215', '85062', '84658', '18098C', '85016', '22984', '85015', '22134', '22949', '85036C', '85170D', '21640', '21202', '35971', '21822', '84531A', '84531B', '21910', '22461', '22833', '22690', '84881', '21613', '21693', '84809A', '79190D', '22157', '84795B', '79191B', '22831', '20770', '20771', '37327', '22283', '85027L', '85017C', '16010', '35001W', '84707B', '21167', '51008', '22811', '21713', '20802', '22052', '20781', '22389', '72807A', '84840', '22073', '22279', '22280', '18007', '21675', '21720', '84968F', '79030D', '21291', '21289', '22606', '37479B', '37482P', '20903', '20897', '71403', '22683', '22685', '21973', '48188', '22691', '47594A', '21162', '84926D', '84926A', '22233', '35400', '22486', '72801G', '84711A', '16169N', '20769', '35597A', '47480', '84522', '20731', '35597B', '21253', '21366', '21219', '84596B', '21226', '21725', '79030G', '79160', '22203', '22329', '72351B', '21648', '72131', '21089', '21647', '72122', '84912A', '85036A', '21692', '21618', '84569A', '20775', '90179C', '90060D', '85020', '20861', '21827', '79051A', '85169A', '17007B', '22339', '22700', '10124A', '21644', '46000P', '21638', '22681', '21746', '84916', '40005B', '18094C', '22085', '47586A', '46115B', '84975', '21336', '15044C', '22673', '21262', '22050', '21680', '20819', '84925F', '21812', '22535', '21547', '16169K', '84707A', '21617', '21001', '21000', '22693', '20782', '21397', '35646', '47574A', '72819', '84665', '20857', '22908', '21627', '85047', '22498', '84725', '37479P', '21534', '22515', '22518', '22101', '22545', '17038', '21012', '84912B', '84388', '17084J', '84968D', '22613', '22211', '22903', '22026', '20839', '37340', '21171', '85232D', '21773', '21689', '84247E', '20762', '85170B', '84596J', '85170A', '85059', '84497', '85026B', '90175D', '82001S', '22495', '85176', '90212B', '90212C', '22708', '22048', '22057', '37447', '22930', '22931', '22932', '22937', '22710', '22051', '22936', '22935', '22789', '21275', '85068', '20716', '22167', '47348A', '90214C', '90214B', '90214K', '20735', '85039C', '22448', '20996', '21686', '85024C', '71038', '84613C', '84828', '84910A', '20763', '21201', '21246', '21376', '21375', '21205', '20618', '21896', '16202E', '22265', '47420', '22510', '48116', '72709', '72132', '85118', '35968', '22063', '90184B', '90184A', '84415B', '20906', '20703', '90173', '22513', '71496A', '71495B', '78124', '37500', '22166', '22145', '22163', '20761', '22138', '85230G', '35833P', '71215', '20886', '20695', '20892', '22324', '22820', '16168M', '84952A', '21846', '84706D', '22828', '21066', '21281', '22703', '21684', '84247L', '85170C', '22516', '22523', '22521', '22698', '85053', '84875B', '84876D', '90211B', '84192', '21628', '22254', '21615', '22236', '22933', '85107', '22741', '21051', '21382', '44234', '44235', '75131', '40003', '79190B', '90036D', '21535', '16015', '16008', '21284', '37444B', '37333', '20778', '20758', '85039B', '85040B', '22319', '22824', '17084N', '17084P', '21128', '21132', '84818', '21879', '84798A', '22230', '85008', '84913B', '84913A', '84915', '84843', '85032A', '85032C', '35648', '37501', '84356', '22734', '47578A', '22679', '22416', '21562', '84228', '22856', '22934', '37475', '84951A', '84951B', '22308', '22053', '22692', '21131', '20654', '17165D', '21442', '22291', '15058A', '20868', '21189', '84820', '85006', '84821', '84638', '84637', '22229', '16236', '22228', '16169P', '90081C', '16054', '84595E', '84459B', '35915B', '85086A', '22628', '22377', '21261', '85084', '81950V', '21942', '17012D', '17012B', '17012E', '17012F', '84609', '22055', '84631', '84799', '35004P', '21454', '22201', '15058B', '84789', '22393', '22391', '85230E', '22826', '22852', '22105', '22102', '16225', '16033', '20830', '20831', '22420', '21944', '22677', '84509C', '90186B', '90190C', '90003D', '90003C', '90067A', '90003B', '21285', '21378', '85032B', '22857', '85017B', '22858', '22861', '22232', '21717', '20793', '17096', '16218', '20664', '47593A', '20670', '21943', '21946', '20666', '82605', '21027', '85136B', '84882', '85031A', '22546', '16216', '84660B', '21248', '20663', '21736', '22363', '84922', '85040A', '90036E', '90160A', '90160B', '90161B', '90160C', '90160D', '82011A', '20801', '85183A', '35610B', '35610C', '84927E', '84816', '90129A', '90120D', '22512', '72780', '21619', '22954', '22611', '22675', '22047', '22214', '90162C', '90078', '90014B', '90147', '90032', '21331', '20846', '21666', '20847', '20848', '20826', '21145', '22723', '22722', '22720', '84575A', '84313C', '84313B', '90125D', '21473', '90210A', '20704', '84823', '85169D', '90057', '90210C', '90210D', '22656', '20803', '22342', '22782', '84766', '35095B', '22887', '22884', '84817', '35832', '84927A', '22721', '20622', '35651', '84917', '22711', '22522', '22520', '22270', '85195', '21188', '85194L', '84660A', '84509E', '82613C', '75178', '75011', '47503A', '22889', '22888', '22886', '22885', '22883', '22882', '22881', '22880', '22879', '22647', '22609', '22608', '21632', '21631', '20705', '90125A', '85180B', '85180A', '85173', '85159B', '84660C', '21319', '20931', '79403', '21200', '22204', '90058B', '84597B', '84688', '20617', '62094B', '84616', '84666', '84673A', '84673B', '21749', '17013D', '82613D', '37503', '21386', '22223', '90185A', '90146', '90161D', '90161C', '90129C', '90129B', '22269', '85039A', '22257', '22258', '22259', '35610A', '35817P', '85141', '21656', '35599B', '90042A', '90136', '90060B', '90035A', '90133', '90179A', '79329', '85146', '22033', '22032', '84751B', '84507B', '85211', '84620', '22108', '85212', '84929', '17012C', '21194', '21792', '21707', '17014A', '17012A', '22868', '22874', '22870', '22875', '22873', '22872', '22871', '22302', '47594B', '21196', '21199', '22218', '22394', '22970', '90209C', '22303', '22062', '22040', '21348', '22971', '84877B', '84078A', '84926F', '21400', '35911A', '85031C', '84012', '84813', '84613A', '90145', '90194', '21043', '22395', '37342', '85169C', '84750B', '21425', '22263', '16219', '21279', '16048', '22325', '21391', '72800C', '17011F', '35809A', '35810A', '20619', '21633', '35607A', '22410', '21389', '84859A', '85103', '85031B', '21286', '22249', '22407', '84584', '20696', '35914', '20794', '85205B', '22929', '85163A', '85163B', '85232A', '22309', '22221', '46000U', '21698', '90177D', '90161A', '90177B', '90198A', '90154', '90199D', '90014A', '90170', '90178B', '90114', '21793', '85023B', '85109', '84804A', '84800L', '84800M', '84802A', '84806A', '22668', '22286', '20941', '22707', '21503', '90108', '16207A', '21372', '21747', '84457', '85130B', '84249A', '21251', '22538', '21198', '90027A', '90027D', '90019A', '90040A', '90120C', '90040B', '44228', '85230A', '90214D', '22066', '20932', '84199', '72225C', '82613A', '22682', '85135A', '22823', '22526', '22517', '15044A', '22282', '84459A', '20700', '90022', '90104', '84499', '21403', '21067', '16045', '21394', '21972', '22046', '90165B', '16206B', '46138B', '20701', '47585A', '21661', '21359', '84926E', '22293', '22148', '84218', '85194S', '22715', '72815', '21144', '21412', '35911B', '84989A', '84968E', '79071B', '16169M', '20934', '22709', '22288', '79320', '85042', '20785', '37476', '85089', '84931A', '84931B', '35909A', '35910A', '85096', '21269', '21763', '20933', '35972', '21455', '21204', '47589', '84927F', '79323B', '21645', '21278', '47518F', '22182', '16156L', '21318', '85025B', '47351B', '21002', '21084', '21088', '21096', '85093', '85094', '84251B', '84251G', '22250', '22248', '22247', '84251C', '84510C', '84741C', '21220', '21222', '22266', '22268', '22267', '21003', '21757', '90123B', '90123C', '90122A', '90184C', '90122C', '90156', '90155', '75049L', '85023C', '84600', '84617', '21332', '21655', '79323P', '44091A', '21280', '85203', '85204', '85197', '21028', '21775', '85019B', '16207B', '20698', '47556B', '21208', '35265', '22281', '20662', '21667', '22322', '22323', '22103', '23231', '62086A', '35912B', '23230', '85206B', '84748', '85189', '84745A', '84745B', '22287', '85186C', '21117', '90010B', '21459', '21460', '85186A', '85087', '90125B', '22967', '22957', '21368', '85131D', '85131C', '85131B', '17174', '23233', '35921', '85200', '84231', '21461', '84462', '84461', '35922', '84675', '22447', '47481', '47469', '23232', '84905', '84806B', '21458', '85188B', '85198', '15044D', '85213', '23166', '20845', '84033', '35095A', '84796B', '84226', '79323W', '21926', '37379A', '22165', '90214R', '35920', '84510E', '85125', '84801A', '84592', '84927D', '84800S', '79192A', '21420', '85130C', '20756', '21371', '21095', '22317', '40046A', '37467', '84527', '72799C', '71101E', '21457', '90072', '90073', '79191D', '72134', '21456', '21317', '35647', '90214G', '46775D', '20795', '84976', '84632', '90197B', '90125C', '35913B', '85202', '22146', '21476', '16052', '84974', '72821', '22596', '85126', '90123D', '90123A', '90010E', '90148', '90016B', '90016A', '84847', '85188A', '20898', '21316', '21320', '20818', '85160B', '84465', '20851', '84715', '84919', '84907', '85024B', '71496B', '35915C', '17028J', '17084A', '84795C', '21758', '62074B', '84279B', '85063', '84801B', '84805A', '17136A', '35923', '84712B', '84708B', '44089A', '84723', '22038', '84086C', '84429A', '37462E', '90037B', '90098', '15058C', '22989', '22541', '84452', '22353', '22990', '84568', '84598', '84659A', '20694', '85092', '37413', '35815P', '21228', '90202B', '90202C', '90174', '90039C', '90120B', '90122B', '90070', '90010A', '75172', '45013', '21636', '71510', '21641', '44265', '90055', '90064B', '90011B', '90064A', '90063A', '90063B', '90029', '44089C', '44236', '21681', '35909B', '90180B', '90152C', '90152A', '90018A', '90023', '90192', '84663A', '35637A', '84661C', '84857C', '84859C', '79406', '22289', '22980', '22993', '23006', '23004', '23002', '23003', '23000', '22994', '22998', '22991', '22992', '21898', '79063D', '22999', '22995', '22996', '22978', '22997', '23005', '79062D', '20837', '47341A', '22351', '79331', '84306', '44092C', '44092B', '90018B', '90065A', '90191', '90024F', '90026D', '90143', '90024C', '90000B', '90000D', '90000A', '90026C', '90026B', '35638A', '84691', '90209B', '85065', '84876B', '46776B', '22216', '21414', '82095', '35637C', '84466', '90214A', '90100', '90096', '21087', '84809B', '21418', '84858C', '72140E', '10080', '17001', '71050', '35916C', '84687', '46118', '84802B', '84803B', '21293', '23182', '20796', '22979', '23177', '23193', '23194', '23176', '22982', '23126', '23127', '16020C', '46776C', '23128', '23183', '23179', '23178', '22981', '90166', '37423', '23180', '21634', '90141C', '90141A', '90183C', '90124B', '23049', '23053', '23054', '23050', '23052', '23051', '79026B', '23185', '23184', '90084', '35607B', '84798B', '90040C', '90038B', '90038C', '90214P', '21369', '35916A', '62096B', '84593', '16248B', '21841', '23181', '23187', '23186', '22764', '84086B', '79063C', '23009', '23007', '23008', '85088', '23010', '20653', '84535A', '16202A', '85098B', '21402', '84842', '17129F', '84227', '16161G', '90201B', '85161', '16259', '47013A', '84968B', '21750', '35910B', '46776E', '84750A', '78033', '21395', '37351', '37488A', '85030', '21637', '47344B', '46126A', '37330', '90036F', '90030B', '90131', '85224', '23077', '23076', '23078', '21770', '47013C', '84548', '84796A', '15030', '21897', '23159', '23154', '23156', '23155', '84569C', '23158', '85145', '21839', '85028S', '85028L', '21270', '85017A', '90164A', '90124A', '90124C', '21847', '90099', '84743C', '23157', '90014C', '35649', '35809B', '84686', '22104', '20821', '84877A', '84875D', '22106', '84872A', '23254', '23256', '90024D', '23255', '22039', '90001C', '90025A', '90142D', '37487B', '84839', '23205', '23201', '23207', '23199', '23206', '23204', '23208', '37468', '84689', '84856S', '44242B', '46776A', '46776F', '46776D', 'PADS', '84731', '23065', '16202B', '23060', '23057', '23066', '23068', '23075', '23153', '23073', '84549', '21614', '84576', '23146', '23061', '20823', '20827', '23055', '23056', '23140', '23141', '23135', '23132', '23071', '23152', '23134', '23133', '84990', '23147', '23148', '23144', '23142', '23136', '23139', '23138', '23150', '23145', '23253', '23137', '79144C', '72024U', '16049', '90135', '90138', '90159', '90164B', '90163A', '90163B', '90158', '90157', '90051', '23069', '16244B', '23131', '23067', '47341B', '62097B', '62043B', '90021', '23163', '23284', '23283', '90201D', '90201C', '90201A', '71495A', '23162', '20840', '72811', '20816', '23048', '23042', '23041', '23040', '23064', '85225', '23130', '84629', '20835', '22987', '20836', '20838', '23160', '23161', '23164', '23149', '84705C', '23143', '23299', '23298', '23070', '23151', '90058A', '23043', '23045', '35599D', '20964', '84859B', '23209', '23200', '23203', '90076', '23072', '23202', '23046', '23047', '23044', '35443', '90036A', '90033', '90130B', '90036C', '23282', '23280', '23190', '23191', '21263', '21265', '21264', '23175', '23174', '23173', '23172', '23171', '23170', '23081', '23084', '23281', '23118', '23096', '23091', '23094', '23108', '23080', '23110', '23192', '23100', '23102', '23082', '16151A', '23093', '23109', '23103', '23112', '23111', '23079', '23167', '23104', '23168', '72812', '23169', '23165', '23101', '23089', '23107', '90039D', '90039B', '90039A', '23106', '23087', '23088', '90035C', '23301', '23300', '23302', '47574B', '23090', '23083', '23092', '23085', '23099', '23086', '84661A', '90214Y', '84873A', '21015', '37471', '23129', '84804B', '90202D', '84984B', '84984A', '90093', '90085', '90149', '90144', '90013C', '90050', '90141B', '21310', '90041', '23228', '23227', '90125E', '23444', '20667', '23226', '84711B', '84206C', '23214', '23215', '90059F', '90208', '23210', '23213', '23212', '23219', '23224', '23221', '23211', '23216', '23217', '23225', '23275', '23263', '23309', '72586', '23270', '90206C', '90206A', '84422', '23307', '23306', '23308', '23273', '23274', '35818P', '21373', '16043', '90214E', '90102', '23240', '23238', '23243', '84661B', '84415A', '23245', '23239', '23236', '23235', '23241', '23242', '23247', '23244', '23237', '22950', '35966', '23321', '23310', '90214L', '90214N', '90214H', '23220', '90116', '84824', '16162L', '35970', '23266', '23265', '23264', '23269', '23268', '23252', '23322', '77079', '23286', '23338', '23285', '23288', '20901', '23343', '90026A', '90036B', '90079', '90001A', '90001D', '90001B', '90190B', '90190A', '90187B', '23271', '23335', '23339', '23336', '23337', '23292', '23291', '23289', '23290', '23287', '20997', '23188', '23251', '23249', '23250', '23229', '23234', '23012', '23014', '23035', '84551', '23020', '23032', '23028', '23031', '23029', '23033', '23034', '23013', '16254', '23344', '20869', '23022', '23016', '23026', '23119', '23123', '23122', '23120', '23121', '23124', '23125', '23039', '85168B', '35933', '23023', '84679', '23019', '72369A', '23272', '23036', '23021', '23198', '23027', '23015', '23024', '23223', '23222', '23197', '23196', '22687', '23267', '23323', '23315', '23316', '23342', '23341', '23037', '90176D', '23317', '23017', '23018', '23025', '22124', '71143', '84746', '81952B', '81952V', '81950B', '23320', '21344', '23574', '23318', '23319', '90043', '90049', '90046', '90048', '90205C', '90205A', '84706F', '84539', '44242A', '35645', '23038', '23313', '23296', '23294', '23293', '23295', '23297', '84924F', '81953B', '81953P', '90214I', '23311', '23314', '23312', '22959', '90030C', '90031', '90030A', '90101', '90103', '90141D', '90141E', '23550', '23218', '37491D', '37491B', '37491C', '84402B', '23549', '23546', '16162M', '84857B', '84732D', '84732B', '23545', '23547', '23548', '84387A', '16169E', '35638B', '23347', '23345', '23346', '84984D', '85179C', '79336', '23340', '35650', '90019B', '23360', '23359', '23373', '23436', '23353', '23354', '23374', '23438', '23189', '84963B', '23349', '23350', '23352', '23351', '23324', '90209A', '23332', '23329', '90013A', '23330', '23334', '23333', '23328', '23331', '23327', '23326', '23325', '35816P', '35597D', '35818B', '35916B', '23357', '23358', '23375', '23356', '84206A', '84201B', '23355', '90176C', '90176E', '23437', '90003E', '23445', '22340', '23439', '90018C', '90024B', '90211A', '23431', '23433', '23348', '84201C', 'DOT', 'CRUK', '35819B', '23432', '23376', '23378', '90183A', '23551', '23396', '23395', '23394', '23407', '23393', '23427', '23397', '23377', '23399', '23411', '23398', '23404', '23424', '23406', '23414', '23405', '23379', '23381', '23380', '23402', '23403', '23426', '23425', '23412', '23392', '23400', '90019C', '90038A', '23415', '23417', '23413', '23409', '23408', '23401', '23410', '23559', '23423', '23421', '23422', '90119', '23418', '23419', '23435', '23434', '23391', '23390', '23389', '23074', '23388', '23416', '23058', '84016', '23420', '23113', '35819P', '84805B', '90087', '23630', '23503', '23366', '23367', '23504', '23371', '23506', '23502', '23370', '23493', '23365', '23369', '23520', '23511', '23517', '23368', '23505', '23372', '23512', '23515', '23514', '23518', '23510', '23508', '23509', '23507', '23513', '35964', '20935', '90059A', '20678', '90059D', '90168', '90169', '90202A', '90118', '90177A', '90177E', '90182C', '23516', '23519', '23494', '90028', '90074', '23461', '23466', '23469', '23484', '23114', '23117', '23115', '23471', '23116', '23472', '23470', '23524', '23535', '23534', '23541', '23539', '23522', '23526', '23533', '23542', '23528', '23543', '23530', '23538', '23521', '23523', '23531', '23527', '23483', '23529', '23536', '23544', '23532', '23525', '23540', '23537', '23500', '23465', '23501', '90129D', '90129E', '90012A', '23468', '79157V', '90189A', '90054', '90188', '90071', '23448', '23447', '23446', '90012B', '23382', '23660', '23661', '23564', '23567', '23487', '23490', '23453', '23452', '23451', '23482', '23459', '23565', '23456', '23463', '23464', '23457', '23455', '23568', '23566', '23467', '23479', '23481', '23458', '23579', '23702', '23558', '23556', '23554', '23557', '23555', '23553', '23489', '23491', '23492', '23477', '23478', '23476', '23486', '23480', '23473', '23460', '23462', '23499', '23485', '90025F', '23570', '23454', '23571', '23569', '23305', '23474', '23582', '23583', '23581', '79157B', '23303', '23475', '23497', '23304', '23495', '23496', '47016', '23691', '90181A', '90199B', '90069', '90176A', '90176B', '23681', '72783', '90162A', '79161A', '23692', '23695', '23697', '90065B', '23598', '23597', '23664', '17191A', '35598C', '23694', '90083', '23442', '23449', '35598A', '23428', '84206B', '23430', '23429', '23441', '22125', '90130A', '90011A', '23440', '23552', '23498', '84550', '23578', '23580', '23575', '23560', '23576', '23562', '23561', '90214F', '90214O', '90214T', '90214U', '90214W', '90214Z', '90089', '23843'])"
            ]
          },
          "execution_count": 31,
          "metadata": {},
          "output_type": "execute_result"
        }
      ],
      "source": [
        "products_dict.keys()"
      ]
    },
    {
      "cell_type": "code",
      "execution_count": 34,
      "metadata": {
        "colab": {
          "base_uri": "https://localhost:8080/"
        },
        "id": "BJyuZm-6UKeP",
        "outputId": "f484968b-2b2e-47b5-d73b-7d196e2733a7"
      },
      "outputs": [
        {
          "data": {
            "text/plain": [
              "[('22992', 0.7740505337715149),\n",
              " ('23190', 0.761854887008667),\n",
              " ('23552', 0.7328079342842102),\n",
              " ('23498', 0.731248140335083),\n",
              " ('23192', 0.7161716818809509),\n",
              " ('23497', 0.7111896276473999),\n",
              " ('22991', 0.7098292708396912),\n",
              " ('23570', 0.7095364928245544),\n",
              " ('23117', 0.6776599287986755),\n",
              " ('23569', 0.6697975397109985)]"
            ]
          },
          "execution_count": 34,
          "metadata": {},
          "output_type": "execute_result"
        }
      ],
      "source": [
        "# Aqui vamos verificar o produto mais semelhante\n",
        "# ao produto de código 23188.\n",
        "\n",
        "model.wv.most_similar('23188')"
      ]
    },
    {
      "cell_type": "markdown",
      "metadata": {
        "id": "G8LcgPfnCw4m"
      },
      "source": [
        "## Passo 5.2: Sugestão de produtos\n",
        "\n",
        "Agora sim, podemos fazer nosso sistema de sugestões de compras. Na variável orders_val temos os conjuntos de itens em cada compra, de cada cliente. Por exemplo, abaixo, podemos listar as compras da ordem número 32, no código abaixo:"
      ]
    },
    {
      "cell_type": "code",
      "execution_count": 35,
      "metadata": {
        "colab": {
          "base_uri": "https://localhost:8080/"
        },
        "id": "41eY2zY1UjIT",
        "outputId": "50d2ce94-9b63-47d7-b569-8c8a5d90d66f"
      },
      "outputs": [
        {
          "data": {
            "text/plain": [
              "['21576',\n",
              " '21577',\n",
              " '22379',\n",
              " '20727',\n",
              " '21930',\n",
              " '20711',\n",
              " '22555',\n",
              " '22554',\n",
              " '22385',\n",
              " '22380',\n",
              " '22553',\n",
              " '22149',\n",
              " '22621',\n",
              " '22610',\n",
              " '21637',\n",
              " '22094',\n",
              " '21980',\n",
              " '21982',\n",
              " '21967',\n",
              " '22616',\n",
              " '22093',\n",
              " '22384',\n",
              " '22383',\n",
              " '20725',\n",
              " '85099B',\n",
              " '21770',\n",
              " '20886',\n",
              " '22693',\n",
              " '20972',\n",
              " '20728',\n",
              " '22379',\n",
              " '22384',\n",
              " '20727']"
            ]
          },
          "execution_count": 35,
          "metadata": {},
          "output_type": "execute_result"
        }
      ],
      "source": [
        "# Lista os códigos dos produtos comprados\n",
        "# na ordem de compras número 32.\n",
        "\n",
        "orders_val[32]"
      ]
    },
    {
      "cell_type": "markdown",
      "metadata": {
        "id": "jaQ58JsNDY5i"
      },
      "source": [
        "Para sugerir compras, basta recuperarmos os vetores de embedding de cada um desses itens de uma ordem de compra, calcular um vetor médio (soma todos vetores e divide pela quantidade) e buscar os produtos mais semelhantes, como fizemos antes!"
      ]
    },
    {
      "cell_type": "code",
      "execution_count": 38,
      "metadata": {
        "id": "9Me8QvWIVXi-"
      },
      "outputs": [],
      "source": [
        "def get_suggestions(orders):\n",
        "  ''' Nesta função, passa-se como argumento uma lista\n",
        "      de códigos de produtos, que representa as compras\n",
        "      de um cliente, em um determinado momento. Com base\n",
        "      nos embeddings desses itens, calculamos um vetor\n",
        "      médio, que captura a \"semântica\" das compras e\n",
        "      baseado nesse vetor, buscamos os produtos mais\n",
        "      similares para sugerir. Apenas sugerimos os\n",
        "      produtos que já não estiverem na lista.\n",
        "  '''\n",
        "  # Esse será o array que armazenará o embedding médio\n",
        "  v = np.zeros((50))\n",
        "\n",
        "  # Essa variável vai receber a quantidade de produtos,\n",
        "  # para calcular a média mais tarde.\n",
        "  count = 0\n",
        "\n",
        "  # Aqui mostramos as descrições dos produtos já na lista\n",
        "  # para facilitar a conferência.\n",
        "  print('Orders so far:')\n",
        "  for product in orders:\n",
        "    print(products_dict[product])\n",
        "    # Para cada produto no embedding (aqui testamos,\n",
        "    # para evitar incluir um produto que não esteja\n",
        "    # no embedding treinado, pois isso geraria um erro)\n",
        "    if product in model.wv:\n",
        "      # somamos o vetor de embedding daquele produto\n",
        "      # no array v\n",
        "      v += model.wv[product]\n",
        "      # e contamos +1 em count\n",
        "      count += 1\n",
        "  # Dividmos o resultado por count para calcular\n",
        "  # o vetor médio, no espaço de embeddings\n",
        "  v /= count\n",
        "  # E por fim buscamos os 10 produtos mais semelhantes\n",
        "  # como fizemos originalmente.\n",
        "  s = model.wv.similar_by_vector(v)\n",
        "  print('Suggestions:')\n",
        "  for product, prob in s:\n",
        "    # Mostramos apenas os produtos que já não estiverem\n",
        "    # na lista original.\n",
        "    if product not in orders:\n",
        "      # Mostramos as descrições para facilitar a leitura\n",
        "      print(products_dict[product], prob)"
      ]
    },
    {
      "cell_type": "markdown",
      "metadata": {
        "id": "-i31ZVGuFCH7"
      },
      "source": [
        "Abaixo testamos o código de sugestões definido acima."
      ]
    },
    {
      "cell_type": "code",
      "execution_count": 39,
      "metadata": {
        "colab": {
          "base_uri": "https://localhost:8080/"
        },
        "id": "MEku0QXUXhxp",
        "outputId": "98767cbf-fea7-495a-af27-910b3b55e96a"
      },
      "outputs": [
        {
          "name": "stdout",
          "output_type": "stream",
          "text": [
            "Orders so far:\n",
            "LETS GO SHOPPING COTTON TOTE BAG\n",
            "SAVE THE PLANET COTTON TOTE BAG\n",
            "RECYCLING BAG RETROSPOT \n",
            "LUNCH BAG  BLACK SKULL.\n",
            "JUMBO STORAGE BAG SKULLS\n",
            "JUMBO BAG TOYS \n",
            "PLASTERS IN TIN STRONGMAN\n",
            "PLASTERS IN TIN WOODLAND ANIMALS\n",
            "JUMBO BAG SPACEBOY DESIGN\n",
            "TOY TIDY SPACEBOY  \n",
            "PLASTERS IN TIN SKULLS\n",
            "FELTCRAFT 6 FLOWER FRIENDS\n",
            "TRADITIONAL KNITTING NANCY\n",
            "PENS ASSORTED FUNNY FACE\n",
            "ASSORTED SANSKRIT MINI NOTEBOOK\n",
            "RED RETROSPOT TISSUE BOX\n",
            "PACK OF 12 RED RETROSPOT TISSUES \n",
            "PACK OF 12 SUKI TISSUES \n",
            "PACK OF 12 SKULL TISSUES\n",
            "PACK OF 12 LONDON TISSUES \n",
            "MOTORING TISSUE BOX\n",
            "LUNCH BAG PINK POLKADOT\n",
            "LUNCH BAG SUKI  DESIGN \n",
            "LUNCH BAG RED RETROSPOT\n",
            "JUMBO BAG RED RETROSPOT\n",
            "OPEN CLOSED METAL SIGN\n",
            "BOX OF 9 PEBBLE CANDLES\n",
            "GROW A FLYTRAP OR SUNFLOWER IN TIN\n",
            "PINK CREAM FELT CRAFT TRINKET BOX \n",
            "LUNCH BAG CARS BLUE\n",
            "RECYCLING BAG RETROSPOT \n",
            "LUNCH BAG PINK POLKADOT\n",
            "LUNCH BAG  BLACK SKULL.\n",
            "Suggestions:\n",
            "LUNCH BAG SPACEBOY DESIGN  0.8140019774436951\n",
            "LUNCH BAG WOODLAND 0.7801585793495178\n",
            "JUMBO STORAGE BAG SUKI 0.7244214415550232\n",
            "SKULLS  DESIGN  COTTON TOTE BAG 0.7090477347373962\n"
          ]
        }
      ],
      "source": [
        "get_suggestions(orders_val[32])"
      ]
    },
    {
      "cell_type": "code",
      "execution_count": 40,
      "metadata": {
        "colab": {
          "base_uri": "https://localhost:8080/"
        },
        "id": "-DzmHZYJVu5N",
        "outputId": "dc294f93-86e0-40b0-c4e5-0572ff5cec5f"
      },
      "outputs": [
        {
          "name": "stdout",
          "output_type": "stream",
          "text": [
            "Orders so far:\n",
            "ESSENTIAL BALM 3.5g TIN IN ENVELOPE\n",
            "BROCADE RING PURSE \n",
            "ESSENTIAL BALM 3.5g TIN IN ENVELOPE\n",
            "BROCADE RING PURSE \n",
            "Suggestions:\n",
            "ASSORTED CREEPY CRAWLIES 0.8378415703773499\n",
            "SPACE FROG 0.8130195140838623\n",
            "NINJA RABBIT BLACK 0.7948307991027832\n",
            "SPACE CADET WHITE 0.7936534881591797\n",
            "DINOSAUR KEYRINGS ASSORTED 0.7887260913848877\n",
            "CHOCOLATE CALCULATOR 0.7824564576148987\n",
            "NINJA RABBIT PINK 0.780421793460846\n",
            "ASSORTED TUTTI FRUTTI HEART BOX 0.7802956700325012\n",
            "SPACE CADET RED 0.7799834609031677\n"
          ]
        }
      ],
      "source": [
        "get_suggestions(orders_val[67])"
      ]
    },
    {
      "cell_type": "code",
      "execution_count": 41,
      "metadata": {
        "colab": {
          "base_uri": "https://localhost:8080/"
        },
        "id": "D6rk6No3XkpS",
        "outputId": "e75488f4-b6d5-4b66-e31d-6eca1ccae559"
      },
      "outputs": [
        {
          "name": "stdout",
          "output_type": "stream",
          "text": [
            "Orders so far:\n",
            "REGENCY CAKESTAND 3 TIER\n",
            "ROSES REGENCY TEACUP AND SAUCER \n",
            "SWEETHEART CAKESTAND 3 TIER\n",
            "WHITE HANGING HEART T-LIGHT HOLDER\n",
            "LANTERN CREAM GAZEBO \n",
            "HEART OF WICKER LARGE\n",
            "HEART OF WICKER SMALL\n",
            "CERAMIC CAKE STAND + HANGING CAKES\n",
            "MINI CAKE STAND WITH HANGING CAKES\n",
            "CERAMIC CAKE DESIGN SPOTTED MUG\n",
            "SET OF 3 CAKE TINS PANTRY DESIGN \n",
            "RECIPE BOX PANTRY YELLOW DESIGN\n",
            "IVORY DINER WALL CLOCK\n",
            "NO SINGING METAL SIGN\n",
            "WASHROOM METAL SIGN\n",
            "ASSORTED EASTER GIFT TAGS\n",
            "RECIPE BOX PANTRY YELLOW DESIGN\n",
            "MINI CAKE STAND WITH HANGING CAKES\n",
            "ROSES REGENCY TEACUP AND SAUCER \n",
            "BISCUIT TIN VINTAGE RED\n",
            "ROUND CAKE TIN VINTAGE GREEN\n",
            "ROUND CAKE TIN VINTAGE RED\n",
            "DOORMAT NEW ENGLAND\n",
            "WHITE BROCANTE SOAP DISH\n",
            "LANTERN CREAM GAZEBO \n",
            "SET OF 3 CAKE TINS PANTRY DESIGN \n",
            "VINTAGE CREAM DOG FOOD CONTAINER\n",
            "VINTAGE CREAM CAT FOOD CONTAINER\n",
            "VINTAGE SNAKES & LADDERS\n",
            "PICTURE DOMINOES\n",
            "VINTAGE SNAP CARDS\n",
            "S/6 WOODEN SKITTLES IN COTTON BAG\n",
            "TRADITIONAL WOODEN CATCH CUP GAME \n",
            "PACK OF 6 PANNETONE GIFT BOXES\n",
            "CARD CIRCUS PARADE\n",
            "ELEPHANT, BIRTHDAY CARD, \n",
            "CARD BIRTHDAY COWBOY\n",
            "FANCY FONTS BIRTHDAY WRAP\n",
            "WRAP VINTAGE PETALS  DESIGN\n",
            "WRAP ALPHABET DESIGN\n",
            "MEDIUM CERAMIC TOP STORAGE JAR\n",
            "SMALL CERAMIC TOP STORAGE JAR \n",
            "LARGE CERAMIC TOP STORAGE JAR\n",
            "HOMEMADE JAM SCENTED CANDLES\n",
            "BISCUIT TIN VINTAGE GREEN\n",
            "SET OF 3 CAKE TINS PANTRY DESIGN \n",
            "Suggestions:\n",
            "JAM MAKING SET WITH JARS 0.7047402858734131\n",
            "SET OF 6 SPICE TINS PANTRY DESIGN 0.7003180980682373\n",
            "BREAD BIN DINER STYLE MINT 0.685391902923584\n",
            "ENAMEL BLUE RIM BISCUIT BIN 0.6582393646240234\n",
            "BREAD BIN DINER STYLE PINK 0.6531209349632263\n",
            "VINTAGE RED KITCHEN CABINET 0.6462535858154297\n",
            "GLASS  BEURRE DISH 0.6460412740707397\n",
            "SET OF 3 CAKE TINS SKETCHBOOK 0.635838508605957\n"
          ]
        }
      ],
      "source": [
        "get_suggestions(orders_val[88])"
      ]
    }
  ],
  "metadata": {
    "colab": {
      "provenance": []
    },
    "kernelspec": {
      "display_name": "Python 3",
      "name": "python3"
    }
  },
  "nbformat": 4,
  "nbformat_minor": 0
}
