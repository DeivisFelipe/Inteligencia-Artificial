{
 "cells": [
  {
   "cell_type": "code",
   "execution_count": 4,
   "metadata": {},
   "outputs": [
    {
     "name": "stdout",
     "output_type": "stream",
     "text": [
      "[ 5 85 82 55 81 40 72 86 85  4 14 80 19  1 26 74  8  7 37 86]\n",
      "[ 5 85  0 55 81  0  0  0 85  0  0  0 19  1  0  0  0  7 37  0]\n"
     ]
    }
   ],
   "source": [
    "import numpy as np\n",
    "\n",
    "# Gera um array de 20 elementos aleatórios entre 1 e 100\n",
    "array = np.random.randint(1, 100, size=20)\n",
    "\n",
    "print(array)\n",
    "\n",
    "array[array % 2 == 0] = 0\n",
    "\n",
    "print(array)"
   ]
  }
 ],
 "metadata": {
  "kernelspec": {
   "display_name": "base",
   "language": "python",
   "name": "python3"
  },
  "language_info": {
   "codemirror_mode": {
    "name": "ipython",
    "version": 3
   },
   "file_extension": ".py",
   "mimetype": "text/x-python",
   "name": "python",
   "nbconvert_exporter": "python",
   "pygments_lexer": "ipython3",
   "version": "3.9.12"
  },
  "orig_nbformat": 4
 },
 "nbformat": 4,
 "nbformat_minor": 2
}
