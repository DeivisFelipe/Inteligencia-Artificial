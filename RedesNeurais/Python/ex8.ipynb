{
 "cells": [
  {
   "cell_type": "code",
   "execution_count": 1,
   "metadata": {},
   "outputs": [],
   "source": [
    "def func(nome):\n",
    "    alfabeto = {\n",
    "        \"a\": \"ka\",\n",
    "        \"b\": \"tu\",\n",
    "        \"c\": \"mi\",\n",
    "        \"d\": \"te\",\n",
    "        \"e\": \"ku\",\n",
    "        \"f\": \"lu\",\n",
    "        \"g\": \"ji\",\n",
    "        \"h\": \"ri\",\n",
    "        \"i\": \"ki\",\n",
    "        \"j\": \"zu\",\n",
    "        \"k\": \"me\",\n",
    "        \"l\": \"ta\",\n",
    "        \"m\": \"rin\",\n",
    "        \"n\": \"to\",\n",
    "        \"q\": \"mo\",\n",
    "        \"p\": \"no\",\n",
    "        \"q\": \"ke\",\n",
    "        \"r\": \"shi\",\n",
    "        \"s\": \"ari\",\n",
    "        \"t\": \"chi\",\n",
    "        \"u\": \"do\",\n",
    "        \"v\": \"ru\",\n",
    "        \"x\": \"na\",\n",
    "        \"w\": \"mei\",\n",
    "        \"y\": \"fu\",\n",
    "        \"z\": \"ra\",\n",
    "    }\n",
    "\n",
    "    novonome = \"\"\n",
    "\n",
    "    for i in nome:\n",
    "        novonome += alfabeto[i]\n",
    "\n",
    "    return novonome"
   ]
  },
  {
   "cell_type": "code",
   "execution_count": 2,
   "metadata": {},
   "outputs": [
    {
     "name": "stdout",
     "output_type": "stream",
     "text": [
      "tekukirukiari\n"
     ]
    }
   ],
   "source": [
    "nome = \"deivis\"\n",
    "print(func(nome))"
   ]
  }
 ],
 "metadata": {
  "kernelspec": {
   "display_name": "base",
   "language": "python",
   "name": "python3"
  },
  "language_info": {
   "codemirror_mode": {
    "name": "ipython",
    "version": 3
   },
   "file_extension": ".py",
   "mimetype": "text/x-python",
   "name": "python",
   "nbconvert_exporter": "python",
   "pygments_lexer": "ipython3",
   "version": "3.9.12"
  },
  "orig_nbformat": 4
 },
 "nbformat": 4,
 "nbformat_minor": 2
}
