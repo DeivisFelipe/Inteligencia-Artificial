{
 "cells": [
  {
   "cell_type": "code",
   "execution_count": 1,
   "metadata": {},
   "outputs": [
    {
     "name": "stdout",
     "output_type": "stream",
     "text": [
      "5924nmpu!\n"
     ]
    }
   ],
   "source": [
    "import random\n",
    "\n",
    "def geraSenha():\n",
    "    numero = random.randint(1000, 9999)\n",
    "    ## string aleatória com 4 letras\n",
    "    letras = ''\n",
    "    for i in range(4):\n",
    "        letras += chr(random.randint(97, 122))\n",
    "\n",
    "    ## simbolo aleatório\n",
    "    simbolo = chr(random.randint(33, 47))\n",
    "\n",
    "    ## senha\n",
    "    senha = str(numero) + letras + simbolo\n",
    "\n",
    "    return senha\n",
    "\n",
    "print(geraSenha())"
   ]
  }
 ],
 "metadata": {
  "kernelspec": {
   "display_name": "base",
   "language": "python",
   "name": "python3"
  },
  "language_info": {
   "codemirror_mode": {
    "name": "ipython",
    "version": 3
   },
   "file_extension": ".py",
   "mimetype": "text/x-python",
   "name": "python",
   "nbconvert_exporter": "python",
   "pygments_lexer": "ipython3",
   "version": "3.9.12"
  },
  "orig_nbformat": 4
 },
 "nbformat": 4,
 "nbformat_minor": 2
}
