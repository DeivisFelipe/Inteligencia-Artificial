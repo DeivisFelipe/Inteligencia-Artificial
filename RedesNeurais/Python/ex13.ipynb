{
 "cells": [
  {
   "cell_type": "code",
   "execution_count": 1,
   "metadata": {},
   "outputs": [
    {
     "name": "stdout",
     "output_type": "stream",
     "text": [
      "797.4599999999999\n"
     ]
    }
   ],
   "source": [
    "class Objeto:\n",
    "    def __init__(self, cor, tamanho):\n",
    "        self.cor = cor\n",
    "        self.tamanho = tamanho\n",
    "\n",
    "    def area():\n",
    "        pass\n",
    "\n",
    "class Retangulo(Objeto):\n",
    "    def __init__(self, cor, tamanho, largura, altura):\n",
    "        super().__init__(cor, tamanho)\n",
    "        self.largura = largura\n",
    "        self.altura = altura\n",
    "\n",
    "    def area(self):\n",
    "        return self.largura * self.altura\n",
    "\n",
    "class Circulo(Objeto): \n",
    "    def __init__(self, cor, tamanho, raio):\n",
    "        self.raio = raio\n",
    "\n",
    "    def area(self):\n",
    "        return 3.14 * self.raio * self.raio\n",
    "    \n",
    "ratan1 = Retangulo(\"azul\", \"grande\", 10, 20)\n",
    "retan2 = Retangulo(\"vermelho\", \"pequeno\", 5, 10)\n",
    "retan3 = Retangulo(\"verde\", \"medio\", 7, 14)\n",
    "retan4 = Retangulo(\"verde\", \"pequeno\", 6,2)\n",
    "retan5 = Retangulo(\"azul\", \"pequeno\", 1, 1)\n",
    "\n",
    "circle1 = Circulo(\"vermelho\", \"grande\", 10)\n",
    "circle2 = Circulo(\"verde\", \"medio\", 5)\n",
    "circle3 = Circulo(\"azul\", \"pequeno\", 2)\n",
    "circle4 = Circulo(\"vermelho\", \"pequeno\", 1)\n",
    "circle5 = Circulo(\"verde\", \"medio\", 3)\n",
    "\n",
    "lista = [ratan1, retan2, retan3, retan4, retan5, circle1, circle2, circle3, circle4, circle5]\n",
    "\n",
    "areaTotal = 0\n",
    "for i in lista:\n",
    "    areaTotal += i.area()\n",
    "\n",
    "print(areaTotal)\n"
   ]
  }
 ],
 "metadata": {
  "kernelspec": {
   "display_name": "base",
   "language": "python",
   "name": "python3"
  },
  "language_info": {
   "codemirror_mode": {
    "name": "ipython",
    "version": 3
   },
   "file_extension": ".py",
   "mimetype": "text/x-python",
   "name": "python",
   "nbconvert_exporter": "python",
   "pygments_lexer": "ipython3",
   "version": "3.9.12"
  },
  "orig_nbformat": 4
 },
 "nbformat": 4,
 "nbformat_minor": 2
}
