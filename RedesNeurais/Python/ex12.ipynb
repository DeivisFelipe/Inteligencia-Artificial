{
 "cells": [
  {
   "cell_type": "code",
   "execution_count": null,
   "metadata": {},
   "outputs": [],
   "source": [
    "class Veiculo:\n",
    "    def __init__(self, nome, max_vel, quilometragem):\n",
    "        self.nome = nome\n",
    "        self.max_vel = max_vel\n",
    "        self.quilometragem = quilometragem\n",
    "\n",
    "class Carro(Veiculo):\n",
    "    def __init__(self, nome, max_vel, quilometragem, portas):\n",
    "        super().__init__(nome, max_vel, quilometragem)\n",
    "        self.portas = portas"
   ]
  }
 ],
 "metadata": {
  "language_info": {
   "name": "python"
  },
  "orig_nbformat": 4
 },
 "nbformat": 4,
 "nbformat_minor": 2
}
