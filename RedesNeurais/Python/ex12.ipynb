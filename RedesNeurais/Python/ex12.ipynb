{
 "cells": [
  {
   "cell_type": "code",
   "execution_count": 1,
   "metadata": {},
   "outputs": [],
   "source": [
    "class Veiculo:\n",
    "    def __init__(self, nome, max_vel, quilometragem):\n",
    "        self.nome = nome\n",
    "        self.max_vel = max_vel\n",
    "        self.quilometragem = quilometragem\n",
    "\n",
    "class Carro(Veiculo):\n",
    "    def __init__(self, nome, max_vel, quilometragem, portas):\n",
    "        super().__init__(nome, max_vel, quilometragem)\n",
    "        self.portas = portas"
   ]
  }
 ],
 "metadata": {
  "kernelspec": {
   "display_name": "base",
   "language": "python",
   "name": "python3"
  },
  "language_info": {
   "codemirror_mode": {
    "name": "ipython",
    "version": 3
   },
   "file_extension": ".py",
   "mimetype": "text/x-python",
   "name": "python",
   "nbconvert_exporter": "python",
   "pygments_lexer": "ipython3",
   "version": "3.9.12"
  },
  "orig_nbformat": 4
 },
 "nbformat": 4,
 "nbformat_minor": 2
}
