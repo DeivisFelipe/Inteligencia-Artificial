{
 "cells": [
  {
   "cell_type": "code",
   "execution_count": 22,
   "metadata": {},
   "outputs": [],
   "source": [
    "import re\n",
    "\n",
    "def func(frase):\n",
    "    lista = frase.split()\n",
    "    resposta = []\n",
    "    for i in lista:\n",
    "        if i[0].isupper():\n",
    "            resposta.append(i)\n",
    "    return resposta\n",
    "\n",
    "def func2(frase):\n",
    "    lista = re.split(r\"[-;,.\\s]\\s*\", frase)\n",
    "    resposta = []\n",
    "    for i in lista:\n",
    "        if i[0].isupper():\n",
    "            resposta.append(i)\n",
    "    return resposta"
   ]
  },
  {
   "cell_type": "code",
   "execution_count": 23,
   "metadata": {},
   "outputs": [
    {
     "name": "stdout",
     "output_type": "stream",
     "text": [
      "['Teste', 'Programa.wrwer']\n",
      "['Teste', 'Programa']\n"
     ]
    }
   ],
   "source": [
    "frase = \"Teste de frase para testar no Programa.wrwer\"\n",
    "print(func(frase))\n",
    "print(func2(frase))"
   ]
  }
 ],
 "metadata": {
  "kernelspec": {
   "display_name": "base",
   "language": "python",
   "name": "python3"
  },
  "language_info": {
   "codemirror_mode": {
    "name": "ipython",
    "version": 3
   },
   "file_extension": ".py",
   "mimetype": "text/x-python",
   "name": "python",
   "nbconvert_exporter": "python",
   "pygments_lexer": "ipython3",
   "version": "3.9.12"
  },
  "orig_nbformat": 4
 },
 "nbformat": 4,
 "nbformat_minor": 2
}
