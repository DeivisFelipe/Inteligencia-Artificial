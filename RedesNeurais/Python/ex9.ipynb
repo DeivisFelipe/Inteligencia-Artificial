{
 "cells": [
  {
   "cell_type": "code",
   "execution_count": 6,
   "metadata": {},
   "outputs": [
    {
     "name": "stdout",
     "output_type": "stream",
     "text": [
      "['AAAAAAAAAA']\n",
      "['AAAAACCCCC', 'CCCCCAAAAA']\n",
      "[]\n",
      "[]\n",
      "['AAAAAAAAAA']\n"
     ]
    }
   ],
   "source": [
    "string = \"AAAAAAAAAAAAA\"\n",
    "string2 = \"AAAAACCCCCAAAAACCCCCCAAAAAGGGTTT\"\n",
    "string3 = \"AAAACCCGGT\"\n",
    "string4 = \"AAAAAAAAAAA\"\n",
    "string5 = \"AAAAAAAAAAAAA\"\n",
    "\n",
    "def encontraDNARepetido(string):\n",
    "    dnas = []\n",
    "    for i in range(len(string)):\n",
    "        dna_raiz = string[i:i+10]\n",
    "        for j in range(i+3, len(string)):\n",
    "            if string[j:j+10] == dna_raiz:\n",
    "                dnas.append(dna_raiz)\n",
    "    return dnas\n",
    "\n",
    "print(encontraDNARepetido(string))\n",
    "print(encontraDNARepetido(string2))\n",
    "print(encontraDNARepetido(string3))\n",
    "print(encontraDNARepetido(string4))\n",
    "print(encontraDNARepetido(string5))"
   ]
  }
 ],
 "metadata": {
  "kernelspec": {
   "display_name": "base",
   "language": "python",
   "name": "python3"
  },
  "language_info": {
   "codemirror_mode": {
    "name": "ipython",
    "version": 3
   },
   "file_extension": ".py",
   "mimetype": "text/x-python",
   "name": "python",
   "nbconvert_exporter": "python",
   "pygments_lexer": "ipython3",
   "version": "3.9.12"
  },
  "orig_nbformat": 4
 },
 "nbformat": 4,
 "nbformat_minor": 2
}
