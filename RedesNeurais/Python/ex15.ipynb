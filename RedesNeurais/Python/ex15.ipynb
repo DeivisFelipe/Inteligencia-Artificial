{
 "cells": [
  {
   "cell_type": "code",
   "execution_count": 4,
   "metadata": {},
   "outputs": [
    {
     "name": "stdout",
     "output_type": "stream",
     "text": [
      "Maior valor de cada linha:  [0.9575593352026355, 0.9129874596148294, 0.8893165904633896, 0.9691091342727496, 0.9831251382554762, 0.8667320099337472, 0.9472952387631113, 0.8523623126868386, 0.9030113260721224, 0.886515307055701]\n",
      "Maior valor de cada coluna:  [0.732704972764486, 0.9650266829995932, 0.7610121055177642, 0.9472952387631113, 0.8957642685934312, 0.8412541941935463, 0.9575593352026355, 0.9455127506137453, 0.9691091342727496, 0.9831251382554762]\n"
     ]
    }
   ],
   "source": [
    "import numpy as np\n",
    "\n",
    "# cria uma matriz 10 x 10 com valores aleatórios\n",
    "matriz = np.random.rand(10, 10)\n",
    "\n",
    "maiorcoluna = []\n",
    "maiorlinha = []\n",
    "\n",
    "# percorre todas as linhas\n",
    "\n",
    "for linha in matriz:\n",
    "    maiorlinha.append(max(linha))\n",
    "\n",
    "# percorre todas as colunas\n",
    "for i in range(10):\n",
    "    maiorcoluna.append(max(matriz[:,i]))\n",
    "\n",
    "print(\"Maior valor de cada linha: \", maiorlinha)\n",
    "print(\"Maior valor de cada coluna: \", maiorcoluna)"
   ]
  }
 ],
 "metadata": {
  "kernelspec": {
   "display_name": "base",
   "language": "python",
   "name": "python3"
  },
  "language_info": {
   "codemirror_mode": {
    "name": "ipython",
    "version": 3
   },
   "file_extension": ".py",
   "mimetype": "text/x-python",
   "name": "python",
   "nbconvert_exporter": "python",
   "pygments_lexer": "ipython3",
   "version": "3.9.12"
  },
  "orig_nbformat": 4
 },
 "nbformat": 4,
 "nbformat_minor": 2
}
