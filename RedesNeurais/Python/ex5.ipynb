{
 "cells": [
  {
   "cell_type": "code",
   "execution_count": 5,
   "metadata": {},
   "outputs": [],
   "source": [
    "def func(lista):\n",
    "    dici = {}\n",
    "    for i in lista:\n",
    "        if i in dici:\n",
    "            dici[i] = dici[i] + 1\n",
    "        else:\n",
    "            dici[i] = 1\n",
    "\n",
    "    return dici"
   ]
  },
  {
   "cell_type": "code",
   "execution_count": 6,
   "metadata": {},
   "outputs": [
    {
     "name": "stdout",
     "output_type": "stream",
     "text": [
      "{1: 3, 2: 2, 3: 1, 4: 5, 5: 2, 6: 1, 8: 1, 7: 1}\n"
     ]
    }
   ],
   "source": [
    "lista = [1,2,3,4,1,5,1,6,2,4,5,4,4,4,8,7]\n",
    "print(func(lista))"
   ]
  }
 ],
 "metadata": {
  "kernelspec": {
   "display_name": "base",
   "language": "python",
   "name": "python3"
  },
  "language_info": {
   "codemirror_mode": {
    "name": "ipython",
    "version": 3
   },
   "file_extension": ".py",
   "mimetype": "text/x-python",
   "name": "python",
   "nbconvert_exporter": "python",
   "pygments_lexer": "ipython3",
   "version": "3.9.12"
  },
  "orig_nbformat": 4
 },
 "nbformat": 4,
 "nbformat_minor": 2
}
