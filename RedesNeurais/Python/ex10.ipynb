{
 "cells": [
  {
   "cell_type": "code",
   "execution_count": 38,
   "metadata": {},
   "outputs": [
    {
     "name": "stdout",
     "output_type": "stream",
     "text": [
      "{'Dez': 10, 'Vinte': 20, 'Trinta': 30, 'Quarenta': 40, 'Cinquenta': 50}\n",
      "{'Dez': 10, 'Vinte': 20, 'Trinta': 30, 'Quarenta': 40, 'Cinquenta': 50}\n"
     ]
    }
   ],
   "source": [
    "d1 = {'Dez': 10, 'Vinte': 20, 'Trinta': 30}\n",
    "d2 = {'Trinta': 30, 'Quarenta': 40, 'Cinquenta': 50}\n",
    "\n",
    "def uniDicionariosPrimeiro(d1, d2):\n",
    "    d3 = {}\n",
    "    for indece, item in enumerate(d1):\n",
    "        d3[item] = d1[item]\n",
    "\n",
    "    for indece, item in enumerate(d2):\n",
    "        d3[item] = d2[item]\n",
    "\n",
    "    return d3\n",
    "\n",
    "def uniDicionariosSegundo(d1, d2):\n",
    "    d3 = d1.copy()\n",
    "    d3.update(d2)\n",
    "    return d3\n",
    "\n",
    "\n",
    "print(uniDicionariosPrimeiro(d1, d2))\n",
    "print(uniDicionariosSegundo(d1, d2))"
   ]
  }
 ],
 "metadata": {
  "kernelspec": {
   "display_name": "base",
   "language": "python",
   "name": "python3"
  },
  "language_info": {
   "codemirror_mode": {
    "name": "ipython",
    "version": 3
   },
   "file_extension": ".py",
   "mimetype": "text/x-python",
   "name": "python",
   "nbconvert_exporter": "python",
   "pygments_lexer": "ipython3",
   "version": "3.9.12"
  },
  "orig_nbformat": 4
 },
 "nbformat": 4,
 "nbformat_minor": 2
}
