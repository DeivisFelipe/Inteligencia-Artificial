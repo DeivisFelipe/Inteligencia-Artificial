{
 "cells": [
  {
   "cell_type": "code",
   "execution_count": 7,
   "metadata": {},
   "outputs": [
    {
     "name": "stdout",
     "output_type": "stream",
     "text": [
      "[ 1  2  3  4  5  6  7  8  9 10]\n",
      "[ 1  2  3  8  9 10]\n"
     ]
    }
   ],
   "source": [
    "import numpy as np\n",
    "\n",
    "# numero de 1 a 10\n",
    "array = np.array(range(1,11))\n",
    "\n",
    "print(array)\n",
    "\n",
    "# remove os elementos de 4 a 7\n",
    "array = np.delete(array, slice(3,7))\n",
    "\n",
    "#qual a diferença entre slice e range?\n",
    "#slice é um objeto que representa um intervalo de valores\n",
    "#range é uma função que retorna uma lista de valores\n",
    "\n",
    "print(array)"
   ]
  }
 ],
 "metadata": {
  "kernelspec": {
   "display_name": "base",
   "language": "python",
   "name": "python3"
  },
  "language_info": {
   "codemirror_mode": {
    "name": "ipython",
    "version": 3
   },
   "file_extension": ".py",
   "mimetype": "text/x-python",
   "name": "python",
   "nbconvert_exporter": "python",
   "pygments_lexer": "ipython3",
   "version": "3.9.12"
  },
  "orig_nbformat": 4
 },
 "nbformat": 4,
 "nbformat_minor": 2
}
