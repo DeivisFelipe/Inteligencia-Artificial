{
 "cells": [
  {
   "cell_type": "code",
   "execution_count": 33,
   "metadata": {},
   "outputs": [],
   "source": [
    "import numpy as np\n",
    "from matplotlib import pyplot as plt"
   ]
  },
  {
   "cell_type": "code",
   "execution_count": 34,
   "metadata": {},
   "outputs": [],
   "source": [
    "def sigmoid(x):\n",
    "  return 1.0 / (1 + np.exp(-x))\n",
    "\n",
    "def tanh(x):\n",
    "  return np.tanh(x)"
   ]
  },
  {
   "cell_type": "code",
   "execution_count": 35,
   "metadata": {},
   "outputs": [],
   "source": [
    "x = np.linspace(-5.0, 5.0)\n",
    "y = tanh(x)"
   ]
  },
  {
   "cell_type": "code",
   "execution_count": 36,
   "metadata": {},
   "outputs": [
    {
     "data": {
      "text/plain": [
       "[<matplotlib.lines.Line2D at 0x28d1bac71f0>]"
      ]
     },
     "execution_count": 36,
     "metadata": {},
     "output_type": "execute_result"
    },
    {
     "data": {
      "image/png": "[encoded data removed]",
      "text/plain": [
       "<Figure size 432x288 with 1 Axes>"
      ]
     },
     "metadata": {
      "needs_background": "light"
     },
     "output_type": "display_data"
    }
   ],
   "source": [
    "plt.plot(x,y)"
   ]
  },
  {
   "cell_type": "code",
   "execution_count": 37,
   "metadata": {},
   "outputs": [],
   "source": [
    "class Neuron:\n",
    "  def __init__(self, input_size=3):\n",
    "    self.w = np.array([-1.0, 0.0, 1.0])\n",
    "    self.b = -0.5\n",
    "  def compute(self, inputs):\n",
    "    s = np.dot(self.w,inputs) + self.b\n",
    "    z = tanh(s)\n",
    "    return z"
   ]
  },
  {
   "cell_type": "code",
   "execution_count": 38,
   "metadata": {},
   "outputs": [
    {
     "data": {
      "text/plain": [
       "0.9051482536448664"
      ]
     },
     "execution_count": 38,
     "metadata": {},
     "output_type": "execute_result"
    }
   ],
   "source": [
    "n = Neuron()\n",
    "n.compute([1.0,20.0,3.0])"
   ]
  },
  {
   "cell_type": "code",
   "execution_count": 41,
   "metadata": {},
   "outputs": [],
   "source": [
    "class Perceptron():\n",
    "  def __init__(self, n_inputs=4, n_hidden=4, n_outputs=3):\n",
    "    # Sinapses\n",
    "    self.w_ih = np.array([[1.12,0.92,1.28],[-0.88,-1.02,-1.46],[1.06,0.63,0.38],[-1.5,-1.99,-2.31]])\n",
    "    self.w_ho = np.array([[0.54,2.51,-1.81,5.15],[-6.22,-4.08,1.75,-3.47],[5.89,1.58,-1.72,-4.06]])\n",
    "    # Biases\n",
    "    self.b_hid = np.array([[-8.86],[+4.36],[-1.87],[+4.79]])\n",
    "    self.b_out =  np.array([[-0.82],[0.76],[-1.35]])\n",
    "  def compute(self, inputs):\n",
    "    # Garante que a entrada seja um vetor coluna\n",
    "    inputs = np.reshape(inputs,(len(inputs),1))\n",
    "    # Calcula as ativações, camada por camada\n",
    "    self.s_hid = np.dot(self.w_ih, inputs) + self.b_hid\n",
    "    self.z_hid = sigmoid(self.s_hid)\n",
    "    self.s_out = np.dot(self.w_ho, self.z_hid) + self.b_out\n",
    "    self.z_out = sigmoid(self.s_out)\n",
    "    return self.z_out"
   ]
  },
  {
   "cell_type": "code",
   "execution_count": 44,
   "metadata": {},
   "outputs": [
    {
     "data": {
      "text/plain": [
       "array([[0.10034973],\n",
       "       [0.10042717],\n",
       "       [0.79839896]])"
      ]
     },
     "execution_count": 44,
     "metadata": {},
     "output_type": "execute_result"
    }
   ],
   "source": [
    "p = Perceptron()\n",
    "p.compute([3, 3, 3])"
   ]
  }
 ],
 "metadata": {
  "kernelspec": {
   "display_name": "base",
   "language": "python",
   "name": "python3"
  },
  "language_info": {
   "codemirror_mode": {
    "name": "ipython",
    "version": 3
   },
   "file_extension": ".py",
   "mimetype": "text/x-python",
   "name": "python",
   "nbconvert_exporter": "python",
   "pygments_lexer": "ipython3",
   "version": "3.9.12"
  }
 },
 "nbformat": 4,
 "nbformat_minor": 2
}
