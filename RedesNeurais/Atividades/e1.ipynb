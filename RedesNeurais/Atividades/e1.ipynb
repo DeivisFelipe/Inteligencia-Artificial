{
 "cells": [
  {
   "cell_type": "code",
   "execution_count": 1,
   "metadata": {},
   "outputs": [],
   "source": [
    "# ex1\n",
    "# Seu código aqui\n",
    "from math import cos as cos1\n",
    "from numpy import cos as cos2"
   ]
  },
  {
   "cell_type": "code",
   "execution_count": 2,
   "metadata": {},
   "outputs": [
    {
     "name": "stdout",
     "output_type": "stream",
     "text": [
      "[1, 2, 3, 1, 2, 3, 1, 2, 3, 1, 2, 3, 1, 2, 3]\n"
     ]
    }
   ],
   "source": [
    "#ex2\n",
    "a = [1, 2, 3]\n",
    "\n",
    "# Escreva seu código abaixo\n",
    "\n",
    "b = a * 5\n",
    "print(b)"
   ]
  },
  {
   "cell_type": "markdown",
   "metadata": {},
   "source": [
    "##3\n",
    "\n",
    "Crie uma matriz usando `array` do NumPy, com $100$ linhas (numeradas de $0$ a $99$) e $5$ colunas (numeradas de $0$ a $4$), onde cada elemento da linha $i$ e coluna $j$ é o resultado da multiplicação $i*j$ (onde $i$ e $j$ são inteiros). Grave o resultado na variável `c`."
   ]
  },
  {
   "cell_type": "code",
   "execution_count": 7,
   "metadata": {},
   "outputs": [
    {
     "name": "stdout",
     "output_type": "stream",
     "text": [
      "[[  0   0   0   0   0]\n",
      " [  0   1   2   3   4]\n",
      " [  0   2   4   6   8]\n",
      " [  0   3   6   9  12]\n",
      " [  0   4   8  12  16]\n",
      " [  0   5  10  15  20]\n",
      " [  0   6  12  18  24]\n",
      " [  0   7  14  21  28]\n",
      " [  0   8  16  24  32]\n",
      " [  0   9  18  27  36]\n",
      " [  0  10  20  30  40]\n",
      " [  0  11  22  33  44]\n",
      " [  0  12  24  36  48]\n",
      " [  0  13  26  39  52]\n",
      " [  0  14  28  42  56]\n",
      " [  0  15  30  45  60]\n",
      " [  0  16  32  48  64]\n",
      " [  0  17  34  51  68]\n",
      " [  0  18  36  54  72]\n",
      " [  0  19  38  57  76]\n",
      " [  0  20  40  60  80]\n",
      " [  0  21  42  63  84]\n",
      " [  0  22  44  66  88]\n",
      " [  0  23  46  69  92]\n",
      " [  0  24  48  72  96]\n",
      " [  0  25  50  75 100]\n",
      " [  0  26  52  78 104]\n",
      " [  0  27  54  81 108]\n",
      " [  0  28  56  84 112]\n",
      " [  0  29  58  87 116]\n",
      " [  0  30  60  90 120]\n",
      " [  0  31  62  93 124]\n",
      " [  0  32  64  96 128]\n",
      " [  0  33  66  99 132]\n",
      " [  0  34  68 102 136]\n",
      " [  0  35  70 105 140]\n",
      " [  0  36  72 108 144]\n",
      " [  0  37  74 111 148]\n",
      " [  0  38  76 114 152]\n",
      " [  0  39  78 117 156]\n",
      " [  0  40  80 120 160]\n",
      " [  0  41  82 123 164]\n",
      " [  0  42  84 126 168]\n",
      " [  0  43  86 129 172]\n",
      " [  0  44  88 132 176]\n",
      " [  0  45  90 135 180]\n",
      " [  0  46  92 138 184]\n",
      " [  0  47  94 141 188]\n",
      " [  0  48  96 144 192]\n",
      " [  0  49  98 147 196]\n",
      " [  0  50 100 150 200]\n",
      " [  0  51 102 153 204]\n",
      " [  0  52 104 156 208]\n",
      " [  0  53 106 159 212]\n",
      " [  0  54 108 162 216]\n",
      " [  0  55 110 165 220]\n",
      " [  0  56 112 168 224]\n",
      " [  0  57 114 171 228]\n",
      " [  0  58 116 174 232]\n",
      " [  0  59 118 177 236]\n",
      " [  0  60 120 180 240]\n",
      " [  0  61 122 183 244]\n",
      " [  0  62 124 186 248]\n",
      " [  0  63 126 189 252]\n",
      " [  0  64 128 192 256]\n",
      " [  0  65 130 195 260]\n",
      " [  0  66 132 198 264]\n",
      " [  0  67 134 201 268]\n",
      " [  0  68 136 204 272]\n",
      " [  0  69 138 207 276]\n",
      " [  0  70 140 210 280]\n",
      " [  0  71 142 213 284]\n",
      " [  0  72 144 216 288]\n",
      " [  0  73 146 219 292]\n",
      " [  0  74 148 222 296]\n",
      " [  0  75 150 225 300]\n",
      " [  0  76 152 228 304]\n",
      " [  0  77 154 231 308]\n",
      " [  0  78 156 234 312]\n",
      " [  0  79 158 237 316]\n",
      " [  0  80 160 240 320]\n",
      " [  0  81 162 243 324]\n",
      " [  0  82 164 246 328]\n",
      " [  0  83 166 249 332]\n",
      " [  0  84 168 252 336]\n",
      " [  0  85 170 255 340]\n",
      " [  0  86 172 258 344]\n",
      " [  0  87 174 261 348]\n",
      " [  0  88 176 264 352]\n",
      " [  0  89 178 267 356]\n",
      " [  0  90 180 270 360]\n",
      " [  0  91 182 273 364]\n",
      " [  0  92 184 276 368]\n",
      " [  0  93 186 279 372]\n",
      " [  0  94 188 282 376]\n",
      " [  0  95 190 285 380]\n",
      " [  0  96 192 288 384]\n",
      " [  0  97 194 291 388]\n",
      " [  0  98 196 294 392]\n",
      " [  0  99 198 297 396]]\n"
     ]
    }
   ],
   "source": [
    "import numpy as np\n",
    "\n",
    "# Crie uma matriz usando `array` do NumPy, com $100$ linhas (numeradas de $0$ a $99$) e $5$ colunas (numeradas de $0$ a $4$), onde cada elemento da linha $i$ e coluna $j$ é o resultado da multiplicação $i*j$ (onde $i$ e $j$ são inteiros). Grave o resultado na variável `c`.\n",
    "\n",
    "c = np.array(\n",
    "    [[i*j for j in range(5)] for i in range(100)]\n",
    ")\n",
    "\n",
    "print(array)"
   ]
  },
  {
   "cell_type": "code",
   "execution_count": 8,
   "metadata": {},
   "outputs": [
    {
     "data": {
      "text/plain": [
       "[<matplotlib.lines.Line2D at 0x1e703ad9b50>]"
      ]
     },
     "execution_count": 8,
     "metadata": {},
     "output_type": "execute_result"
    },
    {
     "data": {
      "image/png": "[encoded data removed]",
      "text/plain": [
       "<Figure size 432x288 with 1 Axes>"
      ]
     },
     "metadata": {
      "needs_background": "light"
     },
     "output_type": "display_data"
    }
   ],
   "source": [
    "# 4\n",
    "# Seu código aqui\n",
    "import matplotlib.pyplot as plt\n",
    "\n",
    "def f(x):\n",
    "  return 1.0 / (1.0 + np.exp(-x))\n",
    "\n",
    "val = np.linspace(-5, 5, 100)\n",
    "\n",
    "plt.plot(val, f(val))"
   ]
  },
  {
   "cell_type": "code",
   "execution_count": 9,
   "metadata": {},
   "outputs": [],
   "source": [
    "#5\n",
    "# Escreva seu código aqui\n",
    "class Quadrado:\n",
    "  lado = 0\n",
    "  def __init__(self, l):\n",
    "    self.lado = l\n",
    "  def area(self):\n",
    "    return self.lado**2\n",
    "\n",
    "class Triangulo:\n",
    "  altura = 0\n",
    "  base = 0\n",
    "  def __init__(self, b, h):\n",
    "    self.base = b\n",
    "    self.altura = h\n",
    "\n",
    "  def area(self):\n",
    "    return self.base * self.altura / 2.0"
   ]
  },
  {
   "cell_type": "code",
   "execution_count": 11,
   "metadata": {},
   "outputs": [],
   "source": [
    "#6\n",
    "# Escreva seu código aqui\n",
    "class Circulo:\n",
    "  raio = 0\n",
    "  def __init__(self, raio):\n",
    "    self.raio = raio\n",
    "  def area(self):\n",
    "    return np.pi * self.raio ** 2\n"
   ]
  },
  {
   "cell_type": "code",
   "execution_count": 16,
   "metadata": {},
   "outputs": [],
   "source": [
    "#7\n",
    "# Seu código aqui\n",
    "\n",
    "import random as rd\n",
    "\n",
    "quadrados = []\n",
    "triangulos = []\n",
    "circulos = []\n",
    "for i in range(0, 20):\n",
    "  quadrados.append(Quadrado(rd.randint(1,10)))\n",
    "  triangulos.append(Triangulo(rd.randint(1,10), rd.randint(1,10)))\n",
    "  circulos.append(Circulo(rd.randint(1,10)))\n",
    "  \n",
    "objs = [] + quadrados + triangulos + circulos"
   ]
  },
  {
   "cell_type": "code",
   "execution_count": 19,
   "metadata": {},
   "outputs": [],
   "source": [
    "#8\n",
    "# Seu código aqui\n",
    "np.random.shuffle(objs)\n",
    "\n",
    "soma = 0.0\n",
    "\n",
    "for item in objs:\n",
    "  soma += item.area()\n",
    "\n",
    "print(soma)\n",
    "print(np.sum([o.area() for o in objs]))"
   ]
  }
 ],
 "metadata": {
  "kernelspec": {
   "display_name": "base",
   "language": "python",
   "name": "python3"
  },
  "language_info": {
   "codemirror_mode": {
    "name": "ipython",
    "version": 3
   },
   "file_extension": ".py",
   "mimetype": "text/x-python",
   "name": "python",
   "nbconvert_exporter": "python",
   "pygments_lexer": "ipython3",
   "version": "3.9.12"
  },
  "orig_nbformat": 4
 },
 "nbformat": 4,
 "nbformat_minor": 2
}
