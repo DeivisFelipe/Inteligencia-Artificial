{
 "cells": [
  {
   "cell_type": "code",
   "execution_count": 1,
   "metadata": {},
   "outputs": [],
   "source": [
    "# Esse código gera imagens a partir de um arquivo pcap\n",
    "import matplotlib.pyplot as plt\n",
    "import numpy as np\n",
    "import pandas as pd\n",
    "import os\n",
    "import sys\n",
    "import pickle\n",
    "import pyshark"
   ]
  },
  {
   "cell_type": "code",
   "execution_count": 2,
   "metadata": {},
   "outputs": [
    {
     "name": "stderr",
     "output_type": "stream",
     "text": [
      "c:\\Users\\guerr\\anaconda3\\envs\\gan\\lib\\site-packages\\pyshark\\capture\\capture.py:177: UserWarning: The running eventloop has tasks but pyshark must set a new eventloop to continue. Existing tasks may not run.\n",
      "  warnings.warn(\"The running eventloop has tasks but pyshark must set a new eventloop to continue. \"\n"
     ]
    }
   ],
   "source": [
    "# Caminho para o arquivo PCAPNG\n",
    "arquivo = 'pacotes.pcapng'\n",
    "\n",
    "todosPacotes = []\n",
    "with pyshark.FileCapture(arquivo, use_json=True,\n",
    "            include_raw=True) as cap:\n",
    "    for pacote in cap:        \n",
    "        # Pega o Hexadecimal do pacote\n",
    "        conteudoEmHexa = pacote.frame_raw.value\n",
    "\n",
    "        #print(\"Valor Hexadecimal\")\n",
    "        #print(conteudoEmHexa)\n",
    "\n",
    "        # Retira todo o payload\n",
    "        noPayload = conteudoEmHexa[0:88]\n",
    "        #print(\"Headers\")\n",
    "        #print(noPayload)\n",
    "\n",
    "        # Retira o SLL Layer\n",
    "        noSll = noPayload[32:]\n",
    "        #print(\"Headers IP e UDP\")\n",
    "        #print(noSll)\n",
    "\n",
    "        # Retira o Checksum\n",
    "        noChecksum = noSll[:-4]\n",
    "        #print(\"No Checksum\")\n",
    "        #print(noChecksum)\n",
    "\n",
    "        # Da um split em todos os caracteres\n",
    "        vetorFloat = []\n",
    "        for i in noChecksum:\n",
    "            vetorFloat.append(int(i, base=16))\n",
    "\n",
    "        arrayNumpy = np.array(vetorFloat, dtype=float)\n",
    "\n",
    "        #print(\"Valores em vetor\")\n",
    "        #print(arrayNumpy)\n",
    "\n",
    "        # Pega o valor máximo e mínimo\n",
    "        maximo = max(arrayNumpy)\n",
    "        minimo = min(arrayNumpy)\n",
    "        #print(\"Valores máximos e mínimos\")\n",
    "        #print(maximo, minimo)\n",
    "\n",
    "        # Normaliza o vetor entre 0 e 1\n",
    "        normFunc = np.vectorize(lambda x: (x - minimo) / (maximo - minimo))\n",
    "        vetorNormalizado = normFunc(arrayNumpy)\n",
    "        #print(\"Vetor normalizado entre 0 e 1\")\n",
    "        #print(vetorNormalizado)\n",
    "\n",
    "        todosPacotes.append(vetorNormalizado)\n",
    "\n",
    "\n"
   ]
  },
  {
   "cell_type": "code",
   "execution_count": 3,
   "metadata": {},
   "outputs": [],
   "source": [
    "matriz = np.array(todosPacotes)\n",
    "\n",
    "np.save('valores_pacotes_normalizados.npy', matriz)"
   ]
  },
  {
   "cell_type": "code",
   "execution_count": 5,
   "metadata": {},
   "outputs": [
    {
     "name": "stdout",
     "output_type": "stream",
     "text": [
      "79661\n"
     ]
    }
   ],
   "source": [
    "print(len(matriz))"
   ]
  }
 ],
 "metadata": {
  "kernelspec": {
   "display_name": "gan",
   "language": "python",
   "name": "python3"
  },
  "language_info": {
   "codemirror_mode": {
    "name": "ipython",
    "version": 3
   },
   "file_extension": ".py",
   "mimetype": "text/x-python",
   "name": "python",
   "nbconvert_exporter": "python",
   "pygments_lexer": "ipython3",
   "version": "3.8.17"
  }
 },
 "nbformat": 4,
 "nbformat_minor": 2
}
