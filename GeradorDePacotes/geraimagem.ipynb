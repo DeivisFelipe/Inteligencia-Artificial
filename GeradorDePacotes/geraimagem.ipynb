{
 "cells": [
  {
   "cell_type": "code",
   "execution_count": 1,
   "metadata": {},
   "outputs": [],
   "source": [
    "# Esse código gera imagens a partir de um arquivo pcap\n",
    "import matplotlib.pyplot as plt\n",
    "import numpy as np\n",
    "import pandas as pd\n",
    "import os\n",
    "import sys\n",
    "import pickle\n",
    "import pyshark\n",
    "from PIL import Image, ImageDraw"
   ]
  },
  {
   "cell_type": "code",
   "execution_count": 3,
   "metadata": {},
   "outputs": [
    {
     "name": "stderr",
     "output_type": "stream",
     "text": [
      "c:\\Users\\guerr\\anaconda3\\envs\\gan\\lib\\site-packages\\pyshark\\capture\\capture.py:177: UserWarning: The running eventloop has tasks but pyshark must set a new eventloop to continue. Existing tasks may not run.\n",
      "  warnings.warn(\"The running eventloop has tasks but pyshark must set a new eventloop to continue. \"\n"
     ]
    },
    {
     "name": "stdout",
     "output_type": "stream",
     "text": [
      "00010001000608000000011100000800450005940001000040115c540a0001010a000404c350c350058001ee\n",
      "<class 'str'>\n",
      "88\n",
      "['0' '0' '0' '1' '0' '0' '0' '1' '0' '0' '0' '6' '0' '8' '0' '0' '0' '0'\n",
      " '0' '0' '0' '1' '1' '1' '0' '0' '0' '0' '0' '8' '0' '0' '4' '5' '0' '0'\n",
      " '0' '5' '9' '4' '0' '0' '0' '1' '0' '0' '0' '0' '4' '0' '1' '1' '5' 'c'\n",
      " '5' '4' '0' 'a' '0' '0' '0' '1' '0' '1' '0' 'a' '0' '0' '0' '4' '0' '4'\n",
      " 'c' '3' '5' '0' 'c' '3' '5' '0' '0' '5' '8' '0' '0' '1' 'e' 'e' '0' '0'\n",
      " '0' '0' '0' '0' '0' '0' '0' '0' '0' '0']\n",
      "[[  0.   0.   0.  17.   0.   0.   0.  17.   0.   0.]\n",
      " [  0. 102.   0. 136.   0.   0.   0.   0.   0.   0.]\n",
      " [  0.  17.  17.  17.   0.   0.   0.   0.   0. 136.]\n",
      " [  0.   0.  68.  85.   0.   0.   0.  85. 153.  68.]\n",
      " [  0.   0.   0.  17.   0.   0.   0.   0.  68.   0.]\n",
      " [ 17.  17.  85. 204.  85.  68.   0. 170.   0.   0.]\n",
      " [  0.  17.   0.  17.   0. 170.   0.   0.   0.  68.]\n",
      " [  0.  68. 204.  51.  85.   0. 204.  51.  85.   0.]\n",
      " [  0.  85. 136.   0.   0.  17. 238. 238.   0.   0.]\n",
      " [  0.   0.   0.   0.   0.   0.   0.   0.   0.   0.]]\n"
     ]
    }
   ],
   "source": [
    "# Caminho para o arquivo PCAPNG\n",
    "arquivo = 'pacotes.pcapng'\n",
    "\n",
    "def criaImagem(pacote):\n",
    "    # Qual o tipo da variavel pacote?\n",
    "    print(type(pacote))\n",
    "    # Converte a string para uma lista de caracteres\n",
    "    pacote = list(pacote)\n",
    "    # Cria um vetor com os valores do pacote\n",
    "    vetor = np.array(pacote)\n",
    "\n",
    "    # tamanho do arquivo\n",
    "    tamanho = vetor.size\n",
    "\n",
    "    print(tamanho)\n",
    "    \n",
    "    zeros = list('0'*12)\n",
    "\n",
    "    # Adiciona zeros para completar o tamanho\n",
    "    for i in zeros:\n",
    "        vetor = np.append(vetor, i)\n",
    "\n",
    "\n",
    "    print(vetor)\n",
    "\n",
    "\n",
    "    # Cria um vetor com os valores do pacote\n",
    "    valor_hexadecimal = np.array([])\n",
    "    for linha in vetor:\n",
    "        for elemento in linha:\n",
    "            # Repete o numero 2 vezes e converte para inteiro de 0 a 255\n",
    "            valor = int(elemento*2, 16)\n",
    "            # Adiciona o valor ao vetor\n",
    "            valor_hexadecimal = np.append(valor_hexadecimal, valor)\n",
    "    \n",
    "    # Faz o reshape para 10x10\n",
    "    valor_hexadecimal = valor_hexadecimal.reshape(10,10)\n",
    "\n",
    "    # Transforma a matriz 10x10 em uma matriz 100x100, mantendo os valores cada valor sendo 10x10\n",
    "    #valor_hexadecimal = np.kron(valor_hexadecimal, np.ones((10,10)))\n",
    "    \n",
    "\n",
    "    print(valor_hexadecimal)\n",
    "\n",
    "    # Crie uma imagem a partir dos tons de cinza\n",
    "    imagem = Image.fromarray(valor_hexadecimal, 'L')\n",
    "\n",
    "    # Salve a imagem em um arquivo (opcional)\n",
    "    #imagem.save('imagem_em_tons_de_cinza.png')\n",
    "\n",
    "    # Mostra a imagem (opcional)\n",
    "    imagem.show()\n",
    "\n",
    "with pyshark.FileCapture(arquivo, use_json=True,\n",
    "            include_raw=True) as cap:\n",
    "    # Pega o primeiro pacote\n",
    "    pacote = cap[0]\n",
    "\n",
    "    conteudoEmHexa = pacote.frame_raw.value\n",
    "    # Pega só os bytes do cabeçalho ip\n",
    "    conteudoEmHexa = conteudoEmHexa[0:88]\n",
    "\n",
    "    print(conteudoEmHexa)\n",
    "\n",
    "    # Cria a imagem\n",
    "    criaImagem(conteudoEmHexa)\n",
    "\n",
    "\n",
    "\n"
   ]
  }
 ],
 "metadata": {
  "kernelspec": {
   "display_name": "gan",
   "language": "python",
   "name": "python3"
  },
  "language_info": {
   "codemirror_mode": {
    "name": "ipython",
    "version": 3
   },
   "file_extension": ".py",
   "mimetype": "text/x-python",
   "name": "python",
   "nbconvert_exporter": "python",
   "pygments_lexer": "ipython3",
   "version": "3.8.17"
  }
 },
 "nbformat": 4,
 "nbformat_minor": 2
}
