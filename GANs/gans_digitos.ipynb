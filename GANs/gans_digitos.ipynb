{
 "cells": [
  {
   "cell_type": "code",
   "execution_count": 1,
   "metadata": {},
   "outputs": [],
   "source": [
    "import torch\n",
    "from torch import nn\n",
    "\n",
    "import math\n",
    "import matplotlib.pyplot as plt\n",
    "import torchvision\n",
    "import torchvision.transforms as transforms"
   ]
  },
  {
   "cell_type": "code",
   "execution_count": 2,
   "metadata": {},
   "outputs": [
    {
     "data": {
      "text/plain": [
       "<torch._C.Generator at 0x1b994463690>"
      ]
     },
     "execution_count": 2,
     "metadata": {},
     "output_type": "execute_result"
    }
   ],
   "source": [
    "torch.manual_seed(111)"
   ]
  },
  {
   "cell_type": "code",
   "execution_count": 3,
   "metadata": {},
   "outputs": [],
   "source": [
    "device = \"\"\n",
    "if torch.cuda.is_available():\n",
    "    device = torch.device(\"cuda\")\n",
    "else:\n",
    "    device = torch.device(\"cpu\")"
   ]
  },
  {
   "cell_type": "code",
   "execution_count": 4,
   "metadata": {},
   "outputs": [],
   "source": [
    "transform = transforms.Compose(\n",
    "    [transforms.ToTensor(),\n",
    "     transforms.Normalize((0.5,), (0.5,))])\n"
   ]
  },
  {
   "cell_type": "code",
   "execution_count": 5,
   "metadata": {},
   "outputs": [
    {
     "name": "stdout",
     "output_type": "stream",
     "text": [
      "Downloading http://yann.lecun.com/exdb/mnist/train-images-idx3-ubyte.gz\n",
      "Downloading http://yann.lecun.com/exdb/mnist/train-images-idx3-ubyte.gz to .\\MNIST\\raw\\train-images-idx3-ubyte.gz\n"
     ]
    },
    {
     "name": "stderr",
     "output_type": "stream",
     "text": [
      "100%|██████████| 9912422/9912422 [00:19<00:00, 512200.79it/s]\n"
     ]
    },
    {
     "name": "stdout",
     "output_type": "stream",
     "text": [
      "Extracting .\\MNIST\\raw\\train-images-idx3-ubyte.gz to .\\MNIST\\raw\n",
      "\n",
      "Downloading http://yann.lecun.com/exdb/mnist/train-labels-idx1-ubyte.gz\n",
      "Downloading http://yann.lecun.com/exdb/mnist/train-labels-idx1-ubyte.gz to .\\MNIST\\raw\\train-labels-idx1-ubyte.gz\n"
     ]
    },
    {
     "name": "stderr",
     "output_type": "stream",
     "text": [
      "100%|██████████| 28881/28881 [00:00<00:00, 14431223.95it/s]"
     ]
    },
    {
     "name": "stdout",
     "output_type": "stream",
     "text": [
      "Extracting .\\MNIST\\raw\\train-labels-idx1-ubyte.gz to .\\MNIST\\raw\n",
      "\n",
      "Downloading http://yann.lecun.com/exdb/mnist/t10k-images-idx3-ubyte.gz\n"
     ]
    },
    {
     "name": "stderr",
     "output_type": "stream",
     "text": [
      "\n"
     ]
    },
    {
     "name": "stdout",
     "output_type": "stream",
     "text": [
      "Downloading http://yann.lecun.com/exdb/mnist/t10k-images-idx3-ubyte.gz to .\\MNIST\\raw\\t10k-images-idx3-ubyte.gz\n"
     ]
    },
    {
     "name": "stderr",
     "output_type": "stream",
     "text": [
      "100%|██████████| 1648877/1648877 [00:02<00:00, 554700.26it/s]\n"
     ]
    },
    {
     "name": "stdout",
     "output_type": "stream",
     "text": [
      "Extracting .\\MNIST\\raw\\t10k-images-idx3-ubyte.gz to .\\MNIST\\raw\n",
      "\n",
      "Downloading http://yann.lecun.com/exdb/mnist/t10k-labels-idx1-ubyte.gz\n",
      "Downloading http://yann.lecun.com/exdb/mnist/t10k-labels-idx1-ubyte.gz to .\\MNIST\\raw\\t10k-labels-idx1-ubyte.gz\n"
     ]
    },
    {
     "name": "stderr",
     "output_type": "stream",
     "text": [
      "100%|██████████| 4542/4542 [00:00<00:00, 4579454.03it/s]"
     ]
    },
    {
     "name": "stdout",
     "output_type": "stream",
     "text": [
      "Extracting .\\MNIST\\raw\\t10k-labels-idx1-ubyte.gz to .\\MNIST\\raw\n",
      "\n"
     ]
    },
    {
     "name": "stderr",
     "output_type": "stream",
     "text": [
      "\n"
     ]
    }
   ],
   "source": [
    "train_set = torchvision.datasets.MNIST(\n",
    "    root=\".\", train=True, download=True, transform=transform\n",
    ")"
   ]
  },
  {
   "cell_type": "code",
   "execution_count": 6,
   "metadata": {},
   "outputs": [],
   "source": [
    "batch_size = 32\n",
    "train_loader = torch.utils.data.DataLoader(\n",
    "    train_set, batch_size=batch_size, shuffle=True\n",
    ")"
   ]
  },
  {
   "cell_type": "code",
   "execution_count": 7,
   "metadata": {},
   "outputs": [
    {
     "data": {
      "image/png": "[encoded data removed]",
      "text/plain": [
       "<Figure size 432x288 with 16 Axes>"
      ]
     },
     "metadata": {},
     "output_type": "display_data"
    }
   ],
   "source": [
    "real_samples, mnist_labels = next(iter(train_loader))\n",
    "for i in range(16):\n",
    "    ax = plt.subplot(4, 4, i + 1)\n",
    "    plt.imshow(real_samples[i].reshape(28, 28), cmap=\"gray_r\")\n",
    "    plt.xticks([])\n",
    "    plt.yticks([])"
   ]
  },
  {
   "cell_type": "code",
   "execution_count": 8,
   "metadata": {},
   "outputs": [],
   "source": [
    "class Discriminator(nn.Module):\n",
    "    def __init__(self):\n",
    "        super().__init__()\n",
    "        self.model = nn.Sequential(\n",
    "            nn.Linear(784, 1024),\n",
    "            nn.ReLU(),\n",
    "            nn.Dropout(0.3),\n",
    "            nn.Linear(1024, 512),\n",
    "            nn.ReLU(),\n",
    "            nn.Dropout(0.3),\n",
    "            nn.Linear(512, 256),\n",
    "            nn.ReLU(),\n",
    "            nn.Dropout(0.3),\n",
    "            nn.Linear(256, 1),\n",
    "            nn.Sigmoid(),\n",
    "        )\n",
    "\n",
    "    def forward(self, x):\n",
    "        x = x.view(x.size(0), 784)\n",
    "        output = self.model(x)\n",
    "        return output"
   ]
  },
  {
   "cell_type": "code",
   "execution_count": 9,
   "metadata": {},
   "outputs": [],
   "source": [
    "discriminator = Discriminator().to(device=device)"
   ]
  },
  {
   "cell_type": "code",
   "execution_count": 10,
   "metadata": {},
   "outputs": [],
   "source": [
    "class Generator(nn.Module):\n",
    "    def __init__(self):\n",
    "        super().__init__()\n",
    "        self.model = nn.Sequential(\n",
    "            nn.Linear(100, 256),\n",
    "            nn.ReLU(),\n",
    "            nn.Linear(256, 512),\n",
    "            nn.ReLU(),\n",
    "            nn.Linear(512, 1024),\n",
    "            nn.ReLU(),\n",
    "            nn.Linear(1024, 784),\n",
    "            nn.Tanh(),\n",
    "        )\n",
    "\n",
    "    def forward(self, x):\n",
    "        output = self.model(x)\n",
    "        output = output.view(x.size(0), 1, 28, 28)\n",
    "        return output\n",
    "\n",
    "generator = Generator().to(device=device)"
   ]
  },
  {
   "cell_type": "code",
   "execution_count": 11,
   "metadata": {},
   "outputs": [],
   "source": [
    "lr = 0.0001\n",
    "num_epochs = 50\n",
    "loss_function = nn.BCELoss()\n",
    "\n",
    "optimizer_discriminator = torch.optim.Adam(discriminator.parameters(), lr=lr)\n",
    "optimizer_generator = torch.optim.Adam(generator.parameters(), lr=lr)"
   ]
  },
  {
   "cell_type": "code",
   "execution_count": 12,
   "metadata": {},
   "outputs": [
    {
     "name": "stdout",
     "output_type": "stream",
     "text": [
      "Epoch: 0 Loss D.: 0.5692477226257324\n",
      "Epoch: 0 Loss G.: 0.47790801525115967\n",
      "Epoch: 1 Loss D.: 0.009643509984016418\n",
      "Epoch: 1 Loss G.: 5.8984527587890625\n",
      "Epoch: 2 Loss D.: 0.011027584783732891\n",
      "Epoch: 2 Loss G.: 5.060005187988281\n",
      "Epoch: 3 Loss D.: 0.09286513179540634\n",
      "Epoch: 3 Loss G.: 4.20245885848999\n",
      "Epoch: 4 Loss D.: 0.07140043377876282\n",
      "Epoch: 4 Loss G.: 5.78773307800293\n",
      "Epoch: 5 Loss D.: 0.24082869291305542\n",
      "Epoch: 5 Loss G.: 4.798659324645996\n",
      "Epoch: 6 Loss D.: 0.1218673512339592\n",
      "Epoch: 6 Loss G.: 3.0063819885253906\n",
      "Epoch: 7 Loss D.: 0.2697950005531311\n",
      "Epoch: 7 Loss G.: 2.5323548316955566\n",
      "Epoch: 8 Loss D.: 0.24950692057609558\n",
      "Epoch: 8 Loss G.: 2.497652769088745\n",
      "Epoch: 9 Loss D.: 0.37216031551361084\n",
      "Epoch: 9 Loss G.: 2.233341693878174\n",
      "Epoch: 10 Loss D.: 0.35383450984954834\n",
      "Epoch: 10 Loss G.: 2.2567391395568848\n",
      "Epoch: 11 Loss D.: 0.38168710470199585\n",
      "Epoch: 11 Loss G.: 1.6816157102584839\n",
      "Epoch: 12 Loss D.: 0.37027081847190857\n",
      "Epoch: 12 Loss G.: 1.4578399658203125\n",
      "Epoch: 13 Loss D.: 0.5207850933074951\n",
      "Epoch: 13 Loss G.: 1.7165679931640625\n",
      "Epoch: 14 Loss D.: 0.5210033059120178\n",
      "Epoch: 14 Loss G.: 1.2591826915740967\n",
      "Epoch: 15 Loss D.: 0.570105791091919\n",
      "Epoch: 15 Loss G.: 1.3738620281219482\n",
      "Epoch: 16 Loss D.: 0.5794570446014404\n",
      "Epoch: 16 Loss G.: 1.2568172216415405\n",
      "Epoch: 17 Loss D.: 0.5770907998085022\n",
      "Epoch: 17 Loss G.: 1.107081651687622\n",
      "Epoch: 18 Loss D.: 0.5172674655914307\n",
      "Epoch: 18 Loss G.: 1.1172871589660645\n",
      "Epoch: 19 Loss D.: 0.5496352314949036\n",
      "Epoch: 19 Loss G.: 1.0242122411727905\n",
      "Epoch: 20 Loss D.: 0.49676892161369324\n",
      "Epoch: 20 Loss G.: 1.1064778566360474\n",
      "Epoch: 21 Loss D.: 0.5360305905342102\n",
      "Epoch: 21 Loss G.: 1.2963643074035645\n",
      "Epoch: 22 Loss D.: 0.4532807469367981\n",
      "Epoch: 22 Loss G.: 1.0010871887207031\n",
      "Epoch: 23 Loss D.: 0.5296805500984192\n",
      "Epoch: 23 Loss G.: 0.9350422024726868\n",
      "Epoch: 24 Loss D.: 0.5640748739242554\n",
      "Epoch: 24 Loss G.: 1.19346022605896\n",
      "Epoch: 25 Loss D.: 0.61900794506073\n",
      "Epoch: 25 Loss G.: 1.0975806713104248\n",
      "Epoch: 26 Loss D.: 0.527164876461029\n",
      "Epoch: 26 Loss G.: 0.9949727058410645\n",
      "Epoch: 27 Loss D.: 0.6153690814971924\n",
      "Epoch: 27 Loss G.: 1.0196335315704346\n",
      "Epoch: 28 Loss D.: 0.5303022265434265\n",
      "Epoch: 28 Loss G.: 0.9844254851341248\n",
      "Epoch: 29 Loss D.: 0.5694171190261841\n",
      "Epoch: 29 Loss G.: 1.0861506462097168\n",
      "Epoch: 30 Loss D.: 0.7101197242736816\n",
      "Epoch: 30 Loss G.: 0.8077021241188049\n",
      "Epoch: 31 Loss D.: 0.5473599433898926\n",
      "Epoch: 31 Loss G.: 1.1856741905212402\n",
      "Epoch: 32 Loss D.: 0.6145708560943604\n",
      "Epoch: 32 Loss G.: 1.0392142534255981\n",
      "Epoch: 33 Loss D.: 0.570712149143219\n",
      "Epoch: 33 Loss G.: 0.9409921765327454\n",
      "Epoch: 34 Loss D.: 0.5190733671188354\n",
      "Epoch: 34 Loss G.: 1.1091374158859253\n",
      "Epoch: 35 Loss D.: 0.5975267887115479\n",
      "Epoch: 35 Loss G.: 1.0395089387893677\n",
      "Epoch: 36 Loss D.: 0.6076797842979431\n",
      "Epoch: 36 Loss G.: 0.9893094897270203\n",
      "Epoch: 37 Loss D.: 0.67259681224823\n",
      "Epoch: 37 Loss G.: 0.9985434412956238\n",
      "Epoch: 38 Loss D.: 0.5870829820632935\n",
      "Epoch: 38 Loss G.: 1.026760220527649\n",
      "Epoch: 39 Loss D.: 0.5560861229896545\n",
      "Epoch: 39 Loss G.: 1.039906620979309\n",
      "Epoch: 40 Loss D.: 0.6006497144699097\n",
      "Epoch: 40 Loss G.: 1.0176851749420166\n",
      "Epoch: 41 Loss D.: 0.6366152167320251\n",
      "Epoch: 41 Loss G.: 0.8215171694755554\n",
      "Epoch: 42 Loss D.: 0.6679153442382812\n",
      "Epoch: 42 Loss G.: 0.9204332232475281\n",
      "Epoch: 43 Loss D.: 0.5880150198936462\n",
      "Epoch: 43 Loss G.: 0.8764508962631226\n",
      "Epoch: 44 Loss D.: 0.5933700203895569\n",
      "Epoch: 44 Loss G.: 1.0658855438232422\n",
      "Epoch: 45 Loss D.: 0.5659056305885315\n",
      "Epoch: 45 Loss G.: 0.9766207933425903\n",
      "Epoch: 46 Loss D.: 0.6023813486099243\n",
      "Epoch: 46 Loss G.: 0.9635745286941528\n",
      "Epoch: 47 Loss D.: 0.6421878933906555\n",
      "Epoch: 47 Loss G.: 0.8926445841789246\n",
      "Epoch: 48 Loss D.: 0.5806657671928406\n",
      "Epoch: 48 Loss G.: 0.8737201690673828\n",
      "Epoch: 49 Loss D.: 0.565136194229126\n",
      "Epoch: 49 Loss G.: 0.9497590065002441\n"
     ]
    }
   ],
   "source": [
    "for epoch in range(num_epochs):\n",
    "    for n, (real_samples, mnist_labels) in enumerate(train_loader):\n",
    "        # Data for training the discriminator\n",
    "        real_samples = real_samples.to(device=device)\n",
    "        real_samples_labels = torch.ones((batch_size, 1)).to(\n",
    "            device=device\n",
    "        )\n",
    "        latent_space_samples = torch.randn((batch_size, 100)).to(\n",
    "            device=device\n",
    "        )\n",
    "        generated_samples = generator(latent_space_samples)\n",
    "        generated_samples_labels = torch.zeros((batch_size, 1)).to(\n",
    "            device=device\n",
    "        )\n",
    "        all_samples = torch.cat((real_samples, generated_samples))\n",
    "        all_samples_labels = torch.cat(\n",
    "            (real_samples_labels, generated_samples_labels)\n",
    "        )\n",
    "\n",
    "        # Training the discriminator\n",
    "        discriminator.zero_grad()\n",
    "        output_discriminator = discriminator(all_samples)\n",
    "        loss_discriminator = loss_function(\n",
    "            output_discriminator, all_samples_labels\n",
    "        )\n",
    "        loss_discriminator.backward()\n",
    "        optimizer_discriminator.step()\n",
    "\n",
    "        # Data for training the generator\n",
    "        latent_space_samples = torch.randn((batch_size, 100)).to(\n",
    "            device=device\n",
    "        )\n",
    "\n",
    "        # Training the generator\n",
    "        generator.zero_grad()\n",
    "        generated_samples = generator(latent_space_samples)\n",
    "        output_discriminator_generated = discriminator(generated_samples)\n",
    "        loss_generator = loss_function(\n",
    "            output_discriminator_generated, real_samples_labels\n",
    "        )\n",
    "        loss_generator.backward()\n",
    "        optimizer_generator.step()\n",
    "\n",
    "        # Show loss\n",
    "        if n == batch_size - 1:\n",
    "            print(f\"Epoch: {epoch} Loss D.: {loss_discriminator}\")\n",
    "            print(f\"Epoch: {epoch} Loss G.: {loss_generator}\")"
   ]
  },
  {
   "cell_type": "code",
   "execution_count": 13,
   "metadata": {},
   "outputs": [],
   "source": [
    "latent_space_samples = torch.randn(batch_size, 100).to(device=device)\n",
    "generated_samples = generator(latent_space_samples)"
   ]
  },
  {
   "cell_type": "code",
   "execution_count": 14,
   "metadata": {},
   "outputs": [
    {
     "data": {
      "image/png": "[encoded data removed]",
      "text/plain": [
       "<Figure size 432x288 with 16 Axes>"
      ]
     },
     "metadata": {},
     "output_type": "display_data"
    }
   ],
   "source": [
    "generated_samples = generated_samples.cpu().detach()\n",
    "for i in range(16):\n",
    "    ax = plt.subplot(4, 4, i + 1)\n",
    "    plt.imshow(generated_samples[i].reshape(28, 28), cmap=\"gray_r\")\n",
    "    plt.xticks([])\n",
    "    plt.yticks([])"
   ]
  }
 ],
 "metadata": {
  "kernelspec": {
   "display_name": "base",
   "language": "python",
   "name": "python3"
  },
  "language_info": {
   "codemirror_mode": {
    "name": "ipython",
    "version": 3
   },
   "file_extension": ".py",
   "mimetype": "text/x-python",
   "name": "python",
   "nbconvert_exporter": "python",
   "pygments_lexer": "ipython3",
   "version": "3.9.12"
  },
  "orig_nbformat": 4
 },
 "nbformat": 4,
 "nbformat_minor": 2
}
