{
 "cells": [
  {
   "cell_type": "markdown",
   "metadata": {},
   "source": [
    "# Imagem de teste "
   ]
  },
  {
   "cell_type": "code",
   "execution_count": 32,
   "metadata": {},
   "outputs": [],
   "source": [
    "import cv2"
   ]
  },
  {
   "cell_type": "code",
   "execution_count": 33,
   "metadata": {},
   "outputs": [],
   "source": [
    "imagem = cv2.imread('datasets/Images/people1.jpg')"
   ]
  },
  {
   "cell_type": "code",
   "execution_count": 34,
   "metadata": {},
   "outputs": [
    {
     "name": "stdout",
     "output_type": "stream",
     "text": [
      "(1280, 1920, 3)\n",
      "(600, 800, 3)\n"
     ]
    }
   ],
   "source": [
    "print(imagem.shape)\n",
    "imagem = cv2.resize(imagem, (800, 600))\n",
    "print(imagem.shape)"
   ]
  },
  {
   "cell_type": "code",
   "execution_count": 35,
   "metadata": {},
   "outputs": [],
   "source": [
    "\n",
    "#resultado = cv2.imshow('Imagem', imagem)\n",
    "#print(resultado)"
   ]
  },
  {
   "cell_type": "code",
   "execution_count": 36,
   "metadata": {},
   "outputs": [],
   "source": [
    "imagem_cinza = cv2.cvtColor(imagem, cv2.COLOR_BGR2GRAY)\n",
    "cv2.imshow('Imagem Cinza', imagem_cinza)\n",
    "cv2.waitKey(0) # espera uma tecla ser pressionada\n",
    "cv2.destroyAllWindows() # fecha todas as janelas abertas\n"
   ]
  },
  {
   "cell_type": "markdown",
   "metadata": {},
   "source": [
    "# Detecção de Faces Cascade"
   ]
  },
  {
   "cell_type": "code",
   "execution_count": 37,
   "metadata": {},
   "outputs": [
    {
     "name": "stdout",
     "output_type": "stream",
     "text": [
      "< cv2.CascadeClassifier 000001F93ABC7DF0>\n"
     ]
    }
   ],
   "source": [
    "detector_facial = cv2.CascadeClassifier('datasets/Cascades/haarcascade_frontalface_default.xml')\n",
    "print(detector_facial)\n",
    "if detector_facial.empty():\n",
    "    raise IOError(\"Failed to load cascade classifier at /datasets/Cascades/haarcascade_frontalface_default.xml\")"
   ]
  },
  {
   "cell_type": "code",
   "execution_count": 38,
   "metadata": {},
   "outputs": [
    {
     "data": {
      "text/plain": [
       "array([[115, 124,  53,  53],\n",
       "       [677,  72,  68,  68],\n",
       "       [475, 123,  59,  59],\n",
       "       [390, 323,  56,  56],\n",
       "       [387, 233,  73,  73],\n",
       "       [ 92, 239,  66,  66]])"
      ]
     },
     "execution_count": 38,
     "metadata": {},
     "output_type": "execute_result"
    }
   ],
   "source": [
    "faces_detectadas = detector_facial.detectMultiScale(imagem_cinza)\n",
    "faces_detectadas"
   ]
  },
  {
   "cell_type": "code",
   "execution_count": 39,
   "metadata": {},
   "outputs": [
    {
     "data": {
      "text/plain": [
       "6"
      ]
     },
     "execution_count": 39,
     "metadata": {},
     "output_type": "execute_result"
    }
   ],
   "source": [
    "len(faces_detectadas)"
   ]
  },
  {
   "cell_type": "code",
   "execution_count": 43,
   "metadata": {},
   "outputs": [],
   "source": [
    "for x, y, w, h in faces_detectadas:\n",
    "    cv2.rectangle(imagem, (x,y), (x+w, y+h), (0, 255, 255), 2)\n",
    "cv2.imshow(\"Faces\", imagem)\n",
    "cv2.waitKey(0)\n",
    "cv2.destroyAllWindows()"
   ]
  },
  {
   "cell_type": "markdown",
   "metadata": {},
   "source": [
    "Parâmetros"
   ]
  },
  {
   "cell_type": "code",
   "execution_count": 50,
   "metadata": {},
   "outputs": [],
   "source": [
    "imagem = cv2.imread('datasets/Images/people1.jpg')\n",
    "imagem = cv2.resize(imagem, (800, 600))\n",
    "imagem_cinza = cv2.cvtColor(imagem, cv2.COLOR_BGR2GRAY)\n",
    "deteccoes = detector_facial.detectMultiScale(imagem_cinza, scaleFactor=1.09)\n",
    "for x,y,w,h in deteccoes:\n",
    "    cv2.rectangle(imagem, (x, y), (x+w, y+h), (0, 255, 255), 2)\n",
    "cv2.imshow(\"Marcações\", imagem)\n",
    "cv2.waitKey(0)\n",
    "cv2.destroyAllWindows()\n"
   ]
  },
  {
   "cell_type": "code",
   "execution_count": 55,
   "metadata": {},
   "outputs": [],
   "source": [
    "imagem = cv2.imread('datasets/Images/people2.jpg')\n",
    "imagem_cinza = cv2.cvtColor(imagem, cv2.COLOR_BGR2GRAY)\n",
    "deteccoes = detector_facial.detectMultiScale(imagem_cinza, scaleFactor=1.2, minNeighbors=3, minSize=(32,32), maxSize=(100,100))\n",
    "for x, y, w, h in deteccoes:\n",
    "    cv2.rectangle(imagem, (x, y), (x+w, y+h), (0, 255, 255), 2)\n",
    "cv2.imshow(\"Marcações\", imagem)\n",
    "cv2.waitKey(0)\n",
    "cv2.destroyAllWindows()"
   ]
  },
  {
   "cell_type": "markdown",
   "metadata": {},
   "source": [
    "Detecção de olhos"
   ]
  },
  {
   "cell_type": "code",
   "execution_count": 66,
   "metadata": {},
   "outputs": [],
   "source": [
    "detector_olhos = cv2.CascadeClassifier('datasets/Cascades/haarcascade_eye.xml')\n",
    "\n",
    "imagem = cv2.imread('datasets/Images/people1.jpg')\n",
    "#imagem = cv2.resize(imagem, (800, 600))\n",
    "imagem_cinza = cv2.cvtColor(imagem, cv2.COLOR_BGR2GRAY)\n",
    "\n",
    "deteccoes = detector_facial.detectMultiScale(\n",
    "    imagem_cinza, scaleFactor=1.3, minSize=(30, 30)\n",
    "    )\n",
    "\n",
    "deteccoes_olhos = detector_olhos.detectMultiScale(\n",
    "    imagem_cinza, scaleFactor=1.09, minNeighbors=10, maxSize=(70,70)\n",
    ")\n",
    "for x, y, w, h in deteccoes:\n",
    "    cv2.rectangle(imagem, (x, y), (x+w, y+h), (0, 255, 255), 2)\n",
    "\n",
    "for x, y, w, h in deteccoes_olhos:\n",
    "    cv2.rectangle(imagem, (x, y), (x+w, y+h), (255, 0, 0), 1)\n",
    "\n",
    "cv2.imshow(\"Dtecções\", imagem)\n",
    "cv2.waitKey(0)\n",
    "cv2.destroyAllWindows()"
   ]
  },
  {
   "cell_type": "markdown",
   "metadata": {},
   "source": [
    "Carros"
   ]
  },
  {
   "cell_type": "code",
   "execution_count": 71,
   "metadata": {},
   "outputs": [],
   "source": [
    "detector_carros = cv2.CascadeClassifier('datasets/Cascades/cars.xml')\n",
    "\n",
    "imagem = cv2.imread('datasets/Images/car.jpg')\n",
    "imagem_cinza = cv2.cvtColor(imagem, cv2.COLOR_BGR2GRAY)\n",
    "\n",
    "deteccoes = detector_carros.detectMultiScale(\n",
    "    imagem_cinza, scaleFactor=1.03, minNeighbors=5\n",
    ")\n",
    "\n",
    "for x, y, w, h in deteccoes:\n",
    "    cv2.rectangle(imagem, (x, y), (x+w, y+h), (0, 255, 0), 2)\n",
    "\n",
    "cv2.imshow(\"Carros\", imagem)\n",
    "cv2.waitKey(0)\n",
    "cv2.destroyAllWindows()"
   ]
  },
  {
   "cell_type": "markdown",
   "metadata": {},
   "source": [
    "Relógios\n"
   ]
  },
  {
   "cell_type": "code",
   "execution_count": null,
   "metadata": {},
   "outputs": [],
   "source": [
    "detector_relogios = cv2.CascadeClassifier('datasets/Cascades/clocks.xml')\n",
    "imagem = cv2.imread('datasets/Images/clock.jpg')\n",
    "imagem_cinza = cv2.cvtColor(imagem. cv2.COLOR_BGR2GRAY)\n",
    "\n",
    "deteccoes = detector_relogios.detectMultiScale(\n",
    "    imagem_cinza, scaleFactor=1.03, minNeighbors=1\n",
    ")\n",
    "\n",
    "for x, y, w, h in deteccoes:\n",
    "    cv2.rectangle(imagem, (x, y), (x+w, y+h), (0, 255, 0), 2)\n",
    "\n",
    "cv2.imshow(\"Relógios\", imagem)\n",
    "cv2.waitKey(0)\n",
    "cv2.destroyAllWindows()"
   ]
  },
  {
   "cell_type": "markdown",
   "metadata": {},
   "source": [
    "Corpo inteiro"
   ]
  },
  {
   "cell_type": "code",
   "execution_count": null,
   "metadata": {},
   "outputs": [],
   "source": [
    "detector_corpo_inteiro = cv2.CascadeClassifier('datasets/Cascades/fullbody.xml')\n",
    "imagem = cv2.imread('datasets/Images/people3.jpg')\n",
    "imagem_cinza = cv2.cvtColor(imagem, cv2.COLOR_BGR2GRAY)\n",
    "\n",
    "deteccoes = detector_corpo_inteiro.detectMultiScale(\n",
    "    imagem_cinza, scaleFactor=1.05, minNeighbors=5, minSize=(50, 50)\n",
    ")\n",
    "\n",
    "for x, y, w, h in deteccoes:\n",
    "    cv2.rectangle(imagem, (x, y), (x+w, y+h), (0, 255, 0), 2)\n",
    "\n",
    "cv2.imshow(\"Corpo Inteiro\", imagem)\n",
    "cv2.waitKey(0)\n",
    "cv2.destroyAllWindows()"
   ]
  },
  {
   "cell_type": "markdown",
   "metadata": {},
   "source": [
    "# HOG"
   ]
  },
  {
   "cell_type": "code",
   "execution_count": null,
   "metadata": {},
   "outputs": [],
   "source": [
    "import dlib"
   ]
  },
  {
   "cell_type": "code",
   "execution_count": null,
   "metadata": {},
   "outputs": [],
   "source": [
    "imagem = cv2.imread('datasets/Images/people2.jpg')\n",
    "cv2.imshow(\"Imagem\", imagem)\n",
    "cv2.waitKey(0)\n",
    "cv2.destroyAllWindows()"
   ]
  },
  {
   "cell_type": "code",
   "execution_count": null,
   "metadata": {},
   "outputs": [],
   "source": [
    "detector_face_hog = dlib.get_frontal_face_detector()\n",
    "deteccoes = detector_face_hog(imagem, 1) # 1 é o número de vezes que a imagem será reduzida\n",
    "deteccoes, len(deteccoes)"
   ]
  },
  {
   "cell_type": "code",
   "execution_count": null,
   "metadata": {},
   "outputs": [],
   "source": [
    "for face in deteccoes:\n",
    "    l, t, r, b = face.left(), face.top(), face.right(), face.bottom()\n",
    "    cv2.rectangle(imagem, (l, t), (r, b), (0, 255, 255), 2)\n",
    "\n",
    "cv2.imshow(\"Deteccao HOG\", imagem)\n",
    "cv2.waitKey(0)\n",
    "cv2.destroyAllWindows()"
   ]
  },
  {
   "cell_type": "markdown",
   "metadata": {},
   "source": [
    "# Detecção de face com CNN"
   ]
  },
  {
   "cell_type": "code",
   "execution_count": null,
   "metadata": {},
   "outputs": [],
   "source": [
    "imagem = cv2.imread('datasets/Images/people2.jpg')\n",
    "detector_face_cnn = dlib.cnn_face_detection_model_v1('datasets/Cascades/mmod_human_face_detector.dat')\n",
    "\n",
    "deteccoes = detector_face_cnn(imagem, 1)\n",
    "\n",
    "for face in deteccoes:\n",
    "    l, t, r, b, c = (face.rect.left(), face.rect.top(), face.rect.right(), face.rect.bottom(), face.confidence)\n",
    "    cv2.rectangle(imagem, (l, t), (r, b), (0, 255, 255), 2)\n",
    "\n",
    "cv2.imshow(\"Deteccao CNN\", imagem)\n",
    "cv2.waitKey(0)\n",
    "cv2.destroyAllWindows()"
   ]
  },
  {
   "cell_type": "markdown",
   "metadata": {},
   "source": [
    "# Haarcascade x HOG x CNN"
   ]
  },
  {
   "cell_type": "markdown",
   "metadata": {},
   "source": [
    "## Haarcascade"
   ]
  },
  {
   "cell_type": "code",
   "execution_count": null,
   "metadata": {},
   "outputs": [],
   "source": [
    "imagem = cv2.imread('datasets/Images/people3.jpg')\n",
    "imagem_cinza = cv2.cvtColor(imagem, cv2.COLOR_BGR2GRAY)\n",
    "detector_haarcascade = cv2.CascadeClassifier('datasets/Cascades/haarcascade_frontalface_default.xml')\n",
    "deteccoes = detector_haarcascade.detectMultiScale(imagem_cinza, scaleFactor=1.001, minNeighbors=5, minSize=(5,5))\n",
    "for (x, y, w, h) in deteccoes:\n",
    "    cv2.rectangle(imagem, (x, y), (x+w, y+h), (0, 255, 255), 2)\n",
    "cv2.imshow(\"Deteccao Haar Cascade\", imagem)\n",
    "cv2.waitKey(0)\n",
    "cv2.destroyAllWindows()"
   ]
  },
  {
   "cell_type": "markdown",
   "metadata": {},
   "source": [
    "## HOG"
   ]
  },
  {
   "cell_type": "code",
   "execution_count": null,
   "metadata": {},
   "outputs": [],
   "source": [
    "imagem = cv2.imread('datasets/Images/people3.jpg')\n",
    "detector_hog = dlib.get_frontal_face_detector()\n",
    "deteccoes = detector_hog(imagem, 4)\n",
    "for face in deteccoes:\n",
    "    l, t, r, b = face.left(), face.top(), face.right(), face.bottom()\n",
    "    cv2.rectangle(imagem, (l, t), (r, b), (0, 255, 255), 2)\n",
    "cv2.imshow(\"Deteccao HOG\", imagem)\n",
    "cv2.waitKey(0)\n",
    "cv2.destroyAllWindows()"
   ]
  },
  {
   "cell_type": "markdown",
   "metadata": {},
   "source": [
    "## CNN"
   ]
  },
  {
   "cell_type": "markdown",
   "metadata": {},
   "source": [
    "imagem = cv2.imread('datasets/Images/people3.jpg')\n",
    "detector_face_cnn = dlib.cnn_face_detection_model_v1('datasets/Cascades/mmod_human_face_detector.dat')\n",
    "\n",
    "deteccoes = detector_face_cnn(imagem, 4)\n",
    "\n",
    "for face in deteccoes:\n",
    "    l, t, r, b, c = (face.rect.left(), face.rect.top(), face.rect.right(), face.rect.bottom(), face.confidence)\n",
    "    cv2.rectangle(imagem, (l, t), (r, b), (0, 255, 255), 2)\n",
    "\n",
    "cv2.imshow(\"Deteccao CNN\", imagem)\n",
    "cv2.waitKey(0)\n",
    "cv2.destroyAllWindows()"
   ]
  }
 ],
 "metadata": {
  "kernelspec": {
   "display_name": "base",
   "language": "python",
   "name": "python3"
  },
  "language_info": {
   "codemirror_mode": {
    "name": "ipython",
    "version": 3
   },
   "file_extension": ".py",
   "mimetype": "text/x-python",
   "name": "python",
   "nbconvert_exporter": "python",
   "pygments_lexer": "ipython3",
   "version": "3.10.9"
  }
 },
 "nbformat": 4,
 "nbformat_minor": 2
}
